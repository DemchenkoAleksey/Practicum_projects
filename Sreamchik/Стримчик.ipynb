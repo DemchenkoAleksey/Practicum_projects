{
 "cells": [
  {
   "cell_type": "markdown",
   "id": "7bbb24f1",
   "metadata": {},
   "source": [
    "# **Проект: интернет-магазин «Стримчик»**"
   ]
  },
  {
   "cell_type": "markdown",
   "id": "1e1cbaf3",
   "metadata": {},
   "source": [
    "Мы работаем в интернет-магазине «Стримчик», который продаёт по всему миру компьютерные игры. Из открытых источников доступны исторические данные о продажах игр, оценки пользователей и экспертов, жанры и платформы (например, Xbox или PlayStation). Нам нужно выявить определяющие успешность игры закономерности. Это позволит сделать ставку на потенциально популярный продукт и спланировать рекламные кампании.\n",
    "Перед нами данные до 2016 года. Представим, что сейчас декабрь 2016 г., и мы планируем кампанию на 2017-й"
   ]
  },
  {
   "cell_type": "markdown",
   "id": "432b6ef1",
   "metadata": {},
   "source": [
    "**Содержание:** <a class=\"anchor\" id=\"0-bullet\"></a>\n",
    "\n",
    "1. [Загрузка данных](#1-bullet)\n",
    "2. [Предобработка данных](#2-bullet)  \n",
    "    2.1 [Исправление названия колонок](#2.1-bullet)   \n",
    "    2.2 [Изменение типов данных](#2.2-bullet)   \n",
    "    2.3 [Проверка датафрема на дубликаты](#2.3-bullet)      \n",
    "    2.4 [Работа с пропусками](#2.4-bullet)  \n",
    "    2.5 [Общие продажи по регионам](#2.5-bullet)\n",
    "3. [Исследовательский анализ данных](#3-bullet)  \n",
    "    3.1 [Выпуск игр в зависимости от года](#3.1-bullet)  \n",
    "    3.2 [Зависимость продаж от платформы](#3.2-bullet)  \n",
    "    3.3 [Актуальный период](#3.3-bullet)  \n",
    "    3.4 [Какие платформы лидируют по продажам, растут или падают?](#3.4-bullet)  \n",
    "    3.5 [Глобальные продажи игр в разбивке по платформам](#3.5-bullet)  \n",
    "    3.6 [Как влияют на продажи внутри одной популярной платформы (PS4) отзывы пользователей и критиков](#3.6-bullet)  \n",
    "    3.7 [Как влияют на продажи отзывы пользователей и критиков для других платформ.](#3.7-bullet)  \n",
    "    3.8 [Общее распределение игр по жанрам.](#3.8-bullet)  \n",
    "4. [Составьте портрет пользователя каждого региона](#4-bullet)  \n",
    "    4.1 [Самые популярные платформы (топ-5)](#4.1-bullet)  \n",
    "    4.2 [Самые популярные жанры (топ-5)](#4.2-bullet)  \n",
    "    4.3 [Влияет ли рейтинг ESRB на продажи в отдельном регионе?](#4.3-bullet)      \n",
    "5. [Проверьте гипотезы](#5-bullet)  \n",
    "    5.1 [Средние пользовательские рейтинги платформ Xbox One и PC одинаковые](#5.1-bullet)  \n",
    "    5.2 [Средние пользовательские рейтинги жанров Action и Sports разные](#5.2-bullet)   \n",
    "6. [Общий вывод](#6-bullet)  "
   ]
  },
  {
   "cell_type": "markdown",
   "id": "37a7dee5",
   "metadata": {},
   "source": [
    "<font color='DarkBlue'><b>Комментарий ревьюера</b></font><br>\n",
    "<font color='DarkGreen'>👌 Хорошо, сделано описание проекта. 👍</font>"
   ]
  },
  {
   "cell_type": "markdown",
   "id": "2da534f7",
   "metadata": {},
   "source": [
    "**Описание данных**"
   ]
  },
  {
   "cell_type": "markdown",
   "id": "b57d2cda",
   "metadata": {},
   "source": [
    "- `Name` — название игры\n",
    "- `Platform` — платформа\n",
    "- `Year_of_Release` — год выпуска\n",
    "- `Genre` — жанр игры\n",
    "- `NA_sales` — продажи в Северной Америке (миллионы проданных копий)\n",
    "- `EU_sales` — продажи в Европе (миллионы проданных копий)\n",
    "- `JP_sales` — продажи в Японии (миллионы проданных копий)\n",
    "- `Other_sales` — продажи в других странах (миллионы проданных копий)\n",
    "- `Critic_Score` — оценка критиков (максимум 100)\n",
    "- `User_Score` — оценка пользователей (максимум 10)\n",
    "- `Rating` — рейтинг от организации ESRB (англ. Entertainment Software Rating Board). Эта ассоциация определяет рейтинг компьютерных игр и присваивает им подходящую возрастную категорию."
   ]
  },
  {
   "cell_type": "markdown",
   "id": "dc94d1aa",
   "metadata": {},
   "source": [
    "**Имортирование необходимых для анализа библиотек**"
   ]
  },
  {
   "cell_type": "code",
   "execution_count": 1,
   "id": "72576667",
   "metadata": {},
   "outputs": [],
   "source": [
    "import pandas as pd\n",
    "import matplotlib.pyplot as plt\n",
    "import seaborn as sns\n",
    "import numpy as np\n",
    "import re\n",
    "from scipy import stats as st"
   ]
  },
  {
   "cell_type": "markdown",
   "id": "c42cbe00",
   "metadata": {},
   "source": [
    "<a class=\"anchor\" id=\"1-bullet\"></a>\n",
    "## Загрузка данных"
   ]
  },
  {
   "cell_type": "markdown",
   "id": "ebd24c7a",
   "metadata": {},
   "source": [
    "Загрузка CSV файлов в Jupyter notebook"
   ]
  },
  {
   "cell_type": "code",
   "execution_count": 2,
   "id": "eff9f206",
   "metadata": {},
   "outputs": [],
   "source": [
    "try:\n",
    "    df = pd.read_csv(\"C:\\\\Data-science\\\\ds_csv\\\\games.csv\")\n",
    "except:\n",
    "    try:\n",
    "        df = pd.read_csv(\"//datasets//games.csv\")\n",
    "    except:\n",
    "        raise FileNotFoundError    "
   ]
  },
  {
   "cell_type": "markdown",
   "id": "dabb70b9",
   "metadata": {},
   "source": [
    "<font color='DarkBlue'><b>Комментарий ревьюера</b></font><br>\n",
    "<font color='DarkGreen'>👌 Очень хорошо, что используется код двойной загрузки, локально и с сервера. Часто в проектах возникают ошибки именно из-за не правильного пути к датасету.</font>"
   ]
  },
  {
   "cell_type": "markdown",
   "id": "81672844",
   "metadata": {},
   "source": [
    "Вывод информации и первых 5 строк о датафрейме"
   ]
  },
  {
   "cell_type": "code",
   "execution_count": 3,
   "id": "9a208cf5",
   "metadata": {},
   "outputs": [
    {
     "name": "stdout",
     "output_type": "stream",
     "text": [
      "<class 'pandas.core.frame.DataFrame'>\n",
      "RangeIndex: 16715 entries, 0 to 16714\n",
      "Data columns (total 11 columns):\n",
      " #   Column           Non-Null Count  Dtype  \n",
      "---  ------           --------------  -----  \n",
      " 0   Name             16713 non-null  object \n",
      " 1   Platform         16715 non-null  object \n",
      " 2   Year_of_Release  16446 non-null  float64\n",
      " 3   Genre            16713 non-null  object \n",
      " 4   NA_sales         16715 non-null  float64\n",
      " 5   EU_sales         16715 non-null  float64\n",
      " 6   JP_sales         16715 non-null  float64\n",
      " 7   Other_sales      16715 non-null  float64\n",
      " 8   Critic_Score     8137 non-null   float64\n",
      " 9   User_Score       10014 non-null  object \n",
      " 10  Rating           9949 non-null   object \n",
      "dtypes: float64(6), object(5)\n",
      "memory usage: 1.4+ MB\n"
     ]
    },
    {
     "data": {
      "text/html": [
       "<div>\n",
       "<style scoped>\n",
       "    .dataframe tbody tr th:only-of-type {\n",
       "        vertical-align: middle;\n",
       "    }\n",
       "\n",
       "    .dataframe tbody tr th {\n",
       "        vertical-align: top;\n",
       "    }\n",
       "\n",
       "    .dataframe thead th {\n",
       "        text-align: right;\n",
       "    }\n",
       "</style>\n",
       "<table border=\"1\" class=\"dataframe\">\n",
       "  <thead>\n",
       "    <tr style=\"text-align: right;\">\n",
       "      <th></th>\n",
       "      <th>Name</th>\n",
       "      <th>Platform</th>\n",
       "      <th>Year_of_Release</th>\n",
       "      <th>Genre</th>\n",
       "      <th>NA_sales</th>\n",
       "      <th>EU_sales</th>\n",
       "      <th>JP_sales</th>\n",
       "      <th>Other_sales</th>\n",
       "      <th>Critic_Score</th>\n",
       "      <th>User_Score</th>\n",
       "      <th>Rating</th>\n",
       "    </tr>\n",
       "  </thead>\n",
       "  <tbody>\n",
       "    <tr>\n",
       "      <th>0</th>\n",
       "      <td>Wii Sports</td>\n",
       "      <td>Wii</td>\n",
       "      <td>2006.0</td>\n",
       "      <td>Sports</td>\n",
       "      <td>41.36</td>\n",
       "      <td>28.96</td>\n",
       "      <td>3.77</td>\n",
       "      <td>8.45</td>\n",
       "      <td>76.0</td>\n",
       "      <td>8</td>\n",
       "      <td>E</td>\n",
       "    </tr>\n",
       "    <tr>\n",
       "      <th>1</th>\n",
       "      <td>Super Mario Bros.</td>\n",
       "      <td>NES</td>\n",
       "      <td>1985.0</td>\n",
       "      <td>Platform</td>\n",
       "      <td>29.08</td>\n",
       "      <td>3.58</td>\n",
       "      <td>6.81</td>\n",
       "      <td>0.77</td>\n",
       "      <td>NaN</td>\n",
       "      <td>NaN</td>\n",
       "      <td>NaN</td>\n",
       "    </tr>\n",
       "    <tr>\n",
       "      <th>2</th>\n",
       "      <td>Mario Kart Wii</td>\n",
       "      <td>Wii</td>\n",
       "      <td>2008.0</td>\n",
       "      <td>Racing</td>\n",
       "      <td>15.68</td>\n",
       "      <td>12.76</td>\n",
       "      <td>3.79</td>\n",
       "      <td>3.29</td>\n",
       "      <td>82.0</td>\n",
       "      <td>8.3</td>\n",
       "      <td>E</td>\n",
       "    </tr>\n",
       "    <tr>\n",
       "      <th>3</th>\n",
       "      <td>Wii Sports Resort</td>\n",
       "      <td>Wii</td>\n",
       "      <td>2009.0</td>\n",
       "      <td>Sports</td>\n",
       "      <td>15.61</td>\n",
       "      <td>10.93</td>\n",
       "      <td>3.28</td>\n",
       "      <td>2.95</td>\n",
       "      <td>80.0</td>\n",
       "      <td>8</td>\n",
       "      <td>E</td>\n",
       "    </tr>\n",
       "    <tr>\n",
       "      <th>4</th>\n",
       "      <td>Pokemon Red/Pokemon Blue</td>\n",
       "      <td>GB</td>\n",
       "      <td>1996.0</td>\n",
       "      <td>Role-Playing</td>\n",
       "      <td>11.27</td>\n",
       "      <td>8.89</td>\n",
       "      <td>10.22</td>\n",
       "      <td>1.00</td>\n",
       "      <td>NaN</td>\n",
       "      <td>NaN</td>\n",
       "      <td>NaN</td>\n",
       "    </tr>\n",
       "  </tbody>\n",
       "</table>\n",
       "</div>"
      ],
      "text/plain": [
       "                       Name Platform  Year_of_Release         Genre  NA_sales  \\\n",
       "0                Wii Sports      Wii           2006.0        Sports     41.36   \n",
       "1         Super Mario Bros.      NES           1985.0      Platform     29.08   \n",
       "2            Mario Kart Wii      Wii           2008.0        Racing     15.68   \n",
       "3         Wii Sports Resort      Wii           2009.0        Sports     15.61   \n",
       "4  Pokemon Red/Pokemon Blue       GB           1996.0  Role-Playing     11.27   \n",
       "\n",
       "   EU_sales  JP_sales  Other_sales  Critic_Score User_Score Rating  \n",
       "0     28.96      3.77         8.45          76.0          8      E  \n",
       "1      3.58      6.81         0.77           NaN        NaN    NaN  \n",
       "2     12.76      3.79         3.29          82.0        8.3      E  \n",
       "3     10.93      3.28         2.95          80.0          8      E  \n",
       "4      8.89     10.22         1.00           NaN        NaN    NaN  "
      ]
     },
     "execution_count": 3,
     "metadata": {},
     "output_type": "execute_result"
    }
   ],
   "source": [
    "df.info()\n",
    "df.head()"
   ]
  },
  {
   "cell_type": "markdown",
   "id": "81706605",
   "metadata": {},
   "source": [
    "Вывод статистической сводки для каждого столбца датафрейме"
   ]
  },
  {
   "cell_type": "code",
   "execution_count": 4,
   "id": "c547ca51",
   "metadata": {},
   "outputs": [
    {
     "data": {
      "text/html": [
       "<div>\n",
       "<style scoped>\n",
       "    .dataframe tbody tr th:only-of-type {\n",
       "        vertical-align: middle;\n",
       "    }\n",
       "\n",
       "    .dataframe tbody tr th {\n",
       "        vertical-align: top;\n",
       "    }\n",
       "\n",
       "    .dataframe thead th {\n",
       "        text-align: right;\n",
       "    }\n",
       "</style>\n",
       "<table border=\"1\" class=\"dataframe\">\n",
       "  <thead>\n",
       "    <tr style=\"text-align: right;\">\n",
       "      <th></th>\n",
       "      <th>Year_of_Release</th>\n",
       "      <th>NA_sales</th>\n",
       "      <th>EU_sales</th>\n",
       "      <th>JP_sales</th>\n",
       "      <th>Other_sales</th>\n",
       "      <th>Critic_Score</th>\n",
       "    </tr>\n",
       "  </thead>\n",
       "  <tbody>\n",
       "    <tr>\n",
       "      <th>count</th>\n",
       "      <td>16446.000</td>\n",
       "      <td>16715.000</td>\n",
       "      <td>16715.000</td>\n",
       "      <td>16715.000</td>\n",
       "      <td>16715.000</td>\n",
       "      <td>8137.000</td>\n",
       "    </tr>\n",
       "    <tr>\n",
       "      <th>mean</th>\n",
       "      <td>2006.485</td>\n",
       "      <td>0.263</td>\n",
       "      <td>0.145</td>\n",
       "      <td>0.078</td>\n",
       "      <td>0.047</td>\n",
       "      <td>68.968</td>\n",
       "    </tr>\n",
       "    <tr>\n",
       "      <th>std</th>\n",
       "      <td>5.877</td>\n",
       "      <td>0.814</td>\n",
       "      <td>0.503</td>\n",
       "      <td>0.309</td>\n",
       "      <td>0.187</td>\n",
       "      <td>13.938</td>\n",
       "    </tr>\n",
       "    <tr>\n",
       "      <th>min</th>\n",
       "      <td>1980.000</td>\n",
       "      <td>0.000</td>\n",
       "      <td>0.000</td>\n",
       "      <td>0.000</td>\n",
       "      <td>0.000</td>\n",
       "      <td>13.000</td>\n",
       "    </tr>\n",
       "    <tr>\n",
       "      <th>25%</th>\n",
       "      <td>2003.000</td>\n",
       "      <td>0.000</td>\n",
       "      <td>0.000</td>\n",
       "      <td>0.000</td>\n",
       "      <td>0.000</td>\n",
       "      <td>60.000</td>\n",
       "    </tr>\n",
       "    <tr>\n",
       "      <th>50%</th>\n",
       "      <td>2007.000</td>\n",
       "      <td>0.080</td>\n",
       "      <td>0.020</td>\n",
       "      <td>0.000</td>\n",
       "      <td>0.010</td>\n",
       "      <td>71.000</td>\n",
       "    </tr>\n",
       "    <tr>\n",
       "      <th>75%</th>\n",
       "      <td>2010.000</td>\n",
       "      <td>0.240</td>\n",
       "      <td>0.110</td>\n",
       "      <td>0.040</td>\n",
       "      <td>0.030</td>\n",
       "      <td>79.000</td>\n",
       "    </tr>\n",
       "    <tr>\n",
       "      <th>max</th>\n",
       "      <td>2016.000</td>\n",
       "      <td>41.360</td>\n",
       "      <td>28.960</td>\n",
       "      <td>10.220</td>\n",
       "      <td>10.570</td>\n",
       "      <td>98.000</td>\n",
       "    </tr>\n",
       "  </tbody>\n",
       "</table>\n",
       "</div>"
      ],
      "text/plain": [
       "       Year_of_Release   NA_sales   EU_sales   JP_sales  Other_sales  \\\n",
       "count        16446.000  16715.000  16715.000  16715.000    16715.000   \n",
       "mean          2006.485      0.263      0.145      0.078        0.047   \n",
       "std              5.877      0.814      0.503      0.309        0.187   \n",
       "min           1980.000      0.000      0.000      0.000        0.000   \n",
       "25%           2003.000      0.000      0.000      0.000        0.000   \n",
       "50%           2007.000      0.080      0.020      0.000        0.010   \n",
       "75%           2010.000      0.240      0.110      0.040        0.030   \n",
       "max           2016.000     41.360     28.960     10.220       10.570   \n",
       "\n",
       "       Critic_Score  \n",
       "count      8137.000  \n",
       "mean         68.968  \n",
       "std          13.938  \n",
       "min          13.000  \n",
       "25%          60.000  \n",
       "50%          71.000  \n",
       "75%          79.000  \n",
       "max          98.000  "
      ]
     },
     "execution_count": 4,
     "metadata": {},
     "output_type": "execute_result"
    }
   ],
   "source": [
    "df.describe().round(3)"
   ]
  },
  {
   "cell_type": "markdown",
   "id": "9f17db51",
   "metadata": {},
   "source": [
    "Определение процента пропусков в датафрейме"
   ]
  },
  {
   "cell_type": "code",
   "execution_count": 5,
   "id": "dcef0ce4",
   "metadata": {},
   "outputs": [
    {
     "name": "stdout",
     "output_type": "stream",
     "text": [
      "\u001b[1mПроцент пропусков от всего датасета:\u001b[0m\n",
      "\n",
      "Critic_Score       51.3%\n",
      "Rating             40.5%\n",
      "User_Score         40.1%\n",
      "Year_of_Release     1.6%\n",
      "Name                0.0%\n",
      "Genre               0.0%\n",
      "Platform            0.0%\n",
      "NA_sales            0.0%\n",
      "EU_sales            0.0%\n",
      "JP_sales            0.0%\n",
      "Other_sales         0.0%\n",
      "dtype: object\n"
     ]
    }
   ],
   "source": [
    "print(\"\\033[1mПроцент пропусков от всего датасета:\\033[0m\")\n",
    "print()\n",
    "formatted_output = df.isna().mean().sort_values(ascending=False).apply(lambda x: \"{:.1%}\".format(x))\n",
    "print(formatted_output)"
   ]
  },
  {
   "cell_type": "markdown",
   "id": "9a1e08a9",
   "metadata": {},
   "source": [
    "**Выводы**:\n",
    "- Некорректные название столбцов, (не удволетворяют форомату snake_case)\n",
    "- Столбцы `Year_of_Release`, `User_Score` имеют не подходящий тип данных.\n",
    "- Имеется большое кол-во пропусков в колонках `Critic_Score` (51.3% пропусков), `Rating` (40.1% пропусков), `User_Score` (40.1% пропусков), `Year_of_Release` (1.6% пропусков)."
   ]
  },
  {
   "cell_type": "markdown",
   "id": "e95ebca7",
   "metadata": {},
   "source": [
    "<a class=\"anchor\" id=\"2-bullet\"></a>\n",
    "## Предобработка данных"
   ]
  },
  {
   "cell_type": "markdown",
   "id": "d5f765c7",
   "metadata": {},
   "source": [
    "<a class=\"anchor\" id=\"2.1-bullet\"></a>\n",
    "### Исправление названия колонок"
   ]
  },
  {
   "cell_type": "code",
   "execution_count": 6,
   "id": "52012127",
   "metadata": {},
   "outputs": [
    {
     "data": {
      "text/plain": [
       "Index(['name', 'platform', 'year_of_release', 'genre', 'na_sales', 'eu_sales',\n",
       "       'jp_sales', 'other_sales', 'critic_score', 'user_score', 'rating'],\n",
       "      dtype='object')"
      ]
     },
     "execution_count": 6,
     "metadata": {},
     "output_type": "execute_result"
    }
   ],
   "source": [
    "# Приведение названий колонок к нижнему регистру\n",
    "df.columns = df.columns.str.lower()\n",
    "# Проверка\n",
    "df.columns"
   ]
  },
  {
   "cell_type": "markdown",
   "id": "65779d57",
   "metadata": {},
   "source": [
    "Приведение названия колонок к формату snake_case прошло успешно"
   ]
  },
  {
   "cell_type": "markdown",
   "id": "0bf488b8",
   "metadata": {},
   "source": [
    "<a class=\"anchor\" id=\"2.2-bullet\"></a>\n",
    "### Изменение типов данных"
   ]
  },
  {
   "cell_type": "code",
   "execution_count": 7,
   "id": "e7b19bc6",
   "metadata": {},
   "outputs": [
    {
     "data": {
      "text/plain": [
       "array(['8', nan, '8.3', '8.5', '6.6', '8.4', '8.6', '7.7', '6.3', '7.4',\n",
       "       '8.2', '9', '7.9', '8.1', '8.7', '7.1', '3.4', '5.3', '4.8', '3.2',\n",
       "       '8.9', '6.4', '7.8', '7.5', '2.6', '7.2', '9.2', '7', '7.3', '4.3',\n",
       "       '7.6', '5.7', '5', '9.1', '6.5', 'tbd', '8.8', '6.9', '9.4', '6.8',\n",
       "       '6.1', '6.7', '5.4', '4', '4.9', '4.5', '9.3', '6.2', '4.2', '6',\n",
       "       '3.7', '4.1', '5.8', '5.6', '5.5', '4.4', '4.6', '5.9', '3.9',\n",
       "       '3.1', '2.9', '5.2', '3.3', '4.7', '5.1', '3.5', '2.5', '1.9', '3',\n",
       "       '2.7', '2.2', '2', '9.5', '2.1', '3.6', '2.8', '1.8', '3.8', '0',\n",
       "       '1.6', '9.6', '2.4', '1.7', '1.1', '0.3', '1.5', '0.7', '1.2',\n",
       "       '2.3', '0.5', '1.3', '0.2', '0.6', '1.4', '0.9', '1', '9.7'],\n",
       "      dtype=object)"
      ]
     },
     "execution_count": 7,
     "metadata": {},
     "output_type": "execute_result"
    }
   ],
   "source": [
    "df['user_score'].unique()"
   ]
  },
  {
   "cell_type": "markdown",
   "id": "5fe54829",
   "metadata": {},
   "source": [
    "TBD - аббревиатура от английского To Be Determined (будет определено) или To Be Decided (будет решено). Используется, если какая-то информация еще не определена или решение по вопросу не принято. Т.е. TBD и Nan для нашего анализа имеет одинаковое значение. поэтому заменим все TBD на Nan."
   ]
  },
  {
   "cell_type": "code",
   "execution_count": 8,
   "id": "a10a0ede",
   "metadata": {},
   "outputs": [],
   "source": [
    "# Замена tbd на Nan\n",
    "df['user_score'] = df['user_score'].replace('tbd', np.NaN)"
   ]
  },
  {
   "cell_type": "code",
   "execution_count": 9,
   "id": "19f3156a",
   "metadata": {},
   "outputs": [
    {
     "name": "stdout",
     "output_type": "stream",
     "text": [
      "<class 'pandas.core.frame.DataFrame'>\n",
      "RangeIndex: 16715 entries, 0 to 16714\n",
      "Data columns (total 11 columns):\n",
      " #   Column           Non-Null Count  Dtype  \n",
      "---  ------           --------------  -----  \n",
      " 0   name             16713 non-null  object \n",
      " 1   platform         16715 non-null  object \n",
      " 2   year_of_release  16446 non-null  Int64  \n",
      " 3   genre            16713 non-null  object \n",
      " 4   na_sales         16715 non-null  float64\n",
      " 5   eu_sales         16715 non-null  float64\n",
      " 6   jp_sales         16715 non-null  float64\n",
      " 7   other_sales      16715 non-null  float64\n",
      " 8   critic_score     8137 non-null   float64\n",
      " 9   user_score       7590 non-null   float64\n",
      " 10  rating           9949 non-null   object \n",
      "dtypes: Int64(1), float64(6), object(4)\n",
      "memory usage: 1.4+ MB\n"
     ]
    }
   ],
   "source": [
    "# Изменение типов данных\n",
    "df['user_score'] = df['user_score'].astype('float')\n",
    "df['year_of_release'] = df['year_of_release'].astype('Int64')\n",
    "# Проверка\n",
    "df.info()"
   ]
  },
  {
   "cell_type": "markdown",
   "id": "b13ff08e",
   "metadata": {},
   "source": [
    "Для столбцов `user_score`, `year_of_release` были изменены типы данных. Данные столбца `user_score` - это числа и пропуски (Nan) поэтому для дальнейшего анализа было принято решение поменять тип данных с `object` на `float64`, что поможет в дальнейшем применять к этому столбцу методы (median, sum, mean, ...).   \n",
    "Данные столбца `year_of_release` - это время (год выпуска). Оно не бывает дробным, поэтому его можно перевести в формат `Int64` поддерживающий пропуски (Nan)."
   ]
  },
  {
   "cell_type": "markdown",
   "id": "79529398",
   "metadata": {},
   "source": [
    "<a class=\"anchor\" id=\"2.3-bullet\"></a>\n",
    "### Проверка датафрема на дубликаты"
   ]
  },
  {
   "cell_type": "markdown",
   "id": "92cd263a",
   "metadata": {},
   "source": [
    "**Явные**"
   ]
  },
  {
   "cell_type": "code",
   "execution_count": 10,
   "id": "9d2e3f2d",
   "metadata": {},
   "outputs": [
    {
     "name": "stdout",
     "output_type": "stream",
     "text": [
      "Явных дубликатов НЕТ\n"
     ]
    }
   ],
   "source": [
    "print('Явных дубликатов: ' if df.duplicated().sum() > 0 else 'Явных дубликатов НЕТ')"
   ]
  },
  {
   "cell_type": "markdown",
   "id": "a82f8226",
   "metadata": {},
   "source": [
    "**Неявные**"
   ]
  },
  {
   "cell_type": "code",
   "execution_count": 11,
   "id": "cbd0ae4e",
   "metadata": {},
   "outputs": [
    {
     "data": {
      "text/plain": [
       "array(['Wii', 'NES', 'GB', 'DS', 'X360', 'PS3', 'PS2', 'SNES', 'GBA',\n",
       "       'PS4', '3DS', 'N64', 'PS', 'XB', 'PC', '2600', 'PSP', 'XOne',\n",
       "       'WiiU', 'GC', 'GEN', 'DC', 'PSV', 'SAT', 'SCD', 'WS', 'NG', 'TG16',\n",
       "       '3DO', 'GG', 'PCFX'], dtype=object)"
      ]
     },
     "execution_count": 11,
     "metadata": {},
     "output_type": "execute_result"
    }
   ],
   "source": [
    "df['platform'].unique()"
   ]
  },
  {
   "cell_type": "markdown",
   "id": "73430a0b",
   "metadata": {},
   "source": [
    "Дубликатов платформ не обнаружено"
   ]
  },
  {
   "cell_type": "code",
   "execution_count": 12,
   "id": "d65e92e9",
   "metadata": {},
   "outputs": [
    {
     "data": {
      "text/html": [
       "<div>\n",
       "<style scoped>\n",
       "    .dataframe tbody tr th:only-of-type {\n",
       "        vertical-align: middle;\n",
       "    }\n",
       "\n",
       "    .dataframe tbody tr th {\n",
       "        vertical-align: top;\n",
       "    }\n",
       "\n",
       "    .dataframe thead th {\n",
       "        text-align: right;\n",
       "    }\n",
       "</style>\n",
       "<table border=\"1\" class=\"dataframe\">\n",
       "  <thead>\n",
       "    <tr style=\"text-align: right;\">\n",
       "      <th></th>\n",
       "      <th>name</th>\n",
       "      <th>platform</th>\n",
       "      <th>year_of_release</th>\n",
       "      <th>genre</th>\n",
       "      <th>na_sales</th>\n",
       "      <th>eu_sales</th>\n",
       "      <th>jp_sales</th>\n",
       "      <th>other_sales</th>\n",
       "      <th>critic_score</th>\n",
       "      <th>user_score</th>\n",
       "      <th>rating</th>\n",
       "    </tr>\n",
       "  </thead>\n",
       "  <tbody>\n",
       "    <tr>\n",
       "      <th>14944</th>\n",
       "      <td>atari flashback classics volume</td>\n",
       "      <td>PS4</td>\n",
       "      <td>2016</td>\n",
       "      <td>Misc</td>\n",
       "      <td>0.02</td>\n",
       "      <td>0.00</td>\n",
       "      <td>0.00</td>\n",
       "      <td>0.00</td>\n",
       "      <td>NaN</td>\n",
       "      <td>NaN</td>\n",
       "      <td>E</td>\n",
       "    </tr>\n",
       "    <tr>\n",
       "      <th>15056</th>\n",
       "      <td>atari flashback classics volume</td>\n",
       "      <td>PS4</td>\n",
       "      <td>2016</td>\n",
       "      <td>Misc</td>\n",
       "      <td>0.02</td>\n",
       "      <td>0.00</td>\n",
       "      <td>0.00</td>\n",
       "      <td>0.00</td>\n",
       "      <td>NaN</td>\n",
       "      <td>NaN</td>\n",
       "      <td>E</td>\n",
       "    </tr>\n",
       "    <tr>\n",
       "      <th>15364</th>\n",
       "      <td>atari flashback classics volume</td>\n",
       "      <td>XOne</td>\n",
       "      <td>2016</td>\n",
       "      <td>Misc</td>\n",
       "      <td>0.02</td>\n",
       "      <td>0.00</td>\n",
       "      <td>0.00</td>\n",
       "      <td>0.00</td>\n",
       "      <td>NaN</td>\n",
       "      <td>NaN</td>\n",
       "      <td>E</td>\n",
       "    </tr>\n",
       "    <tr>\n",
       "      <th>15401</th>\n",
       "      <td>atari flashback classics volume</td>\n",
       "      <td>XOne</td>\n",
       "      <td>2016</td>\n",
       "      <td>Misc</td>\n",
       "      <td>0.02</td>\n",
       "      <td>0.00</td>\n",
       "      <td>0.00</td>\n",
       "      <td>0.00</td>\n",
       "      <td>NaN</td>\n",
       "      <td>NaN</td>\n",
       "      <td>E</td>\n",
       "    </tr>\n",
       "    <tr>\n",
       "      <th>10469</th>\n",
       "      <td>brain quest grades</td>\n",
       "      <td>DS</td>\n",
       "      <td>2008</td>\n",
       "      <td>Misc</td>\n",
       "      <td>0.10</td>\n",
       "      <td>0.00</td>\n",
       "      <td>0.00</td>\n",
       "      <td>0.01</td>\n",
       "      <td>NaN</td>\n",
       "      <td>NaN</td>\n",
       "      <td>NaN</td>\n",
       "    </tr>\n",
       "    <tr>\n",
       "      <th>...</th>\n",
       "      <td>...</td>\n",
       "      <td>...</td>\n",
       "      <td>...</td>\n",
       "      <td>...</td>\n",
       "      <td>...</td>\n",
       "      <td>...</td>\n",
       "      <td>...</td>\n",
       "      <td>...</td>\n",
       "      <td>...</td>\n",
       "      <td>...</td>\n",
       "      <td>...</td>\n",
       "    </tr>\n",
       "    <tr>\n",
       "      <th>9995</th>\n",
       "      <td>yakuza</td>\n",
       "      <td>PS3</td>\n",
       "      <td>2012</td>\n",
       "      <td>Action</td>\n",
       "      <td>0.00</td>\n",
       "      <td>0.00</td>\n",
       "      <td>0.11</td>\n",
       "      <td>0.00</td>\n",
       "      <td>NaN</td>\n",
       "      <td>NaN</td>\n",
       "      <td>NaN</td>\n",
       "    </tr>\n",
       "    <tr>\n",
       "      <th>6202</th>\n",
       "      <td>yugioh world championship</td>\n",
       "      <td>DS</td>\n",
       "      <td>2007</td>\n",
       "      <td>Strategy</td>\n",
       "      <td>0.13</td>\n",
       "      <td>0.02</td>\n",
       "      <td>0.12</td>\n",
       "      <td>0.01</td>\n",
       "      <td>NaN</td>\n",
       "      <td>NaN</td>\n",
       "      <td>NaN</td>\n",
       "    </tr>\n",
       "    <tr>\n",
       "      <th>13328</th>\n",
       "      <td>yugioh world championship</td>\n",
       "      <td>DS</td>\n",
       "      <td>2007</td>\n",
       "      <td>Strategy</td>\n",
       "      <td>0.00</td>\n",
       "      <td>0.01</td>\n",
       "      <td>0.04</td>\n",
       "      <td>0.00</td>\n",
       "      <td>NaN</td>\n",
       "      <td>NaN</td>\n",
       "      <td>NaN</td>\n",
       "    </tr>\n",
       "    <tr>\n",
       "      <th>659</th>\n",
       "      <td>NaN</td>\n",
       "      <td>GEN</td>\n",
       "      <td>1993</td>\n",
       "      <td>NaN</td>\n",
       "      <td>1.78</td>\n",
       "      <td>0.53</td>\n",
       "      <td>0.00</td>\n",
       "      <td>0.08</td>\n",
       "      <td>NaN</td>\n",
       "      <td>NaN</td>\n",
       "      <td>NaN</td>\n",
       "    </tr>\n",
       "    <tr>\n",
       "      <th>14244</th>\n",
       "      <td>NaN</td>\n",
       "      <td>GEN</td>\n",
       "      <td>1993</td>\n",
       "      <td>NaN</td>\n",
       "      <td>0.00</td>\n",
       "      <td>0.00</td>\n",
       "      <td>0.03</td>\n",
       "      <td>0.00</td>\n",
       "      <td>NaN</td>\n",
       "      <td>NaN</td>\n",
       "      <td>NaN</td>\n",
       "    </tr>\n",
       "  </tbody>\n",
       "</table>\n",
       "<p>214 rows × 11 columns</p>\n",
       "</div>"
      ],
      "text/plain": [
       "                                  name platform  year_of_release     genre  \\\n",
       "14944  atari flashback classics volume      PS4             2016      Misc   \n",
       "15056  atari flashback classics volume      PS4             2016      Misc   \n",
       "15364  atari flashback classics volume     XOne             2016      Misc   \n",
       "15401  atari flashback classics volume     XOne             2016      Misc   \n",
       "10469               brain quest grades       DS             2008      Misc   \n",
       "...                                ...      ...              ...       ...   \n",
       "9995                            yakuza      PS3             2012    Action   \n",
       "6202         yugioh world championship       DS             2007  Strategy   \n",
       "13328        yugioh world championship       DS             2007  Strategy   \n",
       "659                                NaN      GEN             1993       NaN   \n",
       "14244                              NaN      GEN             1993       NaN   \n",
       "\n",
       "       na_sales  eu_sales  jp_sales  other_sales  critic_score  user_score  \\\n",
       "14944      0.02      0.00      0.00         0.00           NaN         NaN   \n",
       "15056      0.02      0.00      0.00         0.00           NaN         NaN   \n",
       "15364      0.02      0.00      0.00         0.00           NaN         NaN   \n",
       "15401      0.02      0.00      0.00         0.00           NaN         NaN   \n",
       "10469      0.10      0.00      0.00         0.01           NaN         NaN   \n",
       "...         ...       ...       ...          ...           ...         ...   \n",
       "9995       0.00      0.00      0.11         0.00           NaN         NaN   \n",
       "6202       0.13      0.02      0.12         0.01           NaN         NaN   \n",
       "13328      0.00      0.01      0.04         0.00           NaN         NaN   \n",
       "659        1.78      0.53      0.00         0.08           NaN         NaN   \n",
       "14244      0.00      0.00      0.03         0.00           NaN         NaN   \n",
       "\n",
       "      rating  \n",
       "14944      E  \n",
       "15056      E  \n",
       "15364      E  \n",
       "15401      E  \n",
       "10469    NaN  \n",
       "...      ...  \n",
       "9995     NaN  \n",
       "6202     NaN  \n",
       "13328    NaN  \n",
       "659      NaN  \n",
       "14244    NaN  \n",
       "\n",
       "[214 rows x 11 columns]"
      ]
     },
     "execution_count": 12,
     "metadata": {},
     "output_type": "execute_result"
    }
   ],
   "source": [
    "# Функция для очистки названия\n",
    "def clean_name(row):\n",
    "    if pd.isna(row['name']):\n",
    "        return row['name']  # Вернуть NaN без изменений\n",
    "    return re.sub(r'[^а-яА-ЯёЁa-zA-Z ]', '', row['name']).strip().lower()\n",
    "\n",
    "# Создаем новую очищенную колонку\n",
    "df['name'] = df.apply(clean_name, axis=1)\n",
    "\n",
    "# Посмотрим количество дублей по составному ключу `очищенное название - платформа - год выпуска`\n",
    "df[df.duplicated(subset=['name', 'platform', 'year_of_release'], keep=False)] \\\n",
    ".sort_values(['name', 'platform', 'year_of_release'])"
   ]
  },
  {
   "cell_type": "code",
   "execution_count": 13,
   "id": "c0f17c94",
   "metadata": {},
   "outputs": [
    {
     "name": "stdout",
     "output_type": "stream",
     "text": [
      "Было удалено 113 строк\n"
     ]
    },
    {
     "data": {
      "text/plain": [
       "0"
      ]
     },
     "execution_count": 13,
     "metadata": {},
     "output_type": "execute_result"
    }
   ],
   "source": [
    "# Проверка до\n",
    "before = df.shape[0]\n",
    "# Удаляем дубликаты по составному ключу\n",
    "df = df.drop_duplicates(subset=['name', 'platform', 'year_of_release'], keep='first').reset_index(drop=True)\n",
    "# Проверка после\n",
    "after = df.shape[0]\n",
    "print(f'Было удалено {before - after} строк')\n",
    "\n",
    "# посмотрим оставшееся количество дублей по составному ключу `название - платформа`\n",
    "df.duplicated(subset=['name', 'platform', 'year_of_release']).sum()"
   ]
  },
  {
   "cell_type": "markdown",
   "id": "fb6b1cd0",
   "metadata": {},
   "source": [
    "**Вывод:** В ходе обработки неявных пропусков было удалено 113 строк"
   ]
  },
  {
   "cell_type": "markdown",
   "id": "28a914bf",
   "metadata": {},
   "source": [
    "<a class=\"anchor\" id=\"2.4-bullet\"></a>\n",
    "### Работа с пропусками"
   ]
  },
  {
   "cell_type": "markdown",
   "id": "389701cf",
   "metadata": {},
   "source": [
    "Пропуски в стобцах `name` и `genre`"
   ]
  },
  {
   "cell_type": "code",
   "execution_count": 14,
   "id": "d9c01df0",
   "metadata": {},
   "outputs": [
    {
     "data": {
      "text/html": [
       "<div>\n",
       "<style scoped>\n",
       "    .dataframe tbody tr th:only-of-type {\n",
       "        vertical-align: middle;\n",
       "    }\n",
       "\n",
       "    .dataframe tbody tr th {\n",
       "        vertical-align: top;\n",
       "    }\n",
       "\n",
       "    .dataframe thead th {\n",
       "        text-align: right;\n",
       "    }\n",
       "</style>\n",
       "<table border=\"1\" class=\"dataframe\">\n",
       "  <thead>\n",
       "    <tr style=\"text-align: right;\">\n",
       "      <th></th>\n",
       "      <th>name</th>\n",
       "      <th>platform</th>\n",
       "      <th>year_of_release</th>\n",
       "      <th>genre</th>\n",
       "      <th>na_sales</th>\n",
       "      <th>eu_sales</th>\n",
       "      <th>jp_sales</th>\n",
       "      <th>other_sales</th>\n",
       "      <th>critic_score</th>\n",
       "      <th>user_score</th>\n",
       "      <th>rating</th>\n",
       "    </tr>\n",
       "  </thead>\n",
       "  <tbody>\n",
       "    <tr>\n",
       "      <th>658</th>\n",
       "      <td>NaN</td>\n",
       "      <td>GEN</td>\n",
       "      <td>1993</td>\n",
       "      <td>NaN</td>\n",
       "      <td>1.78</td>\n",
       "      <td>0.53</td>\n",
       "      <td>0.0</td>\n",
       "      <td>0.08</td>\n",
       "      <td>NaN</td>\n",
       "      <td>NaN</td>\n",
       "      <td>NaN</td>\n",
       "    </tr>\n",
       "  </tbody>\n",
       "</table>\n",
       "</div>"
      ],
      "text/plain": [
       "    name platform  year_of_release genre  na_sales  eu_sales  jp_sales  \\\n",
       "658  NaN      GEN             1993   NaN      1.78      0.53       0.0   \n",
       "\n",
       "     other_sales  critic_score  user_score rating  \n",
       "658         0.08           NaN         NaN    NaN  "
      ]
     },
     "execution_count": 14,
     "metadata": {},
     "output_type": "execute_result"
    }
   ],
   "source": [
    "df.query('name.isnull() | genre.isnull()')"
   ]
  },
  {
   "cell_type": "markdown",
   "id": "395d4bfd",
   "metadata": {},
   "source": [
    "Пропуски в столбце `name` и `genre` невозможно заполнить какими либо данными, а сами строки не несут смысловой нагрузки, поэтому их можно удалить"
   ]
  },
  {
   "cell_type": "code",
   "execution_count": 15,
   "id": "53bc1384",
   "metadata": {},
   "outputs": [
    {
     "data": {
      "text/plain": [
       "16602"
      ]
     },
     "metadata": {},
     "output_type": "display_data"
    },
    {
     "data": {
      "text/plain": [
       "16601"
      ]
     },
     "execution_count": 15,
     "metadata": {},
     "output_type": "execute_result"
    }
   ],
   "source": [
    "# Количество строк до удаления\n",
    "display(df.shape[0]) \n",
    "# Удаление строк, где есть пропуски в столбцах 'name' и 'genre'\n",
    "df = df.dropna(subset=['name', 'genre'])\n",
    "# Количество строк после удаления\n",
    "df.shape[0]"
   ]
  },
  {
   "cell_type": "markdown",
   "id": "6aefcf3a",
   "metadata": {},
   "source": [
    "Пропуски в стобце `year_of_release`"
   ]
  },
  {
   "cell_type": "markdown",
   "id": "9cdefbb6",
   "metadata": {},
   "source": [
    "Пропущенные значения в столбце `year_of_release` имеют очень редкий характер (1.6 % от всего датасета), а также сложную логику, поэтому заполнить эти значения не представляется возможным. Для улучшения качества датафрейма строки с данными пропусками лучше удалить. Это не повлияет на общий анализ."
   ]
  },
  {
   "cell_type": "code",
   "execution_count": 16,
   "id": "b53536d1",
   "metadata": {},
   "outputs": [
    {
     "data": {
      "text/plain": [
       "16601"
      ]
     },
     "metadata": {},
     "output_type": "display_data"
    },
    {
     "data": {
      "text/plain": [
       "16333"
      ]
     },
     "execution_count": 16,
     "metadata": {},
     "output_type": "execute_result"
    }
   ],
   "source": [
    "# Количество строк до удаления\n",
    "display(df.shape[0])\n",
    "df = df.dropna(subset=['year_of_release'])\n",
    "# Количество строк после удаления\n",
    "df.shape[0]"
   ]
  },
  {
   "cell_type": "markdown",
   "id": "8b888270",
   "metadata": {},
   "source": [
    "`critic_score`, `user_score`, `rating`."
   ]
  },
  {
   "cell_type": "code",
   "execution_count": 17,
   "id": "1f6c6521",
   "metadata": {},
   "outputs": [
    {
     "data": {
      "text/plain": [
       "array(['E', nan, 'M', 'T', 'E10+', 'K-A', 'AO', 'EC', 'RP'], dtype=object)"
      ]
     },
     "execution_count": 17,
     "metadata": {},
     "output_type": "execute_result"
    }
   ],
   "source": [
    "df['rating'].unique()"
   ]
  },
  {
   "cell_type": "markdown",
   "id": "c643bc46",
   "metadata": {},
   "source": [
    "**Основные категории рейтингов ESRB:**\n",
    "- EC (Early Childhood) – Для детей младшего возраста (от 3 лет и старше). Эти игры не содержат материалов, неподходящих для младенцев и маленьких детей.   \n",
    "- E (Everyone) – Для всех (от 6 лет и старше). Игры с рейтингом E могут включать минимальное количество мультяшного насилия и фантастического контента.   \n",
    "- E10+ (Everyone 10 and Older) – Для всех от 10 лет. Эти игры могут содержать больше мультяшного или фантастического насилия, нежели игры с рейтингом E, а также небольшой контент с намёком на грубый язык.   \n",
    "- T (Teen) – Для подростков (от 13 лет и старше). Игры с рейтингом T могут содержать насилие, грубый язык, некоторую тему для взрослых и минимальный контент с кровью.   \n",
    "- M (Mature) – Для взрослых (от 17 лет и старше). Игры с рейтингом M могут включать интенсивное насилие, сексуальные темы, кровь, грубый язык и сцены наркотического употребления.   \n",
    "- AO (Adults Only) – Только для взрослых (от 18 лет и старше). Эти игры содержат экстремальное насилие, сексуальные сцены или другие материалы, которые считаются неподходящими для детей и подростков.   \n",
    "- RP (Rating Pending) – Рейтинг ожидается. Этот рейтинг временно используется для игр, которые еще не прошли оценку ESRB.\n",
    "\n",
    "Можно сделать вывод, что RP и Nan идентичны по смыслу, поэтому заменим все рейтинги Nan на no_ESRB.    \n",
    "\n",
    "**Пропуски в столбце `rating`** могли быть вызваны тем, что ESRB - это рейтинг для США и Канады. Если игра не предназначалась для этих стран, то мог использоваться другой рейтинг, например: PEGI (Pan-European Game Information) — Европа.\n",
    "\n",
    "K-A (Kids to Adults) — это устаревший рейтинг, который использовался в системе ESRB (Entertainment Software Rating Board) с момента её создания в 1994 году до 1997 года. Рейтинг обозначал, что игра подходит для детей и взрослых, то есть для всех возрастов (с 1997 заменен на E)."
   ]
  },
  {
   "cell_type": "code",
   "execution_count": 18,
   "id": "4a42ed55",
   "metadata": {},
   "outputs": [
    {
     "data": {
      "text/plain": [
       "array(['E', 'no_ESRB', 'M', 'T', 'E10+', 'AO', 'EC', 'RP'], dtype=object)"
      ]
     },
     "execution_count": 18,
     "metadata": {},
     "output_type": "execute_result"
    }
   ],
   "source": [
    "# Замена рейтингов\n",
    "df['rating'] = df['rating'].replace(np.NaN, 'no_ESRB')\n",
    "df['rating'] = df['rating'].replace('K-A', 'E')\n",
    "# Проверка\n",
    "df['rating'].unique()"
   ]
  },
  {
   "cell_type": "markdown",
   "id": "1321f897",
   "metadata": {},
   "source": [
    "`critic_score`, `user_score`, `rating`. Пропусков в этих датафреймов очень много `сritic_score` (51.3% пропусков), `rating` (40.1% пропусков), `user_score` (40.1% пропусков). Замена пропусков на медианное занчение для количественных параметров столбцов `critic_score`, `user_score` сильно повлияет на результат анализа. Поэтому для этих столбцов принято решение оставить пропуски как есть.  \n",
    "Для столбца `rating`. Замена пропусков в категориальных переменных без дополнительной информации не представляется возможной. Поэтому для этих столбцов принято решение заменить пропуски на заглушку no_ESRB."
   ]
  },
  {
   "cell_type": "markdown",
   "id": "6bcc816d",
   "metadata": {},
   "source": [
    "**Причины появления пропусков для столбцов `critic_score`, `user_score`**"
   ]
  },
  {
   "cell_type": "code",
   "execution_count": 19,
   "id": "e53f37aa",
   "metadata": {},
   "outputs": [
    {
     "data": {
      "text/html": [
       "<div>\n",
       "<style scoped>\n",
       "    .dataframe tbody tr th:only-of-type {\n",
       "        vertical-align: middle;\n",
       "    }\n",
       "\n",
       "    .dataframe tbody tr th {\n",
       "        vertical-align: top;\n",
       "    }\n",
       "\n",
       "    .dataframe thead th {\n",
       "        text-align: right;\n",
       "    }\n",
       "</style>\n",
       "<table border=\"1\" class=\"dataframe\">\n",
       "  <thead>\n",
       "    <tr style=\"text-align: right;\">\n",
       "      <th></th>\n",
       "      <th>name</th>\n",
       "      <th>platform</th>\n",
       "      <th>year_of_release</th>\n",
       "      <th>genre</th>\n",
       "      <th>na_sales</th>\n",
       "      <th>eu_sales</th>\n",
       "      <th>jp_sales</th>\n",
       "      <th>other_sales</th>\n",
       "      <th>critic_score</th>\n",
       "      <th>user_score</th>\n",
       "      <th>rating</th>\n",
       "    </tr>\n",
       "  </thead>\n",
       "  <tbody>\n",
       "    <tr>\n",
       "      <th>7104</th>\n",
       "      <td>in party megamix wii</td>\n",
       "      <td>Wii</td>\n",
       "      <td>2009</td>\n",
       "      <td>Misc</td>\n",
       "      <td>0.19</td>\n",
       "      <td>0.01</td>\n",
       "      <td>0.00</td>\n",
       "      <td>0.02</td>\n",
       "      <td>NaN</td>\n",
       "      <td>NaN</td>\n",
       "      <td>no_ESRB</td>\n",
       "    </tr>\n",
       "    <tr>\n",
       "      <th>6465</th>\n",
       "      <td>gundam battle universe</td>\n",
       "      <td>PSP</td>\n",
       "      <td>2008</td>\n",
       "      <td>Fighting</td>\n",
       "      <td>0.00</td>\n",
       "      <td>0.00</td>\n",
       "      <td>0.26</td>\n",
       "      <td>0.00</td>\n",
       "      <td>NaN</td>\n",
       "      <td>NaN</td>\n",
       "      <td>no_ESRB</td>\n",
       "    </tr>\n",
       "    <tr>\n",
       "      <th>778</th>\n",
       "      <td>golf</td>\n",
       "      <td>GB</td>\n",
       "      <td>1989</td>\n",
       "      <td>Sports</td>\n",
       "      <td>0.83</td>\n",
       "      <td>0.33</td>\n",
       "      <td>0.92</td>\n",
       "      <td>0.04</td>\n",
       "      <td>NaN</td>\n",
       "      <td>NaN</td>\n",
       "      <td>no_ESRB</td>\n",
       "    </tr>\n",
       "    <tr>\n",
       "      <th>3339</th>\n",
       "      <td>beatmania append rdmix</td>\n",
       "      <td>PS</td>\n",
       "      <td>1998</td>\n",
       "      <td>Simulation</td>\n",
       "      <td>0.00</td>\n",
       "      <td>0.00</td>\n",
       "      <td>0.56</td>\n",
       "      <td>0.04</td>\n",
       "      <td>NaN</td>\n",
       "      <td>NaN</td>\n",
       "      <td>no_ESRB</td>\n",
       "    </tr>\n",
       "    <tr>\n",
       "      <th>950</th>\n",
       "      <td>jet moto</td>\n",
       "      <td>PS</td>\n",
       "      <td>1996</td>\n",
       "      <td>Racing</td>\n",
       "      <td>1.33</td>\n",
       "      <td>0.40</td>\n",
       "      <td>0.03</td>\n",
       "      <td>0.07</td>\n",
       "      <td>NaN</td>\n",
       "      <td>NaN</td>\n",
       "      <td>no_ESRB</td>\n",
       "    </tr>\n",
       "  </tbody>\n",
       "</table>\n",
       "</div>"
      ],
      "text/plain": [
       "                        name platform  year_of_release       genre  na_sales  \\\n",
       "7104    in party megamix wii      Wii             2009        Misc      0.19   \n",
       "6465  gundam battle universe      PSP             2008    Fighting      0.00   \n",
       "778                     golf       GB             1989      Sports      0.83   \n",
       "3339  beatmania append rdmix       PS             1998  Simulation      0.00   \n",
       "950                 jet moto       PS             1996      Racing      1.33   \n",
       "\n",
       "      eu_sales  jp_sales  other_sales  critic_score  user_score   rating  \n",
       "7104      0.01      0.00         0.02           NaN         NaN  no_ESRB  \n",
       "6465      0.00      0.26         0.00           NaN         NaN  no_ESRB  \n",
       "778       0.33      0.92         0.04           NaN         NaN  no_ESRB  \n",
       "3339      0.00      0.56         0.04           NaN         NaN  no_ESRB  \n",
       "950       0.40      0.03         0.07           NaN         NaN  no_ESRB  "
      ]
     },
     "metadata": {},
     "output_type": "display_data"
    },
    {
     "data": {
      "text/html": [
       "<div>\n",
       "<style scoped>\n",
       "    .dataframe tbody tr th:only-of-type {\n",
       "        vertical-align: middle;\n",
       "    }\n",
       "\n",
       "    .dataframe tbody tr th {\n",
       "        vertical-align: top;\n",
       "    }\n",
       "\n",
       "    .dataframe thead th {\n",
       "        text-align: right;\n",
       "    }\n",
       "</style>\n",
       "<table border=\"1\" class=\"dataframe\">\n",
       "  <thead>\n",
       "    <tr style=\"text-align: right;\">\n",
       "      <th></th>\n",
       "      <th>name</th>\n",
       "      <th>platform</th>\n",
       "      <th>year_of_release</th>\n",
       "      <th>genre</th>\n",
       "      <th>na_sales</th>\n",
       "      <th>eu_sales</th>\n",
       "      <th>jp_sales</th>\n",
       "      <th>other_sales</th>\n",
       "      <th>critic_score</th>\n",
       "      <th>user_score</th>\n",
       "      <th>rating</th>\n",
       "    </tr>\n",
       "  </thead>\n",
       "  <tbody>\n",
       "    <tr>\n",
       "      <th>13887</th>\n",
       "      <td>the ripping friends</td>\n",
       "      <td>GBA</td>\n",
       "      <td>2002</td>\n",
       "      <td>Action</td>\n",
       "      <td>0.03</td>\n",
       "      <td>0.01</td>\n",
       "      <td>0.0</td>\n",
       "      <td>0.00</td>\n",
       "      <td>38.0</td>\n",
       "      <td>NaN</td>\n",
       "      <td>E</td>\n",
       "    </tr>\n",
       "    <tr>\n",
       "      <th>8172</th>\n",
       "      <td>open season</td>\n",
       "      <td>GC</td>\n",
       "      <td>2006</td>\n",
       "      <td>Platform</td>\n",
       "      <td>0.13</td>\n",
       "      <td>0.03</td>\n",
       "      <td>0.0</td>\n",
       "      <td>0.00</td>\n",
       "      <td>59.0</td>\n",
       "      <td>NaN</td>\n",
       "      <td>E10+</td>\n",
       "    </tr>\n",
       "    <tr>\n",
       "      <th>9316</th>\n",
       "      <td>syberia</td>\n",
       "      <td>DS</td>\n",
       "      <td>2008</td>\n",
       "      <td>Action</td>\n",
       "      <td>0.10</td>\n",
       "      <td>0.02</td>\n",
       "      <td>0.0</td>\n",
       "      <td>0.01</td>\n",
       "      <td>52.0</td>\n",
       "      <td>NaN</td>\n",
       "      <td>T</td>\n",
       "    </tr>\n",
       "    <tr>\n",
       "      <th>11974</th>\n",
       "      <td>dave mirra bmx challenge</td>\n",
       "      <td>Wii</td>\n",
       "      <td>2007</td>\n",
       "      <td>Sports</td>\n",
       "      <td>0.06</td>\n",
       "      <td>0.00</td>\n",
       "      <td>0.0</td>\n",
       "      <td>0.01</td>\n",
       "      <td>36.0</td>\n",
       "      <td>NaN</td>\n",
       "      <td>E</td>\n",
       "    </tr>\n",
       "    <tr>\n",
       "      <th>15338</th>\n",
       "      <td>jake hunter detective chronicles</td>\n",
       "      <td>DS</td>\n",
       "      <td>2008</td>\n",
       "      <td>Adventure</td>\n",
       "      <td>0.02</td>\n",
       "      <td>0.00</td>\n",
       "      <td>0.0</td>\n",
       "      <td>0.00</td>\n",
       "      <td>47.0</td>\n",
       "      <td>NaN</td>\n",
       "      <td>T</td>\n",
       "    </tr>\n",
       "  </tbody>\n",
       "</table>\n",
       "</div>"
      ],
      "text/plain": [
       "                                   name platform  year_of_release      genre  \\\n",
       "13887               the ripping friends      GBA             2002     Action   \n",
       "8172                        open season       GC             2006   Platform   \n",
       "9316                            syberia       DS             2008     Action   \n",
       "11974          dave mirra bmx challenge      Wii             2007     Sports   \n",
       "15338  jake hunter detective chronicles       DS             2008  Adventure   \n",
       "\n",
       "       na_sales  eu_sales  jp_sales  other_sales  critic_score  user_score  \\\n",
       "13887      0.03      0.01       0.0         0.00          38.0         NaN   \n",
       "8172       0.13      0.03       0.0         0.00          59.0         NaN   \n",
       "9316       0.10      0.02       0.0         0.01          52.0         NaN   \n",
       "11974      0.06      0.00       0.0         0.01          36.0         NaN   \n",
       "15338      0.02      0.00       0.0         0.00          47.0         NaN   \n",
       "\n",
       "      rating  \n",
       "13887      E  \n",
       "8172    E10+  \n",
       "9316       T  \n",
       "11974      E  \n",
       "15338      T  "
      ]
     },
     "metadata": {},
     "output_type": "display_data"
    },
    {
     "data": {
      "text/html": [
       "<div>\n",
       "<style scoped>\n",
       "    .dataframe tbody tr th:only-of-type {\n",
       "        vertical-align: middle;\n",
       "    }\n",
       "\n",
       "    .dataframe tbody tr th {\n",
       "        vertical-align: top;\n",
       "    }\n",
       "\n",
       "    .dataframe thead th {\n",
       "        text-align: right;\n",
       "    }\n",
       "</style>\n",
       "<table border=\"1\" class=\"dataframe\">\n",
       "  <thead>\n",
       "    <tr style=\"text-align: right;\">\n",
       "      <th></th>\n",
       "      <th>name</th>\n",
       "      <th>platform</th>\n",
       "      <th>year_of_release</th>\n",
       "      <th>genre</th>\n",
       "      <th>na_sales</th>\n",
       "      <th>eu_sales</th>\n",
       "      <th>jp_sales</th>\n",
       "      <th>other_sales</th>\n",
       "      <th>critic_score</th>\n",
       "      <th>user_score</th>\n",
       "      <th>rating</th>\n",
       "    </tr>\n",
       "  </thead>\n",
       "  <tbody>\n",
       "    <tr>\n",
       "      <th>15187</th>\n",
       "      <td>unreal anthology</td>\n",
       "      <td>PC</td>\n",
       "      <td>2006</td>\n",
       "      <td>Shooter</td>\n",
       "      <td>0.00</td>\n",
       "      <td>0.02</td>\n",
       "      <td>0.00</td>\n",
       "      <td>0.00</td>\n",
       "      <td>NaN</td>\n",
       "      <td>8.8</td>\n",
       "      <td>M</td>\n",
       "    </tr>\n",
       "    <tr>\n",
       "      <th>2769</th>\n",
       "      <td>fifa</td>\n",
       "      <td>PS3</td>\n",
       "      <td>2016</td>\n",
       "      <td>Sports</td>\n",
       "      <td>0.05</td>\n",
       "      <td>0.55</td>\n",
       "      <td>0.03</td>\n",
       "      <td>0.10</td>\n",
       "      <td>NaN</td>\n",
       "      <td>3.3</td>\n",
       "      <td>E</td>\n",
       "    </tr>\n",
       "    <tr>\n",
       "      <th>10756</th>\n",
       "      <td>lego star wars the force awakens</td>\n",
       "      <td>PSV</td>\n",
       "      <td>2016</td>\n",
       "      <td>Action</td>\n",
       "      <td>0.01</td>\n",
       "      <td>0.06</td>\n",
       "      <td>0.01</td>\n",
       "      <td>0.02</td>\n",
       "      <td>NaN</td>\n",
       "      <td>7.1</td>\n",
       "      <td>E10+</td>\n",
       "    </tr>\n",
       "    <tr>\n",
       "      <th>4705</th>\n",
       "      <td>nba k</td>\n",
       "      <td>PS2</td>\n",
       "      <td>2008</td>\n",
       "      <td>Sports</td>\n",
       "      <td>0.34</td>\n",
       "      <td>0.01</td>\n",
       "      <td>0.00</td>\n",
       "      <td>0.06</td>\n",
       "      <td>NaN</td>\n",
       "      <td>8.0</td>\n",
       "      <td>E</td>\n",
       "    </tr>\n",
       "    <tr>\n",
       "      <th>12462</th>\n",
       "      <td>digimon allstar rumble</td>\n",
       "      <td>X360</td>\n",
       "      <td>2014</td>\n",
       "      <td>Fighting</td>\n",
       "      <td>0.05</td>\n",
       "      <td>0.01</td>\n",
       "      <td>0.00</td>\n",
       "      <td>0.01</td>\n",
       "      <td>NaN</td>\n",
       "      <td>5.7</td>\n",
       "      <td>E10+</td>\n",
       "    </tr>\n",
       "  </tbody>\n",
       "</table>\n",
       "</div>"
      ],
      "text/plain": [
       "                                   name platform  year_of_release     genre  \\\n",
       "15187                  unreal anthology       PC             2006   Shooter   \n",
       "2769                               fifa      PS3             2016    Sports   \n",
       "10756  lego star wars the force awakens      PSV             2016    Action   \n",
       "4705                              nba k      PS2             2008    Sports   \n",
       "12462            digimon allstar rumble     X360             2014  Fighting   \n",
       "\n",
       "       na_sales  eu_sales  jp_sales  other_sales  critic_score  user_score  \\\n",
       "15187      0.00      0.02      0.00         0.00           NaN         8.8   \n",
       "2769       0.05      0.55      0.03         0.10           NaN         3.3   \n",
       "10756      0.01      0.06      0.01         0.02           NaN         7.1   \n",
       "4705       0.34      0.01      0.00         0.06           NaN         8.0   \n",
       "12462      0.05      0.01      0.00         0.01           NaN         5.7   \n",
       "\n",
       "      rating  \n",
       "15187      M  \n",
       "2769       E  \n",
       "10756   E10+  \n",
       "4705       E  \n",
       "12462   E10+  "
      ]
     },
     "execution_count": 19,
     "metadata": {},
     "output_type": "execute_result"
    }
   ],
   "source": [
    "# Отображение примеров строк с пропусками в 'critic_score' и 'user_score'\n",
    "display(df.query('user_score.isnull() & critic_score.isnull()').sample(5))\n",
    "# Отображение примеров строк с пропусками только в 'user_score'\n",
    "display(df.query('user_score.isnull() & critic_score.notnull()').sample(5))\n",
    "# Отображение примеров строк с пропусками только в 'critic_score'\n",
    "df.query('user_score.notnull() & critic_score.isnull()').sample(5)"
   ]
  },
  {
   "cell_type": "markdown",
   "id": "200d9c4a",
   "metadata": {},
   "source": [
    "Для `critic_score`, `user_score` не нашлось какой-то логики причины пояление пропусков. Вероятно данные пропуски связаны с тем, что эти игры не оценивались критиками, пользователями или всеми сразу."
   ]
  },
  {
   "cell_type": "markdown",
   "id": "8ee86cd6",
   "metadata": {},
   "source": [
    "<a class=\"anchor\" id=\"2.5-bullet\"></a>\n",
    "###  Общие продажи по регионам"
   ]
  },
  {
   "cell_type": "code",
   "execution_count": 20,
   "id": "e5a80270",
   "metadata": {},
   "outputs": [
    {
     "data": {
      "text/html": [
       "<div>\n",
       "<style scoped>\n",
       "    .dataframe tbody tr th:only-of-type {\n",
       "        vertical-align: middle;\n",
       "    }\n",
       "\n",
       "    .dataframe tbody tr th {\n",
       "        vertical-align: top;\n",
       "    }\n",
       "\n",
       "    .dataframe thead th {\n",
       "        text-align: right;\n",
       "    }\n",
       "</style>\n",
       "<table border=\"1\" class=\"dataframe\">\n",
       "  <thead>\n",
       "    <tr style=\"text-align: right;\">\n",
       "      <th></th>\n",
       "      <th>name</th>\n",
       "      <th>platform</th>\n",
       "      <th>year_of_release</th>\n",
       "      <th>genre</th>\n",
       "      <th>na_sales</th>\n",
       "      <th>eu_sales</th>\n",
       "      <th>jp_sales</th>\n",
       "      <th>other_sales</th>\n",
       "      <th>critic_score</th>\n",
       "      <th>user_score</th>\n",
       "      <th>rating</th>\n",
       "      <th>total_sales</th>\n",
       "    </tr>\n",
       "  </thead>\n",
       "  <tbody>\n",
       "    <tr>\n",
       "      <th>0</th>\n",
       "      <td>wii sports</td>\n",
       "      <td>Wii</td>\n",
       "      <td>2006</td>\n",
       "      <td>Sports</td>\n",
       "      <td>41.36</td>\n",
       "      <td>28.96</td>\n",
       "      <td>3.77</td>\n",
       "      <td>8.45</td>\n",
       "      <td>76.0</td>\n",
       "      <td>8.0</td>\n",
       "      <td>E</td>\n",
       "      <td>82.54</td>\n",
       "    </tr>\n",
       "    <tr>\n",
       "      <th>1</th>\n",
       "      <td>super mario bros</td>\n",
       "      <td>NES</td>\n",
       "      <td>1985</td>\n",
       "      <td>Platform</td>\n",
       "      <td>29.08</td>\n",
       "      <td>3.58</td>\n",
       "      <td>6.81</td>\n",
       "      <td>0.77</td>\n",
       "      <td>NaN</td>\n",
       "      <td>NaN</td>\n",
       "      <td>no_ESRB</td>\n",
       "      <td>40.24</td>\n",
       "    </tr>\n",
       "    <tr>\n",
       "      <th>2</th>\n",
       "      <td>mario kart wii</td>\n",
       "      <td>Wii</td>\n",
       "      <td>2008</td>\n",
       "      <td>Racing</td>\n",
       "      <td>15.68</td>\n",
       "      <td>12.76</td>\n",
       "      <td>3.79</td>\n",
       "      <td>3.29</td>\n",
       "      <td>82.0</td>\n",
       "      <td>8.3</td>\n",
       "      <td>E</td>\n",
       "      <td>35.52</td>\n",
       "    </tr>\n",
       "    <tr>\n",
       "      <th>3</th>\n",
       "      <td>wii sports resort</td>\n",
       "      <td>Wii</td>\n",
       "      <td>2009</td>\n",
       "      <td>Sports</td>\n",
       "      <td>15.61</td>\n",
       "      <td>10.93</td>\n",
       "      <td>3.28</td>\n",
       "      <td>2.95</td>\n",
       "      <td>80.0</td>\n",
       "      <td>8.0</td>\n",
       "      <td>E</td>\n",
       "      <td>32.77</td>\n",
       "    </tr>\n",
       "    <tr>\n",
       "      <th>4</th>\n",
       "      <td>pokemon redpokemon blue</td>\n",
       "      <td>GB</td>\n",
       "      <td>1996</td>\n",
       "      <td>Role-Playing</td>\n",
       "      <td>11.27</td>\n",
       "      <td>8.89</td>\n",
       "      <td>10.22</td>\n",
       "      <td>1.00</td>\n",
       "      <td>NaN</td>\n",
       "      <td>NaN</td>\n",
       "      <td>no_ESRB</td>\n",
       "      <td>31.38</td>\n",
       "    </tr>\n",
       "  </tbody>\n",
       "</table>\n",
       "</div>"
      ],
      "text/plain": [
       "                      name platform  year_of_release         genre  na_sales  \\\n",
       "0               wii sports      Wii             2006        Sports     41.36   \n",
       "1         super mario bros      NES             1985      Platform     29.08   \n",
       "2           mario kart wii      Wii             2008        Racing     15.68   \n",
       "3        wii sports resort      Wii             2009        Sports     15.61   \n",
       "4  pokemon redpokemon blue       GB             1996  Role-Playing     11.27   \n",
       "\n",
       "   eu_sales  jp_sales  other_sales  critic_score  user_score   rating  \\\n",
       "0     28.96      3.77         8.45          76.0         8.0        E   \n",
       "1      3.58      6.81         0.77           NaN         NaN  no_ESRB   \n",
       "2     12.76      3.79         3.29          82.0         8.3        E   \n",
       "3     10.93      3.28         2.95          80.0         8.0        E   \n",
       "4      8.89     10.22         1.00           NaN         NaN  no_ESRB   \n",
       "\n",
       "   total_sales  \n",
       "0        82.54  \n",
       "1        40.24  \n",
       "2        35.52  \n",
       "3        32.77  \n",
       "4        31.38  "
      ]
     },
     "execution_count": 20,
     "metadata": {},
     "output_type": "execute_result"
    }
   ],
   "source": [
    "# Найдем общие продажи по регионам\n",
    "df['total_sales'] = df[['na_sales','eu_sales','jp_sales', 'other_sales']].sum(axis = 1)\n",
    "\n",
    "#Проверка\n",
    "df.head()"
   ]
  },
  {
   "cell_type": "markdown",
   "id": "cf03fe99",
   "metadata": {},
   "source": [
    "**Вывод:**\n",
    "- Заменил названия столбцов (привел к нижнему регистру);\n",
    "- Преобразовал данные в нужные типы. Описал, в каких столбцах заменил тип данных и почему;\n",
    "- Посчитал общие продажи по регионам;\n",
    "- Обработал пропуски там где это возможно."
   ]
  },
  {
   "cell_type": "code",
   "execution_count": 21,
   "id": "5813806e",
   "metadata": {},
   "outputs": [
    {
     "name": "stdout",
     "output_type": "stream",
     "text": [
      "<class 'pandas.core.frame.DataFrame'>\n",
      "Int64Index: 16333 entries, 0 to 16601\n",
      "Data columns (total 12 columns):\n",
      " #   Column           Non-Null Count  Dtype  \n",
      "---  ------           --------------  -----  \n",
      " 0   name             16333 non-null  object \n",
      " 1   platform         16333 non-null  object \n",
      " 2   year_of_release  16333 non-null  Int64  \n",
      " 3   genre            16333 non-null  object \n",
      " 4   na_sales         16333 non-null  float64\n",
      " 5   eu_sales         16333 non-null  float64\n",
      " 6   jp_sales         16333 non-null  float64\n",
      " 7   other_sales      16333 non-null  float64\n",
      " 8   critic_score     7947 non-null   float64\n",
      " 9   user_score       7430 non-null   float64\n",
      " 10  rating           16333 non-null  object \n",
      " 11  total_sales      16333 non-null  float64\n",
      "dtypes: Int64(1), float64(7), object(4)\n",
      "memory usage: 1.6+ MB\n",
      "None\n",
      "-------------------------\n",
      "name ['' 'a boy and his blob' 'a bugs life' ... 'zumba fitness world party'\n",
      " 'zwei' 'zyuden sentai kyoryuger game de gaburincho']\n",
      "name : кол-во NaN 0 , процент NaN 0.0 %\n",
      "-------------------------\n",
      "platform ['2600' '3DO' '3DS' 'DC' 'DS' 'GB' 'GBA' 'GC' 'GEN' 'GG' 'N64' 'NES' 'NG'\n",
      " 'PC' 'PCFX' 'PS' 'PS2' 'PS3' 'PS4' 'PSP' 'PSV' 'SAT' 'SCD' 'SNES' 'TG16'\n",
      " 'WS' 'Wii' 'WiiU' 'X360' 'XB' 'XOne']\n",
      "platform : кол-во NaN 0 , процент NaN 0.0 %\n",
      "-------------------------\n",
      "year_of_release <IntegerArray>\n",
      "[1980, 1981, 1982, 1983, 1984, 1985, 1986, 1987, 1988, 1989, 1990, 1991, 1992,\n",
      " 1993, 1994, 1995, 1996, 1997, 1998, 1999, 2000, 2001, 2002, 2003, 2004, 2005,\n",
      " 2006, 2007, 2008, 2009, 2010, 2011, 2012, 2013, 2014, 2015, 2016]\n",
      "Length: 37, dtype: Int64\n",
      "year_of_release : кол-во NaN 0 , процент NaN 0.0 %\n",
      "-------------------------\n",
      "genre ['Action' 'Adventure' 'Fighting' 'Misc' 'Platform' 'Puzzle' 'Racing'\n",
      " 'Role-Playing' 'Shooter' 'Simulation' 'Sports' 'Strategy']\n",
      "genre : кол-во NaN 0 , процент NaN 0.0 %\n",
      "-------------------------\n",
      "critic_score [13. 17. 19. 20. 21. 23. 24. 25. 26. 27. 28. 29. 30. 31. 32. 33. 34. 35.\n",
      " 36. 37. 38. 39. 40. 41. 42. 43. 44. 45. 46. 47. 48. 49. 50. 51. 52. 53.\n",
      " 54. 55. 56. 57. 58. 59. 60. 61. 62. 63. 64. 65. 66. 67. 68. 69. 70. 71.\n",
      " 72. 73. 74. 75. 76. 77. 78. 79. 80. 81. 82. 83. 84. 85. 86. 87. 88. 89.\n",
      " 90. 91. 92. 93. 94. 95. 96. 97. 98. nan]\n",
      "critic_score : кол-во NaN 8386 , процент NaN 51.34 %\n",
      "-------------------------\n",
      "user_score [0.  0.2 0.3 0.5 0.6 0.7 0.9 1.  1.1 1.2 1.3 1.4 1.5 1.6 1.7 1.8 1.9 2.\n",
      " 2.1 2.2 2.3 2.4 2.5 2.6 2.7 2.8 2.9 3.  3.1 3.2 3.3 3.4 3.5 3.6 3.7 3.8\n",
      " 3.9 4.  4.1 4.2 4.3 4.4 4.5 4.6 4.7 4.8 4.9 5.  5.1 5.2 5.3 5.4 5.5 5.6\n",
      " 5.7 5.8 5.9 6.  6.1 6.2 6.3 6.4 6.5 6.6 6.7 6.8 6.9 7.  7.1 7.2 7.3 7.4\n",
      " 7.5 7.6 7.7 7.8 7.9 8.  8.1 8.2 8.3 8.4 8.5 8.6 8.7 8.8 8.9 9.  9.1 9.2\n",
      " 9.3 9.4 9.5 9.6 9.7 nan]\n",
      "user_score : кол-во NaN 8903 , процент NaN 54.51 %\n",
      "-------------------------\n",
      "rating ['AO' 'E' 'E10+' 'EC' 'M' 'RP' 'T' 'no_ESRB']\n",
      "rating : кол-во NaN 0 , процент NaN 0.0 %\n"
     ]
    }
   ],
   "source": [
    "# Комментарий ревьюера\n",
    "# Посмотрим, что осталось\n",
    "temp = df.copy() \n",
    "list_c = ['name', 'platform', 'year_of_release', 'genre', 'critic_score', 'user_score', 'rating']\n",
    "print(temp.info())\n",
    "for col_l in list_c:\n",
    "  print('-'* 25)\n",
    "  print(col_l, temp[col_l].sort_values().unique())\n",
    "  print(col_l,': кол-во NaN',temp[col_l].isna().sum(),\n",
    "        ', процент NaN', round(temp[col_l].isna().mean()*100,2),'%') "
   ]
  },
  {
   "cell_type": "markdown",
   "id": "212593c7",
   "metadata": {},
   "source": [
    "<a class=\"anchor\" id=\"3-bullet\"></a>\n",
    "## Исследовательский анализ данных"
   ]
  },
  {
   "cell_type": "markdown",
   "id": "d6ba564e",
   "metadata": {},
   "source": [
    "<a class=\"anchor\" id=\"3.1-bullet\"></a>\n",
    "### Выпуск игр в зависимости от года"
   ]
  },
  {
   "cell_type": "code",
   "execution_count": 22,
   "id": "1bf026aa",
   "metadata": {},
   "outputs": [
    {
     "data": {
      "image/png": "[encoded data removed]",
      "text/plain": [
       "<Figure size 720x576 with 1 Axes>"
      ]
     },
     "metadata": {
      "needs_background": "light"
     },
     "output_type": "display_data"
    }
   ],
   "source": [
    "df['year_of_release'].plot(\n",
    "    kind='hist',\n",
    "    bins=37,\n",
    "    rwidth=0.9,\n",
    "    grid=True,\n",
    "    figsize=(10, 8)\n",
    ")\n",
    "\n",
    "# Настройки графика\n",
    "plt.title('Распределение по годам выпуска')\n",
    "plt.xlabel('Год выпуска')\n",
    "plt.ylabel('Количество игр')\n",
    "\n",
    "# Настройка меток оси X\n",
    "years = np.arange(df['year_of_release'].min(), df['year_of_release'].max() + 1)\n",
    "plt.xticks(years, rotation=60)\n",
    "\n",
    "# Показ графика\n",
    "plt.show()"
   ]
  },
  {
   "cell_type": "code",
   "execution_count": 23,
   "id": "d512ca53",
   "metadata": {},
   "outputs": [
    {
     "name": "stdout",
     "output_type": "stream",
     "text": [
      "Среднее количество игр с 1980 по 1993: 26 игр в год\n",
      "Среднее количество игр с 1994 по 2001: 303 игр в год\n",
      "Среднее количество игр с 2002 по 2011: 1069 игр в год\n",
      "Среднее количество игр с 2012 по 2016: 572 игр в год\n"
     ]
    }
   ],
   "source": [
    "def avg_games_per_era(df, eras):\n",
    "    # Создаем список для хранения средних значений по эпохам\n",
    "    avg_games = []\n",
    "    \n",
    "    # Цикл по эпохам\n",
    "    for start_year, end_year in eras:\n",
    "        # Фильтруем данные по текущей эпохе\n",
    "        era_data = df[(df['year_of_release'] >= start_year) & (df['year_of_release'] <= end_year)]\n",
    "        \n",
    "        # Рассчитываем количество лет в эпохе\n",
    "        num_years = end_year - start_year + 1\n",
    "        \n",
    "        # Считаем количество игр и среднее количество игр за год\n",
    "        total_games = len(era_data)\n",
    "        avg_per_year = total_games / num_years\n",
    "        \n",
    "        # Добавляем результат в список\n",
    "        avg_games.append((start_year, end_year, avg_per_year))\n",
    "    \n",
    "    return avg_games\n",
    "\n",
    "# Определение эпох (start_year, end_year)\n",
    "eras = [\n",
    "    (1980, 1993),\n",
    "    (1994, 2001),\n",
    "    (2002, 2011),\n",
    "    (2012, 2016)\n",
    "]\n",
    "\n",
    "# Вызов функции для подсчета среднего количества игр по эпохам\n",
    "averages = avg_games_per_era(df, eras)\n",
    "\n",
    "# Вывод результатов\n",
    "for start_year, end_year, avg in averages:\n",
    "    print(f\"Среднее количество игр с {start_year} по {end_year}: {avg:.0f} игр в год\")"
   ]
  },
  {
   "cell_type": "markdown",
   "id": "39cb13e1",
   "metadata": {},
   "source": [
    "**Вывод:** На графике можно заметить 4 эры игровой индустрии:\n",
    "\n",
    "- с 1980 по 1993 год наблюдалась эра зарождения игровой индустрии, игры начали появляться на полках магазина, но спрос на них был слабым, среднее количество игр на полках 26 штук в год;  \n",
    "- с 1994 по 2001 год наблюдалась эра рассвета, спрос на игры начал расти и на полках магазинов количество игр увеличиось ~ в 10 раз, а среднее количество игр на полках стало 305 штук в год;  \n",
    "- с 2002 по 2011 год наблюдался эра процветания, спрос на игры был наивысшим за всю историю, среднее количество игр на полках 1075 штук в год, а пик пришелся на 2008 и 2009 год, когда на полках лежало более 1400 игр за год;  \n",
    "- с 2012 по 2016 год наблюдается эра спада, спрос на игры снизился, среднее количество игр на полках состовляет 577 штук в год.  \n",
    "\n",
    "Если анализ требует понимания исторического контекста, долгосрочных трендов или сравнения с прошлыми периодами, данные за все эры будут важны. Однако, если цель анализа — текущие или недавние тренды, то можно сосредоточиться на данных за последние несколько лет."
   ]
  },
  {
   "cell_type": "markdown",
   "id": "2c35279b",
   "metadata": {},
   "source": [
    "<a class=\"anchor\" id=\"3.2-bullet\"></a>\n",
    "### Зависимость продаж от платформы"
   ]
  },
  {
   "cell_type": "markdown",
   "id": "94b54fab",
   "metadata": {},
   "source": [
    "Выберем платформы с наибольшими суммарными продажами и построим распределение по годам"
   ]
  },
  {
   "cell_type": "code",
   "execution_count": 24,
   "id": "bda7765a",
   "metadata": {},
   "outputs": [
    {
     "data": {
      "image/png": "[encoded data removed]",
      "text/plain": [
       "<Figure size 864x432 with 1 Axes>"
      ]
     },
     "metadata": {
      "needs_background": "light"
     },
     "output_type": "display_data"
    }
   ],
   "source": [
    "# Создаем сводную таблицу\n",
    "sales_by_platforms = df.pivot_table(\n",
    "    index='platform', \n",
    "    values='total_sales', \n",
    "    aggfunc='sum'  # Мы используем функцию sum для агрегирования\n",
    ")\n",
    "\n",
    "# Сортируем по общим продажам (total_sales)\n",
    "sales_by_platforms = sales_by_platforms.sort_values(\n",
    "    by='total_sales',\n",
    "    ascending=False,\n",
    ")\n",
    "\n",
    "# Построение графика\n",
    "sales_by_platforms.plot(\n",
    "    kind='bar',\n",
    "    legend=False,\n",
    "    figsize=(12, 6),\n",
    ")\n",
    "\n",
    "# Настройки графика\n",
    "plt.title('Суммарные продажи в зависимости от платформы')\n",
    "plt.xlabel('Платформа')\n",
    "plt.ylabel('Суммарные продажи [млн копий]')\n",
    "plt.xticks(rotation=90)\n",
    "plt.grid(axis='y')\n",
    "\n",
    "# Показ графика\n",
    "plt.show()"
   ]
  },
  {
   "cell_type": "markdown",
   "id": "65ec08e2",
   "metadata": {},
   "source": [
    "Наибольшие суммарные продажи у 6-ти платформ: `PS2`, `X360`, `PS3`, `Wii`, `DS`, `PS`."
   ]
  },
  {
   "cell_type": "code",
   "execution_count": 25,
   "id": "f27270d6",
   "metadata": {},
   "outputs": [
    {
     "data": {
      "text/html": [
       "<div>\n",
       "<style scoped>\n",
       "    .dataframe tbody tr th:only-of-type {\n",
       "        vertical-align: middle;\n",
       "    }\n",
       "\n",
       "    .dataframe tbody tr th {\n",
       "        vertical-align: top;\n",
       "    }\n",
       "\n",
       "    .dataframe thead th {\n",
       "        text-align: right;\n",
       "    }\n",
       "</style>\n",
       "<table border=\"1\" class=\"dataframe\">\n",
       "  <thead>\n",
       "    <tr style=\"text-align: right;\">\n",
       "      <th>platform</th>\n",
       "      <th>DS</th>\n",
       "      <th>PS</th>\n",
       "      <th>PS2</th>\n",
       "      <th>PS3</th>\n",
       "      <th>Wii</th>\n",
       "      <th>X360</th>\n",
       "    </tr>\n",
       "    <tr>\n",
       "      <th>year_of_release</th>\n",
       "      <th></th>\n",
       "      <th></th>\n",
       "      <th></th>\n",
       "      <th></th>\n",
       "      <th></th>\n",
       "      <th></th>\n",
       "    </tr>\n",
       "  </thead>\n",
       "  <tbody>\n",
       "    <tr>\n",
       "      <th>1985</th>\n",
       "      <td>0.02</td>\n",
       "      <td>NaN</td>\n",
       "      <td>NaN</td>\n",
       "      <td>NaN</td>\n",
       "      <td>NaN</td>\n",
       "      <td>NaN</td>\n",
       "    </tr>\n",
       "    <tr>\n",
       "      <th>1994</th>\n",
       "      <td>NaN</td>\n",
       "      <td>6.03</td>\n",
       "      <td>NaN</td>\n",
       "      <td>NaN</td>\n",
       "      <td>NaN</td>\n",
       "      <td>NaN</td>\n",
       "    </tr>\n",
       "    <tr>\n",
       "      <th>1995</th>\n",
       "      <td>NaN</td>\n",
       "      <td>35.96</td>\n",
       "      <td>NaN</td>\n",
       "      <td>NaN</td>\n",
       "      <td>NaN</td>\n",
       "      <td>NaN</td>\n",
       "    </tr>\n",
       "    <tr>\n",
       "      <th>1996</th>\n",
       "      <td>NaN</td>\n",
       "      <td>93.55</td>\n",
       "      <td>NaN</td>\n",
       "      <td>NaN</td>\n",
       "      <td>NaN</td>\n",
       "      <td>NaN</td>\n",
       "    </tr>\n",
       "    <tr>\n",
       "      <th>1997</th>\n",
       "      <td>NaN</td>\n",
       "      <td>131.70</td>\n",
       "      <td>NaN</td>\n",
       "      <td>NaN</td>\n",
       "      <td>NaN</td>\n",
       "      <td>NaN</td>\n",
       "    </tr>\n",
       "  </tbody>\n",
       "</table>\n",
       "</div>"
      ],
      "text/plain": [
       "platform           DS      PS  PS2  PS3  Wii  X360\n",
       "year_of_release                                   \n",
       "1985             0.02     NaN  NaN  NaN  NaN   NaN\n",
       "1994              NaN    6.03  NaN  NaN  NaN   NaN\n",
       "1995              NaN   35.96  NaN  NaN  NaN   NaN\n",
       "1996              NaN   93.55  NaN  NaN  NaN   NaN\n",
       "1997              NaN  131.70  NaN  NaN  NaN   NaN"
      ]
     },
     "execution_count": 25,
     "metadata": {},
     "output_type": "execute_result"
    }
   ],
   "source": [
    "# Сохраняем 6 наиболее продаваемых платформ в список\n",
    "top_6_platforms = sales_by_platforms.head(6).index.tolist()\n",
    "\n",
    "# Создаем новый датафрейм для 6 наиболее продаваемых платформ\n",
    "top_platform_df = df.query('platform in @top_6_platforms')\n",
    "\n",
    "# Построим сводную таблицу для нового датафрейма\n",
    "top_platforms_by_years = top_platform_df.pivot_table(\n",
    "    index='year_of_release',\n",
    "    columns='platform',\n",
    "    values='total_sales',\n",
    "    aggfunc='sum'\n",
    ")\n",
    "\n",
    "# Проверка\n",
    "top_platforms_by_years.head()"
   ]
  },
  {
   "cell_type": "markdown",
   "id": "6b188c52",
   "metadata": {},
   "source": [
    "В ходе проверки был замечен выброс, Nintendo DS была выпущена в 2004 году, а не как не в 1985. Удалим этот выброс"
   ]
  },
  {
   "cell_type": "code",
   "execution_count": 26,
   "id": "9455be99",
   "metadata": {},
   "outputs": [
    {
     "data": {
      "image/png": "[encoded data removed]",
      "text/plain": [
       "<Figure size 1152x720 with 1 Axes>"
      ]
     },
     "metadata": {
      "needs_background": "light"
     },
     "output_type": "display_data"
    }
   ],
   "source": [
    "# Фильтрация данных с 1994 по 2016 год\n",
    "top_platforms_by_years = top_platforms_by_years.loc[1994:2016]\n",
    "\n",
    "# Построение графика\n",
    "top_platforms_by_years.plot(figsize=(16, 10), linewidth=2)\n",
    "\n",
    "# Настройки графика\n",
    "plt.title('Продажи по платформам за год')\n",
    "plt.xlabel('Год выпуска')\n",
    "plt.ylabel('Суммарные продажи [млн копий]')\n",
    "plt.grid(True)\n",
    "# Настройка меток оси X\n",
    "years = np.arange(\n",
    "    top_platforms_by_years.index.min(), \n",
    "    top_platforms_by_years.index.max() + 1\n",
    ")\n",
    "plt.xticks(years, rotation=60)\n",
    "\n",
    "# Показ графика\n",
    "plt.show()"
   ]
  },
  {
   "cell_type": "code",
   "execution_count": 27,
   "id": "f9c5268d",
   "metadata": {},
   "outputs": [
    {
     "data": {
      "text/plain": [
       "7.0"
      ]
     },
     "execution_count": 27,
     "metadata": {},
     "output_type": "execute_result"
    }
   ],
   "source": [
    "# Комментарий ревьюера\n",
    "temp = df.copy() \n",
    "time_life = temp.pivot_table(index='platform', values='year_of_release', aggfunc=['min', 'max']).reset_index()\n",
    "time_life['life'] = time_life['max'] - time_life['min'] + 1 # в срок жизни платформы, должны входить границы диапазона, \n",
    "                                                            # поэтому +1\n",
    "time_life['life'].median()"
   ]
  },
  {
   "cell_type": "code",
   "execution_count": 28,
   "id": "f3939729",
   "metadata": {},
   "outputs": [
    {
     "data": {
      "text/plain": [
       "6.0"
      ]
     },
     "execution_count": 28,
     "metadata": {},
     "output_type": "execute_result"
    }
   ],
   "source": [
    "# Срок жизни для платформ начиная с 1994 года\n",
    "time_life = temp.query('year_of_release > 1993') \\\n",
    "    .pivot_table(index='platform', values='year_of_release', aggfunc=['min', 'max']) \\\n",
    "    .reset_index()\n",
    "\n",
    "time_life['life'] = time_life['max'] - time_life['min'] + 1 # в срок жизни платформы, должны входить границы диапазона, \n",
    "                                                            # поэтому +1\n",
    "time_life['life'].median()"
   ]
  },
  {
   "cell_type": "markdown",
   "id": "4b4f9a7f",
   "metadata": {},
   "source": [
    "**Вывод:** Примерный срок жизни платформы 7 лет."
   ]
  },
  {
   "cell_type": "markdown",
   "id": "cf8287e6",
   "metadata": {},
   "source": [
    "<a class=\"anchor\" id=\"3.3-bullet\"></a>\n",
    "### Актуальный период"
   ]
  },
  {
   "cell_type": "markdown",
   "id": "e4fa970c",
   "metadata": {},
   "source": [
    "Для формирования актуального периода для анализа 2017 года, нужно учесть 2 фактора:\n",
    "\n",
    "- 1-й рассматривать нужно период длительностью 7 лет, т.к. примерно столько живет платформа;  \n",
    "- 2-й важно для анализа учитывать эру игровой индустрии, т.к. в разных эрах сильно различается количество продаж (п. 3.1). Если брать интервал затрагивающий несколько эпох, плохо повлияет на рассмотрение определенного года, тренды предыдущих эпох искозят результаты анализа.\n",
    "\n",
    "**Подведя итоги:** Для анализа 2017 года, нужно рассмотреть период с 2012 по 2016 год."
   ]
  },
  {
   "cell_type": "code",
   "execution_count": 29,
   "id": "5c50004c",
   "metadata": {},
   "outputs": [
    {
     "name": "stdout",
     "output_type": "stream",
     "text": [
      "<class 'pandas.core.frame.DataFrame'>\n",
      "RangeIndex: 2862 entries, 0 to 2861\n",
      "Data columns (total 12 columns):\n",
      " #   Column           Non-Null Count  Dtype  \n",
      "---  ------           --------------  -----  \n",
      " 0   name             2862 non-null   object \n",
      " 1   platform         2862 non-null   object \n",
      " 2   year_of_release  2862 non-null   Int64  \n",
      " 3   genre            2862 non-null   object \n",
      " 4   na_sales         2862 non-null   float64\n",
      " 5   eu_sales         2862 non-null   float64\n",
      " 6   jp_sales         2862 non-null   float64\n",
      " 7   other_sales      2862 non-null   float64\n",
      " 8   critic_score     1308 non-null   float64\n",
      " 9   user_score       1526 non-null   float64\n",
      " 10  rating           2862 non-null   object \n",
      " 11  total_sales      2862 non-null   float64\n",
      "dtypes: Int64(1), float64(7), object(4)\n",
      "memory usage: 271.2+ KB\n"
     ]
    },
    {
     "data": {
      "text/html": [
       "<div>\n",
       "<style scoped>\n",
       "    .dataframe tbody tr th:only-of-type {\n",
       "        vertical-align: middle;\n",
       "    }\n",
       "\n",
       "    .dataframe tbody tr th {\n",
       "        vertical-align: top;\n",
       "    }\n",
       "\n",
       "    .dataframe thead th {\n",
       "        text-align: right;\n",
       "    }\n",
       "</style>\n",
       "<table border=\"1\" class=\"dataframe\">\n",
       "  <thead>\n",
       "    <tr style=\"text-align: right;\">\n",
       "      <th></th>\n",
       "      <th>name</th>\n",
       "      <th>platform</th>\n",
       "      <th>year_of_release</th>\n",
       "      <th>genre</th>\n",
       "      <th>na_sales</th>\n",
       "      <th>eu_sales</th>\n",
       "      <th>jp_sales</th>\n",
       "      <th>other_sales</th>\n",
       "      <th>critic_score</th>\n",
       "      <th>user_score</th>\n",
       "      <th>rating</th>\n",
       "      <th>total_sales</th>\n",
       "    </tr>\n",
       "  </thead>\n",
       "  <tbody>\n",
       "    <tr>\n",
       "      <th>0</th>\n",
       "      <td>grand theft auto v</td>\n",
       "      <td>PS3</td>\n",
       "      <td>2013</td>\n",
       "      <td>Action</td>\n",
       "      <td>7.02</td>\n",
       "      <td>9.09</td>\n",
       "      <td>0.98</td>\n",
       "      <td>3.96</td>\n",
       "      <td>97.0</td>\n",
       "      <td>8.2</td>\n",
       "      <td>M</td>\n",
       "      <td>21.05</td>\n",
       "    </tr>\n",
       "    <tr>\n",
       "      <th>1</th>\n",
       "      <td>grand theft auto v</td>\n",
       "      <td>X360</td>\n",
       "      <td>2013</td>\n",
       "      <td>Action</td>\n",
       "      <td>9.66</td>\n",
       "      <td>5.14</td>\n",
       "      <td>0.06</td>\n",
       "      <td>1.41</td>\n",
       "      <td>97.0</td>\n",
       "      <td>8.1</td>\n",
       "      <td>M</td>\n",
       "      <td>16.27</td>\n",
       "    </tr>\n",
       "    <tr>\n",
       "      <th>2</th>\n",
       "      <td>call of duty black ops</td>\n",
       "      <td>PS4</td>\n",
       "      <td>2015</td>\n",
       "      <td>Shooter</td>\n",
       "      <td>6.03</td>\n",
       "      <td>5.86</td>\n",
       "      <td>0.36</td>\n",
       "      <td>2.38</td>\n",
       "      <td>NaN</td>\n",
       "      <td>NaN</td>\n",
       "      <td>no_ESRB</td>\n",
       "      <td>14.63</td>\n",
       "    </tr>\n",
       "    <tr>\n",
       "      <th>3</th>\n",
       "      <td>pokemon xpokemon y</td>\n",
       "      <td>3DS</td>\n",
       "      <td>2013</td>\n",
       "      <td>Role-Playing</td>\n",
       "      <td>5.28</td>\n",
       "      <td>4.19</td>\n",
       "      <td>4.35</td>\n",
       "      <td>0.78</td>\n",
       "      <td>NaN</td>\n",
       "      <td>NaN</td>\n",
       "      <td>no_ESRB</td>\n",
       "      <td>14.60</td>\n",
       "    </tr>\n",
       "    <tr>\n",
       "      <th>4</th>\n",
       "      <td>call of duty black ops ii</td>\n",
       "      <td>PS3</td>\n",
       "      <td>2012</td>\n",
       "      <td>Shooter</td>\n",
       "      <td>4.99</td>\n",
       "      <td>5.73</td>\n",
       "      <td>0.65</td>\n",
       "      <td>2.42</td>\n",
       "      <td>83.0</td>\n",
       "      <td>5.3</td>\n",
       "      <td>M</td>\n",
       "      <td>13.79</td>\n",
       "    </tr>\n",
       "  </tbody>\n",
       "</table>\n",
       "</div>"
      ],
      "text/plain": [
       "                        name platform  year_of_release         genre  \\\n",
       "0         grand theft auto v      PS3             2013        Action   \n",
       "1         grand theft auto v     X360             2013        Action   \n",
       "2     call of duty black ops      PS4             2015       Shooter   \n",
       "3         pokemon xpokemon y      3DS             2013  Role-Playing   \n",
       "4  call of duty black ops ii      PS3             2012       Shooter   \n",
       "\n",
       "   na_sales  eu_sales  jp_sales  other_sales  critic_score  user_score  \\\n",
       "0      7.02      9.09      0.98         3.96          97.0         8.2   \n",
       "1      9.66      5.14      0.06         1.41          97.0         8.1   \n",
       "2      6.03      5.86      0.36         2.38           NaN         NaN   \n",
       "3      5.28      4.19      4.35         0.78           NaN         NaN   \n",
       "4      4.99      5.73      0.65         2.42          83.0         5.3   \n",
       "\n",
       "    rating  total_sales  \n",
       "0        M        21.05  \n",
       "1        M        16.27  \n",
       "2  no_ESRB        14.63  \n",
       "3  no_ESRB        14.60  \n",
       "4        M        13.79  "
      ]
     },
     "execution_count": 29,
     "metadata": {},
     "output_type": "execute_result"
    }
   ],
   "source": [
    "# Фильтруем игры, вышедшие в 2012 году или позже\n",
    "actual_df = df.query('year_of_release >= 2012').reset_index(drop=True)\n",
    "\n",
    "# Выведем информацию и первые пять строк нового датафрейма\n",
    "actual_df.info()\n",
    "actual_df.head()"
   ]
  },
  {
   "cell_type": "markdown",
   "id": "9d9aa298",
   "metadata": {},
   "source": [
    "<a class=\"anchor\" id=\"3.4-bullet\"></a>\n",
    "### Какие платформы лидируют по продажам, растут или падают?"
   ]
  },
  {
   "cell_type": "code",
   "execution_count": 30,
   "id": "f8820df5",
   "metadata": {},
   "outputs": [
    {
     "data": {
      "image/png": "[encoded data removed]",
      "text/plain": [
       "<Figure size 864x432 with 1 Axes>"
      ]
     },
     "metadata": {
      "needs_background": "light"
     },
     "output_type": "display_data"
    }
   ],
   "source": [
    "#  на продажи по этим платформам\n",
    "actual_platforms_sales = actual_df.pivot_table(\n",
    "    index='platform', \n",
    "    values='total_sales', \n",
    "    aggfunc='sum'\n",
    ")\n",
    "\n",
    "actual_platforms_sales.columns = ['sum']\n",
    "\n",
    "actual_platforms_sales = actual_platforms_sales.sort_values('sum', ascending = False)\n",
    "\n",
    "actual_platforms_sales.plot(\n",
    "    kind='bar', \n",
    "    legend=False, \n",
    "    figsize=(12, 6)\n",
    ")\n",
    "\n",
    "\n",
    "# Настройки графика\n",
    "plt.title('Суммарные продажи в зависимости от платформы за (2012-2016 год)')\n",
    "plt.xlabel('Платформа')\n",
    "plt.ylabel('Суммарные продажи [млн]')\n",
    "plt.xticks(rotation=90)\n",
    "plt.grid(axis='y')"
   ]
  },
  {
   "cell_type": "markdown",
   "id": "1c77c7c4",
   "metadata": {},
   "source": [
    "Для определения в какой фазе находится платформа построим график зависимости суммарных продаж для разных платформ по годам"
   ]
  },
  {
   "cell_type": "code",
   "execution_count": 31,
   "id": "660b9a4f",
   "metadata": {},
   "outputs": [
    {
     "data": {
      "image/png": "[encoded data removed]",
      "text/plain": [
       "<Figure size 1152x720 with 1 Axes>"
      ]
     },
     "metadata": {
      "needs_background": "light"
     },
     "output_type": "display_data"
    }
   ],
   "source": [
    "# Определение 5 самых продаваемых платформ\n",
    "top_5_platforms = (\n",
    "    actual_df.groupby('platform')['total_sales']\n",
    "    .sum()\n",
    "    .nlargest(5)\n",
    "    .index.tolist()\n",
    ")\n",
    "\n",
    "# Фильтрация данных для 5 самых продаваемых платформ\n",
    "top_platforms_df = actual_df.query('platform in @top_5_platforms')\n",
    "\n",
    "# Построение графика для 5 самых продаваемых платформ\n",
    "(\n",
    "    top_platforms_df.pivot_table(index='year_of_release',\n",
    "                                 columns='platform', \n",
    "                                 values='total_sales', \n",
    "                                 aggfunc='sum'\n",
    "                                )\n",
    "    .plot(figsize=(16, 10), linewidth=2)\n",
    ")\n",
    "\n",
    "# Настройки графика\n",
    "plt.title('Продажи 5 самых продаваемых платформ за год (2012-2016)')\n",
    "plt.xlabel('Год выпуска')\n",
    "plt.ylabel('Суммарные продажи [млн копий]')\n",
    "plt.grid(True)\n",
    "\n",
    "# Настройка меток оси X\n",
    "plt.xticks(np.arange(2012, 2017), rotation=60)\n",
    "\n",
    "# Показ графика\n",
    "plt.show()"
   ]
  },
  {
   "cell_type": "markdown",
   "id": "9073f6d9",
   "metadata": {},
   "source": [
    "**Вывод:** Из всех платформ потенциально наиболее прибыльными являются **PS4** и **XOne**, т.к. эти платформы были выпущены в 2013 году (учитывая жизнь платформы ~ 10 лет) и на 2016 год имеют наибольшие показатели по продажам.   \n",
    "Платформы **PS3** и **X360** идут к своему закату и не смотря на хорошие итоговые продажи с 2012 года, заметен сильный ниспадающий тренд."
   ]
  },
  {
   "cell_type": "markdown",
   "id": "d215f966",
   "metadata": {},
   "source": [
    "<a class=\"anchor\" id=\"3.5-bullet\"></a>\n",
    "### Глобальные продажи игр в разбивке по платформам"
   ]
  },
  {
   "cell_type": "code",
   "execution_count": 32,
   "id": "d2c10af9",
   "metadata": {},
   "outputs": [
    {
     "data": {
      "image/png": "[encoded data removed]",
      "text/plain": [
       "<Figure size 1080x1080 with 1 Axes>"
      ]
     },
     "metadata": {
      "needs_background": "light"
     },
     "output_type": "display_data"
    }
   ],
   "source": [
    "# Строим коробчатую диаграмму (boxplot) для отображения распределения продаж по платформам\n",
    "f, ax = plt.subplots(figsize=(15, 15))  # Создаем фигуру и ось\n",
    "\n",
    "fig = sns.boxplot(x='platform', y='total_sales', data=actual_df, ax=ax)\n",
    "\n",
    "# Настройки графика\n",
    "fig.set_title(\"Распределение продаж для каждой платформы\")\n",
    "\n",
    "# Задание название осей\n",
    "ax.set_xlabel(\"Платформа\")\n",
    "ax.set_ylabel(\"Общие продажи [млн копий]\")\n",
    "\n",
    "# Поворачиваем подписи на оси X (названия платформ) на 45 градусов для лучшей читаемости\n",
    "plt.xticks(rotation=45)\n",
    "\n",
    "# Показ графика\n",
    "plt.show()"
   ]
  },
  {
   "cell_type": "code",
   "execution_count": 33,
   "id": "ca9d9ef0",
   "metadata": {},
   "outputs": [
    {
     "data": {
      "image/png": "[encoded data removed]",
      "text/plain": [
       "<Figure size 1080x1080 with 1 Axes>"
      ]
     },
     "metadata": {
      "needs_background": "light"
     },
     "output_type": "display_data"
    },
    {
     "data": {
      "text/html": [
       "<div>\n",
       "<style scoped>\n",
       "    .dataframe tbody tr th:only-of-type {\n",
       "        vertical-align: middle;\n",
       "    }\n",
       "\n",
       "    .dataframe tbody tr th {\n",
       "        vertical-align: top;\n",
       "    }\n",
       "\n",
       "    .dataframe thead th {\n",
       "        text-align: right;\n",
       "    }\n",
       "</style>\n",
       "<table border=\"1\" class=\"dataframe\">\n",
       "  <thead>\n",
       "    <tr style=\"text-align: right;\">\n",
       "      <th>platform</th>\n",
       "      <th>3DS</th>\n",
       "      <th>DS</th>\n",
       "      <th>PC</th>\n",
       "      <th>PS3</th>\n",
       "      <th>PS4</th>\n",
       "      <th>PSP</th>\n",
       "      <th>PSV</th>\n",
       "      <th>Wii</th>\n",
       "      <th>WiiU</th>\n",
       "      <th>X360</th>\n",
       "      <th>XOne</th>\n",
       "    </tr>\n",
       "  </thead>\n",
       "  <tbody>\n",
       "    <tr>\n",
       "      <th>count</th>\n",
       "      <td>395.00</td>\n",
       "      <td>31.00</td>\n",
       "      <td>250.00</td>\n",
       "      <td>480.00</td>\n",
       "      <td>388.00</td>\n",
       "      <td>172.00</td>\n",
       "      <td>409.00</td>\n",
       "      <td>54.00</td>\n",
       "      <td>147.00</td>\n",
       "      <td>292.00</td>\n",
       "      <td>244.00</td>\n",
       "    </tr>\n",
       "    <tr>\n",
       "      <th>mean</th>\n",
       "      <td>0.49</td>\n",
       "      <td>0.40</td>\n",
       "      <td>0.25</td>\n",
       "      <td>0.60</td>\n",
       "      <td>0.81</td>\n",
       "      <td>0.06</td>\n",
       "      <td>0.12</td>\n",
       "      <td>0.65</td>\n",
       "      <td>0.56</td>\n",
       "      <td>0.81</td>\n",
       "      <td>0.65</td>\n",
       "    </tr>\n",
       "    <tr>\n",
       "      <th>std</th>\n",
       "      <td>1.39</td>\n",
       "      <td>1.44</td>\n",
       "      <td>0.49</td>\n",
       "      <td>1.48</td>\n",
       "      <td>1.62</td>\n",
       "      <td>0.07</td>\n",
       "      <td>0.20</td>\n",
       "      <td>1.17</td>\n",
       "      <td>1.06</td>\n",
       "      <td>1.71</td>\n",
       "      <td>1.04</td>\n",
       "    </tr>\n",
       "    <tr>\n",
       "      <th>min</th>\n",
       "      <td>0.01</td>\n",
       "      <td>0.01</td>\n",
       "      <td>0.01</td>\n",
       "      <td>0.01</td>\n",
       "      <td>0.01</td>\n",
       "      <td>0.01</td>\n",
       "      <td>0.01</td>\n",
       "      <td>0.01</td>\n",
       "      <td>0.01</td>\n",
       "      <td>0.01</td>\n",
       "      <td>0.01</td>\n",
       "    </tr>\n",
       "    <tr>\n",
       "      <th>25%</th>\n",
       "      <td>0.04</td>\n",
       "      <td>0.02</td>\n",
       "      <td>0.03</td>\n",
       "      <td>0.06</td>\n",
       "      <td>0.06</td>\n",
       "      <td>0.02</td>\n",
       "      <td>0.02</td>\n",
       "      <td>0.06</td>\n",
       "      <td>0.08</td>\n",
       "      <td>0.10</td>\n",
       "      <td>0.06</td>\n",
       "    </tr>\n",
       "    <tr>\n",
       "      <th>50%</th>\n",
       "      <td>0.11</td>\n",
       "      <td>0.05</td>\n",
       "      <td>0.08</td>\n",
       "      <td>0.20</td>\n",
       "      <td>0.20</td>\n",
       "      <td>0.03</td>\n",
       "      <td>0.05</td>\n",
       "      <td>0.18</td>\n",
       "      <td>0.22</td>\n",
       "      <td>0.31</td>\n",
       "      <td>0.22</td>\n",
       "    </tr>\n",
       "    <tr>\n",
       "      <th>75%</th>\n",
       "      <td>0.32</td>\n",
       "      <td>0.18</td>\n",
       "      <td>0.24</td>\n",
       "      <td>0.63</td>\n",
       "      <td>0.73</td>\n",
       "      <td>0.09</td>\n",
       "      <td>0.12</td>\n",
       "      <td>0.69</td>\n",
       "      <td>0.52</td>\n",
       "      <td>0.87</td>\n",
       "      <td>0.69</td>\n",
       "    </tr>\n",
       "    <tr>\n",
       "      <th>max</th>\n",
       "      <td>14.60</td>\n",
       "      <td>8.06</td>\n",
       "      <td>5.14</td>\n",
       "      <td>21.05</td>\n",
       "      <td>14.63</td>\n",
       "      <td>0.36</td>\n",
       "      <td>1.96</td>\n",
       "      <td>6.76</td>\n",
       "      <td>7.09</td>\n",
       "      <td>16.27</td>\n",
       "      <td>7.39</td>\n",
       "    </tr>\n",
       "  </tbody>\n",
       "</table>\n",
       "</div>"
      ],
      "text/plain": [
       "platform     3DS     DS      PC     PS3     PS4     PSP     PSV    Wii  \\\n",
       "count     395.00  31.00  250.00  480.00  388.00  172.00  409.00  54.00   \n",
       "mean        0.49   0.40    0.25    0.60    0.81    0.06    0.12   0.65   \n",
       "std         1.39   1.44    0.49    1.48    1.62    0.07    0.20   1.17   \n",
       "min         0.01   0.01    0.01    0.01    0.01    0.01    0.01   0.01   \n",
       "25%         0.04   0.02    0.03    0.06    0.06    0.02    0.02   0.06   \n",
       "50%         0.11   0.05    0.08    0.20    0.20    0.03    0.05   0.18   \n",
       "75%         0.32   0.18    0.24    0.63    0.73    0.09    0.12   0.69   \n",
       "max        14.60   8.06    5.14   21.05   14.63    0.36    1.96   6.76   \n",
       "\n",
       "platform    WiiU    X360    XOne  \n",
       "count     147.00  292.00  244.00  \n",
       "mean        0.56    0.81    0.65  \n",
       "std         1.06    1.71    1.04  \n",
       "min         0.01    0.01    0.01  \n",
       "25%         0.08    0.10    0.06  \n",
       "50%         0.22    0.31    0.22  \n",
       "75%         0.52    0.87    0.69  \n",
       "max         7.09   16.27    7.39  "
      ]
     },
     "execution_count": 33,
     "metadata": {},
     "output_type": "execute_result"
    }
   ],
   "source": [
    "# Строим коробчатую диаграмму (boxplot) для отображения распределения продаж по платформам\n",
    "f, ax = plt.subplots(figsize=(15, 15))  # Создаем фигуру и ось\n",
    "\n",
    "fig = sns.boxplot(x='platform', y='total_sales', data=actual_df, ax=ax)\n",
    "\n",
    "# Настройки графика\n",
    "fig.set_title(\"Распределение продаж для каждой платформы\")\n",
    "ax.set_ylim(0, 2.5)  # Ограничиваем диапазон оси Y\n",
    "# Задание название осей\n",
    "ax.set_xlabel(\"Платформа\")\n",
    "ax.set_ylabel(\"Общие продажи [млн копий]\")\n",
    "\n",
    "# Поворачиваем подписи на оси X (названия платформ) на 45 градусов для лучшей читаемости\n",
    "plt.xticks(rotation=45)\n",
    "\n",
    "# Показ графика\n",
    "plt.show()\n",
    "\n",
    "actual_df.groupby('platform')['total_sales'].describe().round(2).T"
   ]
  },
  {
   "cell_type": "markdown",
   "id": "dec28d3e",
   "metadata": {},
   "source": [
    "**Вывод:** Анализируя график `«ящик с усами»` и статистические данные можно сделать несколько выводов:\n",
    "\n",
    "- Платформы `X360`, `PS3`, `XOne`, `PS4` и `Wii` демонстрируют широкий диапазон продаж с высокими максимальными значениями и множеством выбросов, что свидетельствует о наличии игр с особенно высокими продажами. А медианное значение близко к 0.2 млн.\n",
    "- У таких платформ, как `PSV` и `PSP`, значительно более низкие медианные значения (~ 0.04) и общий уровень продаж по сравнению с другими.\n",
    "- Платформы `DS` и `PC` имеют более узкое распределение, что означает, что их продажи более стабильны и имеют меньше крайних значений."
   ]
  },
  {
   "cell_type": "markdown",
   "id": "72734afd",
   "metadata": {},
   "source": [
    "<a class=\"anchor\" id=\"3.6-bullet\"></a>\n",
    "### Как влияют на продажи внутри одной популярной платформы (PS4) отзывы пользователей и критиков."
   ]
  },
  {
   "cell_type": "markdown",
   "id": "24480763",
   "metadata": {},
   "source": [
    "**Влияние отзывов пользователей**"
   ]
  },
  {
   "cell_type": "code",
   "execution_count": 34,
   "id": "012882d0",
   "metadata": {},
   "outputs": [
    {
     "data": {
      "image/png": "[encoded data removed]",
      "text/plain": [
       "<Figure size 432x288 with 1 Axes>"
      ]
     },
     "metadata": {
      "needs_background": "light"
     },
     "output_type": "display_data"
    },
    {
     "data": {
      "text/plain": [
       "\"коэффициент корреляции для столбцов 'total_sales' и 'user_score' равен -0.03\""
      ]
     },
     "execution_count": 34,
     "metadata": {},
     "output_type": "execute_result"
    }
   ],
   "source": [
    "ps4_df = actual_df.query('platform == \"PS4\"')\n",
    "\n",
    "ps4_df.plot.scatter(x='user_score', y='total_sales', alpha=0.5, grid=True)\n",
    "plt.title(\"График рассеяния суммарных продаж от оценки пользователей\")\n",
    "plt.xlabel('Оценка пользователя')\n",
    "plt.ylabel('Суммарные продажи [млн копий]')\n",
    "plt.show()\n",
    "\n",
    "#посчитаем коэффициент корреляции \n",
    "corr_coef = ps4_df['user_score'].corr(ps4_df['total_sales'])\n",
    "(f\"коэффициент корреляции для столбцов 'total_sales' и 'user_score' равен {corr_coef:.2f}\")"
   ]
  },
  {
   "cell_type": "markdown",
   "id": "c8216d1b",
   "metadata": {},
   "source": [
    "**Влияние отзывов критиков**"
   ]
  },
  {
   "cell_type": "code",
   "execution_count": 35,
   "id": "c6488d34",
   "metadata": {},
   "outputs": [
    {
     "data": {
      "image/png": "[encoded data removed]",
      "text/plain": [
       "<Figure size 432x288 with 1 Axes>"
      ]
     },
     "metadata": {
      "needs_background": "light"
     },
     "output_type": "display_data"
    },
    {
     "data": {
      "text/plain": [
       "\"коэффициент корреляции для столбцов 'total_sales' и 'critic_score' равен 0.41\""
      ]
     },
     "metadata": {},
     "output_type": "display_data"
    },
    {
     "name": "stdout",
     "output_type": "stream",
     "text": [
      "Коэффициент корреляции для оценок больше 60: 0.45\n",
      "Коэффициент корреляции для оценок 60 и ниже: 0.16\n"
     ]
    }
   ],
   "source": [
    "ps4_df.plot.scatter(x='critic_score', y='total_sales', alpha=0.5, grid=True)\n",
    "plt.title(\"График рассеяния суммарных продаж от оценки критиков\")\n",
    "plt.xlabel('Оценка критиков')\n",
    "plt.ylabel('Суммарные продажи [млн копий]')\n",
    "plt.show()\n",
    "\n",
    "#посчитаем коэффициент корреляции \n",
    "corr_coef = ps4_df['critic_score'].corr(ps4_df['total_sales'])\n",
    "display(f\"коэффициент корреляции для столбцов 'total_sales' и 'critic_score' равен {corr_coef:.2f}\")\n",
    "\n",
    "# Фильтрация данных для оценок выше 60\n",
    "above_60 = ps4_df[ps4_df['critic_score'] > 60]\n",
    "correlation_above_60 = above_60['critic_score'].corr(above_60['total_sales'])\n",
    "\n",
    "# Фильтрация данных для оценок ниже или равно 60\n",
    "below_60 = ps4_df[ps4_df['critic_score'] <= 60]\n",
    "correlation_below_60 = below_60['critic_score'].corr(below_60['total_sales'])\n",
    "\n",
    "# Вывод результатов\n",
    "print(f\"Коэффициент корреляции для оценок больше 60: {correlation_above_60:.2f}\")\n",
    "print(f\"Коэффициент корреляции для оценок 60 и ниже: {correlation_below_60:.2f}\")"
   ]
  },
  {
   "cell_type": "markdown",
   "id": "3a4d2fc3",
   "metadata": {},
   "source": [
    "**Вывод:**\n",
    "\n",
    "- Влияние оценки пользователей на конечные продажи игры не замечено, что подтверждает коэф. корреляции Пирсона равный `-0.03`;\n",
    "- Влияние плохой оценки критиков на конечные продажи игры не замечено, но хорошие оценки слабо повышают конечные продажи игры."
   ]
  },
  {
   "cell_type": "markdown",
   "id": "8823c49f",
   "metadata": {},
   "source": [
    "<a class=\"anchor\" id=\"3.7-bullet\"></a>\n",
    "### Как влияют на продажи отзывы пользователей и критиков для других платформ."
   ]
  },
  {
   "cell_type": "code",
   "execution_count": 36,
   "id": "b2c31ccb",
   "metadata": {},
   "outputs": [],
   "source": [
    "# Рассчитываем коэффициенты корреляции для всех платформ\n",
    "#correlation_matrix = actual_df.query('platform != \"PS4\"')[['total_sales', 'critic_score', 'user_score']].corr()\n",
    "\n",
    "# Выводим коэффициенты корреляции\n",
    "#print(\"Коэффициент корреляции Пирсона для всех платформ:\")\n",
    "#print(correlation_matrix.round(2))"
   ]
  },
  {
   "cell_type": "code",
   "execution_count": 37,
   "id": "c870cb41",
   "metadata": {
    "scrolled": false
   },
   "outputs": [
    {
     "data": {
      "image/png": "[encoded data removed]",
      "text/plain": [
       "<Figure size 432x288 with 1 Axes>"
      ]
     },
     "metadata": {
      "needs_background": "light"
     },
     "output_type": "display_data"
    },
    {
     "data": {
      "text/plain": [
       "\"коэффициент корреляции для столбцов 'total_sales' и 'user_score' платформы PS3 равен -0.01\""
      ]
     },
     "metadata": {},
     "output_type": "display_data"
    },
    {
     "data": {
      "image/png": "[encoded data removed]",
      "text/plain": [
       "<Figure size 432x288 with 1 Axes>"
      ]
     },
     "metadata": {
      "needs_background": "light"
     },
     "output_type": "display_data"
    },
    {
     "data": {
      "text/plain": [
       "\"коэффициент корреляции для столбцов 'total_sales' и 'critic_score' платформы PS3 равен 0.33\""
      ]
     },
     "metadata": {},
     "output_type": "display_data"
    },
    {
     "data": {
      "image/png": "[encoded data removed]",
      "text/plain": [
       "<Figure size 432x288 with 1 Axes>"
      ]
     },
     "metadata": {
      "needs_background": "light"
     },
     "output_type": "display_data"
    },
    {
     "data": {
      "text/plain": [
       "\"коэффициент корреляции для столбцов 'total_sales' и 'user_score' платформы XOne равен -0.06\""
      ]
     },
     "metadata": {},
     "output_type": "display_data"
    },
    {
     "data": {
      "image/png": "[encoded data removed]",
      "text/plain": [
       "<Figure size 432x288 with 1 Axes>"
      ]
     },
     "metadata": {
      "needs_background": "light"
     },
     "output_type": "display_data"
    },
    {
     "data": {
      "text/plain": [
       "\"коэффициент корреляции для столбцов 'total_sales' и 'critic_score' платформы XOne равен 0.42\""
      ]
     },
     "metadata": {},
     "output_type": "display_data"
    },
    {
     "data": {
      "image/png": "[encoded data removed]",
      "text/plain": [
       "<Figure size 432x288 with 1 Axes>"
      ]
     },
     "metadata": {
      "needs_background": "light"
     },
     "output_type": "display_data"
    },
    {
     "data": {
      "text/plain": [
       "\"коэффициент корреляции для столбцов 'total_sales' и 'user_score' платформы PC равен -0.12\""
      ]
     },
     "metadata": {},
     "output_type": "display_data"
    },
    {
     "data": {
      "image/png": "[encoded data removed]",
      "text/plain": [
       "<Figure size 432x288 with 1 Axes>"
      ]
     },
     "metadata": {
      "needs_background": "light"
     },
     "output_type": "display_data"
    },
    {
     "data": {
      "text/plain": [
       "\"коэффициент корреляции для столбцов 'total_sales' и 'critic_score' платформы PC равен 0.24\""
      ]
     },
     "metadata": {},
     "output_type": "display_data"
    },
    {
     "data": {
      "text/plain": [
       "0.33"
      ]
     },
     "metadata": {},
     "output_type": "display_data"
    }
   ],
   "source": [
    "platforms = ['PS3', 'XOne', 'PC']\n",
    "corr_coef_critic_list = []\n",
    "\n",
    "for platform in platforms:\n",
    "    platform_df = actual_df.query('platform == @platform')\n",
    "\n",
    "    platform_df.plot.scatter(x='user_score', y='total_sales', alpha=0.5, grid=True)\n",
    "    plt.title(f\"График рассеяния суммарных продаж от оценки пользователей для платформы {platform}\")\n",
    "    plt.xlabel('Оценка пользователей')\n",
    "    plt.ylabel('Суммарные продажи [млн копий]')\n",
    "    plt.show()\n",
    "\n",
    "    #посчитаем коэффициент корреляции \n",
    "    corr_coef = platform_df['user_score'].corr(platform_df['total_sales'])\n",
    "    display(f\"коэффициент корреляции для столбцов 'total_sales' и 'user_score'\"\n",
    "     f\" платформы {platform} равен {corr_coef:.2f}\")\n",
    "    ps4_df.plot.scatter(x='critic_score', y='total_sales', alpha=0.5, grid=True)\n",
    "    plt.title(f\"График рассеяния суммарных продаж от оценки критиков для платформы {platform}\")\n",
    "    plt.xlabel('Оценка критиков')\n",
    "    plt.ylabel('Суммарные продажи [млн копий]')\n",
    "    plt.show()\n",
    "\n",
    "    #посчитаем коэффициент корреляции \n",
    "    corr_coef = platform_df['critic_score'].corr(platform_df['total_sales'])\n",
    "    display(f\"коэффициент корреляции для столбцов 'total_sales' и 'critic_score'\"\n",
    "            f\" платформы {platform} равен {corr_coef:.2f}\")\n",
    "    corr_coef_critic_list.append(corr_coef)\n",
    "    \n",
    "display(np.mean(corr_coef_critic_list).round(2))"
   ]
  },
  {
   "cell_type": "markdown",
   "id": "f4f04a94",
   "metadata": {},
   "source": [
    "**Вывод:**   \n",
    "- Для платформы `PS3`;\n",
    "    - Влияние оценки пользователей на конечные продажи игры не замечено, что подтверждает коэф. корреляции Пирсона равный `-0.01`;\n",
    "    - Присутстсвует слабая положительная корреляция влияния оценки критиков на конечные продажи игры, что подтверждает коэф. корреляции Пирсона равный `0.33`;\n",
    "- Для платформы `XOne`;\n",
    "    - Влияние оценки пользователей на конечные продажи игры не замечено, что подтверждает коэф. корреляции Пирсона равный `-0.07`;\n",
    "    - Присутстсвует слабая положительная корреляция влияния оценки критиков на конечные продажи игры, что подтверждает коэф. корреляции Пирсона равный `0.42`;\n",
    "- Для платформы `PС`;\n",
    "    - Влияние оценки пользователей на конечные продажи игры не замечено, что подтверждает коэф. корреляции Пирсона равный `-0.12`;\n",
    "    - Присутстсвует очень слабая положительная корреляция влияния оценки критиков на конечные продажи игры, что подтверждает коэф. корреляции Пирсона равный `0.24`;\n",
    "    \n",
    "**Подведя итоги:**  \n",
    "Влияние оценок пользователей не влияет на итоговые продажи. Влияние оценок критиков немного помогает увеличить итоговые продажи."
   ]
  },
  {
   "cell_type": "markdown",
   "id": "3d1c8232",
   "metadata": {},
   "source": [
    "<a class=\"anchor\" id=\"3.8-bullet\"></a>\n",
    "### Общее распределение игр по жанрам"
   ]
  },
  {
   "cell_type": "markdown",
   "id": "8e49a93c",
   "metadata": {},
   "source": [
    "Для отображения распределения итоговых продаж (прибыли) между разными группами лучше всего подойдет `Boxplot (ящиковая диаграмма)` ей и воспользуемся"
   ]
  },
  {
   "cell_type": "code",
   "execution_count": 38,
   "id": "b22b7ad1",
   "metadata": {},
   "outputs": [
    {
     "data": {
      "image/png": "[encoded data removed]",
      "text/plain": [
       "<Figure size 1080x720 with 1 Axes>"
      ]
     },
     "metadata": {
      "needs_background": "light"
     },
     "output_type": "display_data"
    },
    {
     "data": {
      "text/html": [
       "<div>\n",
       "<style scoped>\n",
       "    .dataframe tbody tr th:only-of-type {\n",
       "        vertical-align: middle;\n",
       "    }\n",
       "\n",
       "    .dataframe tbody tr th {\n",
       "        vertical-align: top;\n",
       "    }\n",
       "\n",
       "    .dataframe thead th {\n",
       "        text-align: right;\n",
       "    }\n",
       "</style>\n",
       "<table border=\"1\" class=\"dataframe\">\n",
       "  <thead>\n",
       "    <tr style=\"text-align: right;\">\n",
       "      <th>genre</th>\n",
       "      <th>Action</th>\n",
       "      <th>Adventure</th>\n",
       "      <th>Fighting</th>\n",
       "      <th>Misc</th>\n",
       "      <th>Platform</th>\n",
       "      <th>Puzzle</th>\n",
       "      <th>Racing</th>\n",
       "      <th>Role-Playing</th>\n",
       "      <th>Shooter</th>\n",
       "      <th>Simulation</th>\n",
       "      <th>Sports</th>\n",
       "      <th>Strategy</th>\n",
       "    </tr>\n",
       "  </thead>\n",
       "  <tbody>\n",
       "    <tr>\n",
       "      <th>count</th>\n",
       "      <td>1016.00</td>\n",
       "      <td>302.00</td>\n",
       "      <td>109.00</td>\n",
       "      <td>187.00</td>\n",
       "      <td>85.00</td>\n",
       "      <td>28.00</td>\n",
       "      <td>115.00</td>\n",
       "      <td>368.00</td>\n",
       "      <td>234.00</td>\n",
       "      <td>80.00</td>\n",
       "      <td>267.00</td>\n",
       "      <td>71.00</td>\n",
       "    </tr>\n",
       "    <tr>\n",
       "      <th>mean</th>\n",
       "      <td>0.43</td>\n",
       "      <td>0.10</td>\n",
       "      <td>0.41</td>\n",
       "      <td>0.45</td>\n",
       "      <td>0.72</td>\n",
       "      <td>0.17</td>\n",
       "      <td>0.47</td>\n",
       "      <td>0.52</td>\n",
       "      <td>1.30</td>\n",
       "      <td>0.44</td>\n",
       "      <td>0.68</td>\n",
       "      <td>0.19</td>\n",
       "    </tr>\n",
       "    <tr>\n",
       "      <th>std</th>\n",
       "      <td>1.17</td>\n",
       "      <td>0.21</td>\n",
       "      <td>0.91</td>\n",
       "      <td>1.09</td>\n",
       "      <td>1.36</td>\n",
       "      <td>0.31</td>\n",
       "      <td>0.89</td>\n",
       "      <td>1.32</td>\n",
       "      <td>2.26</td>\n",
       "      <td>1.24</td>\n",
       "      <td>1.14</td>\n",
       "      <td>0.27</td>\n",
       "    </tr>\n",
       "    <tr>\n",
       "      <th>min</th>\n",
       "      <td>0.01</td>\n",
       "      <td>0.01</td>\n",
       "      <td>0.01</td>\n",
       "      <td>0.01</td>\n",
       "      <td>0.01</td>\n",
       "      <td>0.01</td>\n",
       "      <td>0.01</td>\n",
       "      <td>0.01</td>\n",
       "      <td>0.01</td>\n",
       "      <td>0.01</td>\n",
       "      <td>0.01</td>\n",
       "      <td>0.01</td>\n",
       "    </tr>\n",
       "    <tr>\n",
       "      <th>25%</th>\n",
       "      <td>0.04</td>\n",
       "      <td>0.02</td>\n",
       "      <td>0.06</td>\n",
       "      <td>0.04</td>\n",
       "      <td>0.09</td>\n",
       "      <td>0.02</td>\n",
       "      <td>0.05</td>\n",
       "      <td>0.06</td>\n",
       "      <td>0.14</td>\n",
       "      <td>0.03</td>\n",
       "      <td>0.08</td>\n",
       "      <td>0.03</td>\n",
       "    </tr>\n",
       "    <tr>\n",
       "      <th>50%</th>\n",
       "      <td>0.12</td>\n",
       "      <td>0.03</td>\n",
       "      <td>0.13</td>\n",
       "      <td>0.13</td>\n",
       "      <td>0.21</td>\n",
       "      <td>0.04</td>\n",
       "      <td>0.14</td>\n",
       "      <td>0.15</td>\n",
       "      <td>0.44</td>\n",
       "      <td>0.12</td>\n",
       "      <td>0.24</td>\n",
       "      <td>0.08</td>\n",
       "    </tr>\n",
       "    <tr>\n",
       "      <th>75%</th>\n",
       "      <td>0.40</td>\n",
       "      <td>0.08</td>\n",
       "      <td>0.36</td>\n",
       "      <td>0.36</td>\n",
       "      <td>0.66</td>\n",
       "      <td>0.10</td>\n",
       "      <td>0.42</td>\n",
       "      <td>0.41</td>\n",
       "      <td>1.48</td>\n",
       "      <td>0.33</td>\n",
       "      <td>0.74</td>\n",
       "      <td>0.25</td>\n",
       "    </tr>\n",
       "    <tr>\n",
       "      <th>max</th>\n",
       "      <td>21.05</td>\n",
       "      <td>1.66</td>\n",
       "      <td>7.55</td>\n",
       "      <td>9.18</td>\n",
       "      <td>9.90</td>\n",
       "      <td>1.19</td>\n",
       "      <td>7.09</td>\n",
       "      <td>14.60</td>\n",
       "      <td>14.63</td>\n",
       "      <td>9.17</td>\n",
       "      <td>8.58</td>\n",
       "      <td>1.67</td>\n",
       "    </tr>\n",
       "  </tbody>\n",
       "</table>\n",
       "</div>"
      ],
      "text/plain": [
       "genre   Action  Adventure  Fighting    Misc  Platform  Puzzle  Racing  \\\n",
       "count  1016.00     302.00    109.00  187.00     85.00   28.00  115.00   \n",
       "mean      0.43       0.10      0.41    0.45      0.72    0.17    0.47   \n",
       "std       1.17       0.21      0.91    1.09      1.36    0.31    0.89   \n",
       "min       0.01       0.01      0.01    0.01      0.01    0.01    0.01   \n",
       "25%       0.04       0.02      0.06    0.04      0.09    0.02    0.05   \n",
       "50%       0.12       0.03      0.13    0.13      0.21    0.04    0.14   \n",
       "75%       0.40       0.08      0.36    0.36      0.66    0.10    0.42   \n",
       "max      21.05       1.66      7.55    9.18      9.90    1.19    7.09   \n",
       "\n",
       "genre  Role-Playing  Shooter  Simulation  Sports  Strategy  \n",
       "count        368.00   234.00       80.00  267.00     71.00  \n",
       "mean           0.52     1.30        0.44    0.68      0.19  \n",
       "std            1.32     2.26        1.24    1.14      0.27  \n",
       "min            0.01     0.01        0.01    0.01      0.01  \n",
       "25%            0.06     0.14        0.03    0.08      0.03  \n",
       "50%            0.15     0.44        0.12    0.24      0.08  \n",
       "75%            0.41     1.48        0.33    0.74      0.25  \n",
       "max           14.60    14.63        9.17    8.58      1.67  "
      ]
     },
     "execution_count": 38,
     "metadata": {},
     "output_type": "execute_result"
    }
   ],
   "source": [
    "# Строим коробчатую диаграмму (boxplot) для отображения распределения продаж по платформам\n",
    "f, ax = plt.subplots(figsize=(15, 10))  # Создаем фигуру и ось\n",
    "\n",
    "fig = sns.boxplot(x='genre', y='total_sales', data=actual_df, ax=ax)\n",
    "\n",
    "# Настройки графика\n",
    "fig.set_title(\"Распределение продаж для каждого жанра\")\n",
    "ax.set_xlabel(\"Жанр\")\n",
    "ax.set_ylabel(\"Общие продажи [млн копий]\")\n",
    "ax.set_ylim(0, 5)  # Ограничиваем диапазон оси Y\n",
    "\n",
    "# Поворачиваем подписи на оси X (названия платформ) на 45 градусов для лучшей читаемости\n",
    "plt.xticks(rotation=45)\n",
    "\n",
    "# Показ графика\n",
    "plt.show()\n",
    "\n",
    "actual_df.groupby('genre')['total_sales'].describe().round(2).T"
   ]
  },
  {
   "cell_type": "code",
   "execution_count": 39,
   "id": "a676a361",
   "metadata": {},
   "outputs": [
    {
     "data": {
      "text/html": [
       "<div>\n",
       "<style scoped>\n",
       "    .dataframe tbody tr th:only-of-type {\n",
       "        vertical-align: middle;\n",
       "    }\n",
       "\n",
       "    .dataframe tbody tr th {\n",
       "        vertical-align: top;\n",
       "    }\n",
       "\n",
       "    .dataframe thead th {\n",
       "        text-align: right;\n",
       "    }\n",
       "</style>\n",
       "<table border=\"1\" class=\"dataframe\">\n",
       "  <thead>\n",
       "    <tr style=\"text-align: right;\">\n",
       "      <th></th>\n",
       "      <th>sum</th>\n",
       "      <th>mean</th>\n",
       "      <th>median</th>\n",
       "    </tr>\n",
       "    <tr>\n",
       "      <th>genre</th>\n",
       "      <th></th>\n",
       "      <th></th>\n",
       "      <th></th>\n",
       "    </tr>\n",
       "  </thead>\n",
       "  <tbody>\n",
       "    <tr>\n",
       "      <th>Action</th>\n",
       "      <td>440.29</td>\n",
       "      <td>0.433356</td>\n",
       "      <td>0.120</td>\n",
       "    </tr>\n",
       "    <tr>\n",
       "      <th>Shooter</th>\n",
       "      <td>304.67</td>\n",
       "      <td>1.302009</td>\n",
       "      <td>0.440</td>\n",
       "    </tr>\n",
       "    <tr>\n",
       "      <th>Role-Playing</th>\n",
       "      <td>192.68</td>\n",
       "      <td>0.523587</td>\n",
       "      <td>0.145</td>\n",
       "    </tr>\n",
       "    <tr>\n",
       "      <th>Sports</th>\n",
       "      <td>181.06</td>\n",
       "      <td>0.678127</td>\n",
       "      <td>0.240</td>\n",
       "    </tr>\n",
       "    <tr>\n",
       "      <th>Misc</th>\n",
       "      <td>84.93</td>\n",
       "      <td>0.454171</td>\n",
       "      <td>0.130</td>\n",
       "    </tr>\n",
       "    <tr>\n",
       "      <th>Platform</th>\n",
       "      <td>61.00</td>\n",
       "      <td>0.717647</td>\n",
       "      <td>0.210</td>\n",
       "    </tr>\n",
       "    <tr>\n",
       "      <th>Racing</th>\n",
       "      <td>53.50</td>\n",
       "      <td>0.465217</td>\n",
       "      <td>0.140</td>\n",
       "    </tr>\n",
       "    <tr>\n",
       "      <th>Fighting</th>\n",
       "      <td>44.49</td>\n",
       "      <td>0.408165</td>\n",
       "      <td>0.130</td>\n",
       "    </tr>\n",
       "    <tr>\n",
       "      <th>Simulation</th>\n",
       "      <td>35.12</td>\n",
       "      <td>0.439000</td>\n",
       "      <td>0.120</td>\n",
       "    </tr>\n",
       "    <tr>\n",
       "      <th>Adventure</th>\n",
       "      <td>29.43</td>\n",
       "      <td>0.097450</td>\n",
       "      <td>0.030</td>\n",
       "    </tr>\n",
       "    <tr>\n",
       "      <th>Strategy</th>\n",
       "      <td>13.34</td>\n",
       "      <td>0.187887</td>\n",
       "      <td>0.080</td>\n",
       "    </tr>\n",
       "    <tr>\n",
       "      <th>Puzzle</th>\n",
       "      <td>4.89</td>\n",
       "      <td>0.174643</td>\n",
       "      <td>0.045</td>\n",
       "    </tr>\n",
       "  </tbody>\n",
       "</table>\n",
       "</div>"
      ],
      "text/plain": [
       "                 sum      mean  median\n",
       "genre                                 \n",
       "Action        440.29  0.433356   0.120\n",
       "Shooter       304.67  1.302009   0.440\n",
       "Role-Playing  192.68  0.523587   0.145\n",
       "Sports        181.06  0.678127   0.240\n",
       "Misc           84.93  0.454171   0.130\n",
       "Platform       61.00  0.717647   0.210\n",
       "Racing         53.50  0.465217   0.140\n",
       "Fighting       44.49  0.408165   0.130\n",
       "Simulation     35.12  0.439000   0.120\n",
       "Adventure      29.43  0.097450   0.030\n",
       "Strategy       13.34  0.187887   0.080\n",
       "Puzzle          4.89  0.174643   0.045"
      ]
     },
     "execution_count": 39,
     "metadata": {},
     "output_type": "execute_result"
    }
   ],
   "source": [
    "actual_genre = actual_df.pivot_table(\n",
    "    index='genre',\n",
    "    values='total_sales',\n",
    "    aggfunc=['sum', 'mean', 'median']\n",
    ")\n",
    "\n",
    "actual_genre.columns = ['sum', 'mean', 'median']\n",
    "\n",
    "actual_genre.sort_values(by='sum', ascending=False)"
   ]
  },
  {
   "cell_type": "markdown",
   "id": "37bc8475",
   "metadata": {},
   "source": [
    "**Вывод:**\n",
    "\n",
    "В жанре Action много выбросов (очень прибыльных игр). Из-за этого общая прибыль по жанру Action выше остальных. Но медианное самое высокое в жанре Shooter.  \n",
    "Наименее прибыльны интелектуальные игры, такие как пазлы и стратегии."
   ]
  },
  {
   "cell_type": "markdown",
   "id": "735627fd",
   "metadata": {},
   "source": [
    "**Общий вывод:**\n",
    "\n",
    "- Если анализ требует понимания исторического контекста, долгосрочных трендов или сравнения с прошлыми периодами, данные за все эры будут важны. Однако, если цель анализа — текущие или недавние тренды, то можно сосредоточиться на данных за последние несколько лет;\n",
    "- Из всех платформ потенциально наиболее прибыльными являются **PS4** и **XOne**, эти платформы были выпущены в 2013 году (учитывая жизнь платформы ~ 7 лет), то на 2017 год данные платформы находятся на экваторе своего развития.\n",
    "- Успешность игры зависит от платформы на которой она выпускается. Успешные платформы для выпуска **PS4** и **XOne**.\n",
    "- Влияние оценок пользователей на общую прибыльность игры не существует.\n",
    "- Влияние оценок критиков на общую прибыльность игры есть, прослеживается слабая положительная корреляция.\n",
    "- Для выпуска успешной игры нужно целиться в жанры `Action`, `Shooter`, `Role-Playing` или `Sports`."
   ]
  },
  {
   "cell_type": "markdown",
   "id": "4ef51331",
   "metadata": {},
   "source": [
    "<a class=\"anchor\" id=\"4-bullet\"></a>\n",
    "## Составьте портрет пользователя каждого региона"
   ]
  },
  {
   "cell_type": "markdown",
   "id": "dc1a4a77",
   "metadata": {},
   "source": [
    "**Определите для пользователя каждого региона (NA, EU, JP):**"
   ]
  },
  {
   "cell_type": "code",
   "execution_count": 40,
   "id": "ef987c48",
   "metadata": {},
   "outputs": [],
   "source": [
    "regions = ['eu_sales', 'na_sales', 'jp_sales']"
   ]
  },
  {
   "cell_type": "markdown",
   "id": "49ef61de",
   "metadata": {},
   "source": [
    "<a class=\"anchor\" id=\"4.1-bullet\"></a>\n",
    "###  Самые популярные платформы (топ-5)."
   ]
  },
  {
   "cell_type": "code",
   "execution_count": 41,
   "id": "47c4cbe6",
   "metadata": {},
   "outputs": [
    {
     "name": "stdout",
     "output_type": "stream",
     "text": [
      "Уникальные значения для eu_sales: ['PS3' 'X360' 'PS4' '3DS' 'Другие_платформы' 'XOne']\n",
      "Уникальные значения для na_sales: ['PS3' 'X360' 'PS4' '3DS' 'Другие_платформы' 'XOne']\n",
      "Уникальные значения для jp_sales: ['PS3' 'Другие_платформы' 'PS4' '3DS' 'WiiU' 'PSV']\n"
     ]
    }
   ],
   "source": [
    "def create_top5_platforms_column(df, region_column, new_column_name='platform_top5', top_n=5, other_name='Другие_платформы'):\n",
    "    \"\"\"\n",
    "    Создает новый столбец с топ-5 платформами и группирует остальные как 'Другие'.\n",
    "    \"\"\"\n",
    "    # Находим топ-N платформ по продажам\n",
    "    top_platforms = df.groupby('platform')[region_column].sum().nlargest(top_n).index\n",
    "\n",
    "    # Создаем новый столбец\n",
    "    df[new_column_name] = df['platform'].apply(lambda x: x if x in top_platforms else other_name)\n",
    "\n",
    "    return df\n",
    "\n",
    "for region in regions:\n",
    "    # Вызов функции с использованием названия региона как имени столбца\n",
    "    platform_sales = create_top5_platforms_column(actual_df, region, new_column_name=f'platform_top5_{region}')\n",
    "    # Проверка уникальных значений в новом столбце\n",
    "    unique_values = platform_sales[f'platform_top5_{region}'].unique()\n",
    "    print(f\"Уникальные значения для {region}: {unique_values}\")"
   ]
  },
  {
   "cell_type": "code",
   "execution_count": 42,
   "id": "3d60b589",
   "metadata": {},
   "outputs": [
    {
     "data": {
      "image/png": "[encoded data removed]",
      "text/plain": [
       "<Figure size 1080x432 with 3 Axes>"
      ]
     },
     "metadata": {},
     "output_type": "display_data"
    }
   ],
   "source": [
    "num_regions = len(regions)\n",
    "\n",
    "# Создание подграфиков\n",
    "fig, ax = plt.subplots(1, num_regions, figsize=(15, 6))  # 1 ряд и num_regions колонок\n",
    "\n",
    "# Проходим по каждому региону\n",
    "for i, region in enumerate(regions):\n",
    "    # Суммируем продажи по платформам для каждого региона\n",
    "    platform_sales = actual_df.groupby(by=f'platform_top5_{region}').agg({region: 'sum'}).sort_values(by=region, ascending=False)\n",
    "    # Строим круговую диаграмму\n",
    "    ax[i].pie(platform_sales[region], labels=platform_sales.index, autopct='%1.1f%%', startangle=45)\n",
    "    ax[i].set_title(f'{region}')\n",
    "\n",
    "# Настройка общего заголовка графика\n",
    "plt.suptitle(\"Топ 5 платформ по продажам в регионах\", fontsize=20)\n",
    "plt.tight_layout(rect=[0, 0.2, 1, 1])  # Оптимизация пространства между подграфиками\n",
    "plt.show()"
   ]
  },
  {
   "cell_type": "markdown",
   "id": "5cddb952",
   "metadata": {},
   "source": [
    "**Вывод:** \n",
    "\n",
    "Предпочтение пользователей Северной Америки и Европы схожи но можно заметить, что в NA платформы Microsft (`XOne` и `X360`) имеют паритет с платформами Sony (`PS4` и `PS3`), в отличии от EU, где платформы Sony более популярны.  \n",
    "В Японии самыми популярными оказались платформы Nintendo (`3DS` и `WiiU`)"
   ]
  },
  {
   "cell_type": "markdown",
   "id": "3904c163",
   "metadata": {},
   "source": [
    "<a class=\"anchor\" id=\"4.2-bullet\"></a>\n",
    "### Самые популярные жанры (топ-5)"
   ]
  },
  {
   "cell_type": "code",
   "execution_count": 43,
   "id": "0ebc5a90",
   "metadata": {},
   "outputs": [
    {
     "name": "stdout",
     "output_type": "stream",
     "text": [
      "Уникальные значения для eu_sales: ['Action' 'Shooter' 'Role-Playing' 'Другие_жанры' 'Sports' 'Racing']\n",
      "Уникальные значения для na_sales: ['Action' 'Shooter' 'Role-Playing' 'Другие_жанры' 'Misc' 'Sports']\n",
      "Уникальные значения для jp_sales: ['Action' 'Другие_жанры' 'Role-Playing' 'Misc' 'Simulation' 'Fighting']\n"
     ]
    }
   ],
   "source": [
    "def create_top5_genres_column(df, region_column, new_column_name='genre_top5', top_n=5, other_name='Другие_жанры'):\n",
    "    \"\"\"\n",
    "    Создает новый столбец с топ-5 жанрами и группирует остальные как 'Другие'.\n",
    "    \"\"\"\n",
    "    # Находим топ-N жанров по продажам\n",
    "    top_genres = df.groupby('genre')[region_column].sum().nlargest(top_n).index\n",
    "\n",
    "    # Создаем новый столбец\n",
    "    df[new_column_name] = df['genre'].apply(lambda x: x if x in top_genres else other_name)\n",
    "\n",
    "    return df\n",
    "\n",
    "for region in regions:\n",
    "    # Вызов функции с использованием названия региона как имени столбца\n",
    "    genres_sales = create_top5_genres_column(actual_df, region, new_column_name=f'genre_top5_{region}')\n",
    "    # Проверка уникальных значений в новом столбце\n",
    "    unique_values = genres_sales[f'genre_top5_{region}'].unique()\n",
    "    print(f\"Уникальные значения для {region}: {unique_values}\")"
   ]
  },
  {
   "cell_type": "code",
   "execution_count": 44,
   "id": "8f914063",
   "metadata": {},
   "outputs": [
    {
     "data": {
      "image/png": "[encoded data removed]",
      "text/plain": [
       "<Figure size 1080x432 with 3 Axes>"
      ]
     },
     "metadata": {},
     "output_type": "display_data"
    }
   ],
   "source": [
    "# Создание подграфиков\n",
    "fig, ax = plt.subplots(1, num_regions, figsize=(15, 6))  # 1 ряд и num_regions колонок\n",
    "\n",
    "# Проходим по каждому региону\n",
    "for i, region in enumerate(regions):\n",
    "    # Суммируем продажи по платформам для каждого региона\n",
    "    genres_sales = actual_df.groupby(by=f'genre_top5_{region}').agg({region: 'sum'}).sort_values(by=region, ascending=False)\n",
    "    # Строим круговую диаграмму\n",
    "    ax[i].pie(genres_sales[region], labels=genres_sales.index, autopct='%1.1f%%', startangle=45)\n",
    "    ax[i].set_title(f'{region}')\n",
    "\n",
    "# Настройка общего заголовка графика\n",
    "plt.suptitle(\"Топ 5 жанров по продажам в регионах\", fontsize=20)\n",
    "plt.tight_layout(rect=[0, 0.15, 1, 1])  # Оптимизация пространства между подграфиками\n",
    "plt.show()"
   ]
  },
  {
   "cell_type": "markdown",
   "id": "5fc68e96",
   "metadata": {},
   "source": [
    "**Вывод:**\n",
    "\n",
    "На диаграммах видно, что предпочтения для EU и NA региона схожи, (есть незначительное отличие в 5 месте: у EU это Racing, NA это Misc).\n",
    "У JP региона предпочтения иные. Это связано в различиях между европейской и азиатской культурами."
   ]
  },
  {
   "cell_type": "markdown",
   "id": "cf0e2278",
   "metadata": {},
   "source": [
    "<a class=\"anchor\" id=\"4.3-bullet\"></a>\n",
    "### Влияет ли рейтинг ESRB на продажи в отдельном регионе?"
   ]
  },
  {
   "cell_type": "code",
   "execution_count": 45,
   "id": "3bce8fe1",
   "metadata": {},
   "outputs": [
    {
     "data": {
      "image/png": "[encoded data removed]",
      "text/plain": [
       "<Figure size 1080x432 with 3 Axes>"
      ]
     },
     "metadata": {},
     "output_type": "display_data"
    }
   ],
   "source": [
    "# Создание подграфиков\n",
    "fig, ax = plt.subplots(1, num_regions, figsize=(15, 6))  # 1 ряд и num_regions колонок\n",
    "\n",
    "# Проходим по каждому региону\n",
    "for i, region in enumerate(regions):\n",
    "    # Суммируем продажи по рейтингу для каждого региона\n",
    "    platform_sales = actual_df.groupby(by='rating').agg({region: 'sum'}).sort_values(by=region, ascending=False).head(5)\n",
    "    \n",
    "    # Строим круговую диаграмму\n",
    "    ax[i].pie(platform_sales[region], labels=platform_sales.index, autopct='%1.1f%%', startangle=45)\n",
    "    ax[i].set_title(f'{region}')\n",
    "\n",
    "# Настройка общего заголовка графика\n",
    "plt.suptitle(\"Топ рейтингов для игр\", fontsize=20)\n",
    "plt.tight_layout(rect=[0, 0.01, 1, 1])  # Оптимизация пространства между подграфиками\n",
    "plt.show()"
   ]
  },
  {
   "cell_type": "markdown",
   "id": "0fc8ca22",
   "metadata": {},
   "source": [
    "**Вывод**: \n",
    "\n",
    "**Северной Америке и Европе** ситуация одинакова. Первую пятерку составляют игры рейтинга М(\"Для взрослых\"), E(\"Для всех\"), no_ESRB(\"Игры без рейтинга ESRB\"), E10+(\"Для всех от 10 лет и старше\"), T(\"Подросткам\").  \n",
    "В **Японии** с огромным преимуществом лидируют RP(\"Игры без рейтинга\"). Причина этого, из-за того что в Японском регионе присвоением игре возрастного рейтинга занимается другая организация. \n",
    "\n",
    "*Справка:* (Computer Entertainment Rating Organization (CERO) — японская некоммерческая организация, занимающаяся присуждением рейтингов компьютерным играм и программному обеспечению для их последующей продажи на территории Японии)."
   ]
  },
  {
   "cell_type": "markdown",
   "id": "d57c20b6",
   "metadata": {},
   "source": [
    "**Общий вывод:**\n",
    "\n",
    "Следует понимать на какой рынок расчитывается игра. Понимание этого фактора помогает подобрать жанр, платформу и рейтинг для лучшего продвижения."
   ]
  },
  {
   "cell_type": "markdown",
   "id": "402d620f",
   "metadata": {},
   "source": [
    "<a class=\"anchor\" id=\"5-bullet\"></a>\n",
    "## Проверьте гипотезы"
   ]
  },
  {
   "cell_type": "markdown",
   "id": "9e4c9fff",
   "metadata": {},
   "source": [
    "<a class=\"anchor\" id=\"5.1-bullet\"></a>\n",
    "### Средние пользовательские рейтинги платформ Xbox One и PC одинаковые."
   ]
  },
  {
   "cell_type": "markdown",
   "id": "2835aa12",
   "metadata": {},
   "source": [
    "Нулевая и альтернативная гипотезы (Н0 и H1) чаще всего формулируется в виде «параметр ГС равен некоторому числу», тогда для альтернативной гипотезы нужно выбрать оставшийся вариант:\n",
    "- параметр ГС не равен числу из Н0 — двусторонняя H1\n",
    "- параметр ГС больше числа из Н0 — правосторонняя H1\n",
    "- параметр ГС меньше числа из Н0 — левосторонняя H1."
   ]
  },
  {
   "cell_type": "markdown",
   "id": "bfeef24d",
   "metadata": {},
   "source": [
    "Сформулируем нулевую и анльтернативную гипотезы:\n",
    "- Н0: Средний пользовательский рейтинг платформ Xbox One и PC одинаковый\n",
    "- H1: Средний пользовательский рейтинг платформ Xbox One и PC различается"
   ]
  },
  {
   "cell_type": "markdown",
   "id": "69e0aafb",
   "metadata": {},
   "source": [
    "Если выборок две, они независимы, и их дисперсии полагаются равными, то используется «Двухвыборочный t-тест для независимых выборок» `st.ttest_ind`. Как в нашем случае."
   ]
  },
  {
   "cell_type": "code",
   "execution_count": 46,
   "id": "3fb0c063",
   "metadata": {},
   "outputs": [],
   "source": [
    "# Выборка для платформы XOne\n",
    "xbox_one = actual_df.query('platform == \"XOne\" and user_score.notnull()')['user_score']\n",
    "# Выборка для платформы PC\n",
    "pc = actual_df.query('platform == \"PC\" and user_score.notnull()')['user_score']"
   ]
  },
  {
   "cell_type": "code",
   "execution_count": 47,
   "id": "a5f23e8c",
   "metadata": {},
   "outputs": [
    {
     "name": "stdout",
     "output_type": "stream",
     "text": [
      "0.61\n",
      "Не получилось отвергнуть нулевую гипотезу\n"
     ]
    }
   ],
   "source": [
    "# Выполнение t-теста для двух независимых выборок\n",
    "results = st.ttest_ind(\n",
    "    xbox_one,  # Рейтинги пользователей для XOne\n",
    "    pc,  # Рейтинги пользователей для PC\n",
    ")\n",
    "\n",
    "# Вывод p-value\n",
    "print(f\"{results.pvalue:.2f}\")\n",
    "\n",
    "# Уровень значимости (alpha = 5%)\n",
    "alpha = 0.05\n",
    "\n",
    "# Если p-value меньше уровня значимости (0.05), отвергаем нулевую гипотезу\n",
    "if results.pvalue < alpha:\n",
    "    print('Отвергаем нулевую гипотезу')  # Средний пользовательский рейтинг платформ Xbox One и PC различается\n",
    "else:\n",
    "    print('Не получилось отвергнуть нулевую гипотезу')  # Нет статистически значимого различия"
   ]
  },
  {
   "cell_type": "markdown",
   "id": "3eb66231",
   "metadata": {},
   "source": [
    "**Вывод**: Статистическо значимой разницы между средним пользователемским рейтингом Xbox One и PC нет"
   ]
  },
  {
   "cell_type": "markdown",
   "id": "edf9d478",
   "metadata": {},
   "source": [
    "<a class=\"anchor\" id=\"5.2-bullet\"></a>\n",
    "### Средние пользовательские рейтинги жанров Action и Sports разные"
   ]
  },
  {
   "cell_type": "markdown",
   "id": "dd96fdde",
   "metadata": {},
   "source": [
    "Сформулируем нулевую и анльтернативную гипотезы:\n",
    "- H0: Средние пользовательские рейтинги жанров Action и Sports равны\n",
    "- H1: Средние пользовательские рейтинги жанров Action и Sports различаются "
   ]
  },
  {
   "cell_type": "markdown",
   "id": "cf94fc28",
   "metadata": {},
   "source": [
    "Если выборок две, они независимы, и их дисперсии полагаются равными, то используется «Двухвыборочный t-тест для независимых выборок» `st.ttest_ind`. Как в нашем случае."
   ]
  },
  {
   "cell_type": "code",
   "execution_count": 48,
   "id": "a3f64724",
   "metadata": {},
   "outputs": [],
   "source": [
    "# Выборка для платформы XOne\n",
    "action = actual_df.query('genre == \"Action\" and user_score.notnull()')['user_score']\n",
    "# Выборка для платформы PC\n",
    "sport = actual_df.query('genre == \"Sports\" and user_score.notnull()')['user_score']"
   ]
  },
  {
   "cell_type": "code",
   "execution_count": 49,
   "id": "152db121",
   "metadata": {},
   "outputs": [
    {
     "name": "stdout",
     "output_type": "stream",
     "text": [
      "0.00\n",
      "Отвергаем нулевую гипотезу\n"
     ]
    }
   ],
   "source": [
    "# Выполнение t-теста для двух независимых выборок\n",
    "results = st.ttest_ind(\n",
    "    action,  # Рейтинги пользователей для Action\n",
    "    sport,  # Рейтинги пользователей для Sports\n",
    ")\n",
    "\n",
    "# Вывод p-value\n",
    "print(f\"{results.pvalue:.2f}\")\n",
    "\n",
    "# Уровень значимости (alpha = 5%)\n",
    "alpha = 0.05\n",
    "\n",
    "# Если p-value меньше уровня значимости (0.05), отвергаем нулевую гипотезу\n",
    "if results.pvalue < alpha:\n",
    "    print('Отвергаем нулевую гипотезу')  # Средние пользовательские рейтинги жанров Action и Sports различаются\n",
    "else:\n",
    "    print('Не получилось отвергнуть нулевую гипотезу')  # Нет статистически значимого различия"
   ]
  },
  {
   "cell_type": "code",
   "execution_count": 50,
   "id": "b42ec964",
   "metadata": {},
   "outputs": [
    {
     "name": "stdout",
     "output_type": "stream",
     "text": [
      "Средний пользовательский рейтинг жанра экшен 6.827\n",
      "Средний пользовательский рейтинг жанра спортивных игр 5.456\n"
     ]
    }
   ],
   "source": [
    "print('Средний пользовательский рейтинг жанра экшен', round(action.mean(), 3))\n",
    "print('Средний пользовательский рейтинг жанра спортивных игр', round(sport.mean(), 3))"
   ]
  },
  {
   "cell_type": "markdown",
   "id": "b2bd336b",
   "metadata": {},
   "source": [
    "**Вывод**: Нулевая гипотеза отвергнута, Средние пользовательские рейтинги жанров Action и Sports, статистически значимо  отличаются, при установленном уровне значимости в 5 %."
   ]
  },
  {
   "cell_type": "markdown",
   "id": "a1844624",
   "metadata": {},
   "source": [
    "<a class=\"anchor\" id=\"6-bullet\"></a>\n",
    "## Общий вывод"
   ]
  },
  {
   "cell_type": "markdown",
   "id": "fe943b89",
   "metadata": {},
   "source": [
    "В процессе исследования данных было выполнено:\n",
    "1. Первоначальное изучение полученного для работы датафрейма.\n",
    "2. Проведена предобработка данных:\n",
    "    - Замено название столбцов (приведено к нижнему регистру).\n",
    "    - Преобразованы данные в нужные типы. Описано, в каких столбцах произошла замена типа данных и почему.\n",
    "    - Посчитаны общие продажи по регионам.\n",
    "    - Обработаны пропуски там где это возможно.\n",
    "3. Проведен исследовательский анализ данных:\n",
    "    - Если анализ требует понимания исторического контекста, долгосрочных трендов или сравнения с прошлыми периодами, данные за все эры будут важны. Однако, если цель анализа — текущие или недавние тренды, то можно сосредоточиться на данных за последние несколько лет;\n",
    "    - Из всех платформ потенциально наиболее прибыльными являются **PS4** и **XOne**, эти платформы были выпущены в 2013 году (учитывая жизнь платформы ~ 7 лет), то на 2017 год данные платформы находятся на экваторе своего развития.\n",
    "    - Успешность игры зависит от платформы на которой она выпускается. Успешные платформы для выпуска **PS4** и **XOne**.\n",
    "    - Влияние оценок пользователей на общую прибыльность игры не существует.\n",
    "    - Влияние оценок критиков на общую прибыльность игры есть, прослеживается слабая положительная корреляция.\n",
    "    - Для выпуска успешной игры нужно целиться в жанры `Action`, `Shooter`, `Role-Playing` или `Sports`.\n",
    "4. Были проанализированы суммарные продажи для 3-х регионов (EU, NA, JP) в зависимости от:\n",
    "    - Платформ.\n",
    "    - Жанров.\n",
    "    - Рейтинга ESRB\n",
    "5. Были составлены и проверены гипотезы для:\n",
    "    - Среднего пользовательского рейтинга платформ Xbox One и PC.\n",
    "    - Средние пользовательского рейтинга жанров Action и Sports.\n",
    "    \n",
    "**Исходя из выше перечисленного** можно составить модель **прибыльной игры** на 2017 год:  \n",
    "- Игра должна выходить на платформы **PS4** и **XOne**.\n",
    "- Жанр игры должен быть похож на один из списка (`Action`, `Shooter`, `Role-Playing`, `Sports`).\n",
    "- Рейтинг игры должен быть для взрослых."
   ]
  },
  {
   "cell_type": "markdown",
   "id": "1dd8ad7a",
   "metadata": {},
   "source": [
    "[Назад к содержанию](#0-bullet)"
   ]
  }
 ],
 "metadata": {
  "ExecuteTimeLog": [
   {
    "duration": 1621,
    "start_time": "2024-10-24T09:15:07.971Z"
   },
   {
    "duration": 0,
    "start_time": "2024-10-24T09:15:09.595Z"
   },
   {
    "duration": 0,
    "start_time": "2024-10-24T09:15:09.597Z"
   },
   {
    "duration": 0,
    "start_time": "2024-10-24T09:15:09.598Z"
   },
   {
    "duration": 0,
    "start_time": "2024-10-24T09:15:09.599Z"
   },
   {
    "duration": 0,
    "start_time": "2024-10-24T09:15:09.601Z"
   },
   {
    "duration": 0,
    "start_time": "2024-10-24T09:15:09.602Z"
   },
   {
    "duration": 0,
    "start_time": "2024-10-24T09:15:09.604Z"
   },
   {
    "duration": 0,
    "start_time": "2024-10-24T09:15:09.626Z"
   },
   {
    "duration": 0,
    "start_time": "2024-10-24T09:15:09.627Z"
   },
   {
    "duration": 0,
    "start_time": "2024-10-24T09:15:09.628Z"
   },
   {
    "duration": 0,
    "start_time": "2024-10-24T09:15:09.629Z"
   },
   {
    "duration": 0,
    "start_time": "2024-10-24T09:15:09.630Z"
   },
   {
    "duration": 0,
    "start_time": "2024-10-24T09:15:09.631Z"
   },
   {
    "duration": 0,
    "start_time": "2024-10-24T09:15:09.631Z"
   },
   {
    "duration": 0,
    "start_time": "2024-10-24T09:15:09.632Z"
   },
   {
    "duration": 0,
    "start_time": "2024-10-24T09:15:09.633Z"
   },
   {
    "duration": 0,
    "start_time": "2024-10-24T09:15:09.634Z"
   },
   {
    "duration": 1,
    "start_time": "2024-10-24T09:15:09.634Z"
   },
   {
    "duration": 0,
    "start_time": "2024-10-24T09:15:09.637Z"
   },
   {
    "duration": 0,
    "start_time": "2024-10-24T09:15:09.640Z"
   },
   {
    "duration": 0,
    "start_time": "2024-10-24T09:15:09.641Z"
   },
   {
    "duration": 1,
    "start_time": "2024-10-24T09:15:09.642Z"
   },
   {
    "duration": 0,
    "start_time": "2024-10-24T09:15:09.644Z"
   },
   {
    "duration": 0,
    "start_time": "2024-10-24T09:15:09.645Z"
   },
   {
    "duration": 0,
    "start_time": "2024-10-24T09:15:09.646Z"
   },
   {
    "duration": 0,
    "start_time": "2024-10-24T09:15:09.648Z"
   },
   {
    "duration": 0,
    "start_time": "2024-10-24T09:15:09.649Z"
   },
   {
    "duration": 0,
    "start_time": "2024-10-24T09:15:09.650Z"
   },
   {
    "duration": 0,
    "start_time": "2024-10-24T09:15:09.651Z"
   },
   {
    "duration": 0,
    "start_time": "2024-10-24T09:15:09.652Z"
   },
   {
    "duration": 0,
    "start_time": "2024-10-24T09:15:09.653Z"
   },
   {
    "duration": 0,
    "start_time": "2024-10-24T09:15:09.655Z"
   },
   {
    "duration": 0,
    "start_time": "2024-10-24T09:15:09.657Z"
   },
   {
    "duration": 0,
    "start_time": "2024-10-24T09:15:09.658Z"
   },
   {
    "duration": 0,
    "start_time": "2024-10-24T09:15:09.659Z"
   },
   {
    "duration": 0,
    "start_time": "2024-10-24T09:15:09.660Z"
   },
   {
    "duration": 0,
    "start_time": "2024-10-24T09:15:09.662Z"
   },
   {
    "duration": 0,
    "start_time": "2024-10-24T09:15:09.663Z"
   },
   {
    "duration": 3713,
    "start_time": "2024-10-24T09:43:04.449Z"
   },
   {
    "duration": 9,
    "start_time": "2024-10-24T09:43:09.631Z"
   },
   {
    "duration": 2699,
    "start_time": "2024-10-24T09:43:22.801Z"
   },
   {
    "duration": 1537,
    "start_time": "2024-10-24T09:43:25.502Z"
   },
   {
    "duration": 289,
    "start_time": "2024-10-24T09:43:27.042Z"
   },
   {
    "duration": 94,
    "start_time": "2024-10-24T09:43:27.334Z"
   },
   {
    "duration": 92,
    "start_time": "2024-10-24T09:43:27.438Z"
   },
   {
    "duration": 1114,
    "start_time": "2024-10-24T09:43:27.532Z"
   },
   {
    "duration": 12,
    "start_time": "2024-10-24T09:43:28.648Z"
   },
   {
    "duration": 6,
    "start_time": "2024-10-24T09:43:28.662Z"
   },
   {
    "duration": 17,
    "start_time": "2024-10-24T09:43:28.669Z"
   },
   {
    "duration": 36,
    "start_time": "2024-10-24T09:43:28.688Z"
   },
   {
    "duration": 8,
    "start_time": "2024-10-24T09:43:28.736Z"
   },
   {
    "duration": 53,
    "start_time": "2024-10-24T09:43:28.747Z"
   },
   {
    "duration": 25,
    "start_time": "2024-10-24T09:43:28.802Z"
   },
   {
    "duration": 20,
    "start_time": "2024-10-24T09:43:28.832Z"
   },
   {
    "duration": 9,
    "start_time": "2024-10-24T09:43:28.854Z"
   },
   {
    "duration": 7,
    "start_time": "2024-10-24T09:43:28.865Z"
   },
   {
    "duration": 15,
    "start_time": "2024-10-24T09:43:28.873Z"
   },
   {
    "duration": 32,
    "start_time": "2024-10-24T09:43:28.918Z"
   },
   {
    "duration": 453,
    "start_time": "2024-10-24T09:43:28.952Z"
   },
   {
    "duration": 13,
    "start_time": "2024-10-24T09:43:29.407Z"
   },
   {
    "duration": 357,
    "start_time": "2024-10-24T09:43:29.421Z"
   },
   {
    "duration": 24,
    "start_time": "2024-10-24T09:43:29.780Z"
   },
   {
    "duration": 457,
    "start_time": "2024-10-24T09:43:29.806Z"
   },
   {
    "duration": 26,
    "start_time": "2024-10-24T09:43:30.264Z"
   },
   {
    "duration": 212,
    "start_time": "2024-10-24T09:43:30.293Z"
   },
   {
    "duration": 322,
    "start_time": "2024-10-24T09:43:30.507Z"
   },
   {
    "duration": 537,
    "start_time": "2024-10-24T09:43:30.831Z"
   },
   {
    "duration": 198,
    "start_time": "2024-10-24T09:43:31.370Z"
   },
   {
    "duration": 194,
    "start_time": "2024-10-24T09:43:31.570Z"
   },
   {
    "duration": 12,
    "start_time": "2024-10-24T09:43:31.767Z"
   },
   {
    "duration": 468,
    "start_time": "2024-10-24T09:43:31.780Z"
   },
   {
    "duration": 27,
    "start_time": "2024-10-24T09:43:32.250Z"
   },
   {
    "duration": 51,
    "start_time": "2024-10-24T09:43:32.279Z"
   },
   {
    "duration": 509,
    "start_time": "2024-10-24T09:43:32.332Z"
   },
   {
    "duration": 503,
    "start_time": "2024-10-24T09:43:32.843Z"
   },
   {
    "duration": 492,
    "start_time": "2024-10-24T09:43:33.347Z"
   },
   {
    "duration": 16,
    "start_time": "2024-10-24T09:43:33.843Z"
   },
   {
    "duration": 16,
    "start_time": "2024-10-24T09:43:33.861Z"
   },
   {
    "duration": 48,
    "start_time": "2024-10-24T09:43:33.879Z"
   },
   {
    "duration": 47,
    "start_time": "2024-10-24T09:43:33.930Z"
   },
   {
    "duration": 87,
    "start_time": "2024-10-24T11:17:22.670Z"
   },
   {
    "duration": 29,
    "start_time": "2024-10-24T11:19:42.103Z"
   },
   {
    "duration": 1124,
    "start_time": "2024-10-25T13:33:59.217Z"
   },
   {
    "duration": 105,
    "start_time": "2024-10-25T13:34:00.345Z"
   },
   {
    "duration": 26,
    "start_time": "2024-10-25T13:34:00.452Z"
   },
   {
    "duration": 55,
    "start_time": "2024-10-25T13:34:00.481Z"
   },
   {
    "duration": 8,
    "start_time": "2024-10-25T13:34:00.538Z"
   },
   {
    "duration": 67,
    "start_time": "2024-10-25T13:34:00.547Z"
   },
   {
    "duration": 41,
    "start_time": "2024-10-25T13:34:00.615Z"
   },
   {
    "duration": 29,
    "start_time": "2024-10-25T13:34:00.657Z"
   },
   {
    "duration": 84,
    "start_time": "2024-10-25T13:34:00.687Z"
   },
   {
    "duration": 40,
    "start_time": "2024-10-25T13:34:00.773Z"
   },
   {
    "duration": 33,
    "start_time": "2024-10-25T13:34:00.814Z"
   },
   {
    "duration": 16,
    "start_time": "2024-10-25T13:34:00.848Z"
   },
   {
    "duration": 17,
    "start_time": "2024-10-25T13:34:00.865Z"
   },
   {
    "duration": 27,
    "start_time": "2024-10-25T13:34:00.883Z"
   },
   {
    "duration": 17,
    "start_time": "2024-10-25T13:34:00.912Z"
   },
   {
    "duration": 47,
    "start_time": "2024-10-25T13:34:00.930Z"
   },
   {
    "duration": 118,
    "start_time": "2024-10-25T13:34:00.978Z"
   },
   {
    "duration": 21,
    "start_time": "2024-10-25T13:34:01.097Z"
   },
   {
    "duration": 82,
    "start_time": "2024-10-25T13:34:01.119Z"
   },
   {
    "duration": 307,
    "start_time": "2024-10-25T13:34:01.203Z"
   },
   {
    "duration": 12,
    "start_time": "2024-10-25T13:34:01.511Z"
   },
   {
    "duration": 292,
    "start_time": "2024-10-25T13:34:01.524Z"
   },
   {
    "duration": 20,
    "start_time": "2024-10-25T13:34:01.818Z"
   },
   {
    "duration": 377,
    "start_time": "2024-10-25T13:34:01.839Z"
   },
   {
    "duration": 21,
    "start_time": "2024-10-25T13:34:02.217Z"
   },
   {
    "duration": 35,
    "start_time": "2024-10-25T13:34:02.239Z"
   },
   {
    "duration": 22,
    "start_time": "2024-10-25T13:34:02.275Z"
   },
   {
    "duration": 218,
    "start_time": "2024-10-25T13:34:02.300Z"
   },
   {
    "duration": 250,
    "start_time": "2024-10-25T13:34:02.519Z"
   },
   {
    "duration": 345,
    "start_time": "2024-10-25T13:34:02.771Z"
   },
   {
    "duration": 318,
    "start_time": "2024-10-25T13:34:03.117Z"
   },
   {
    "duration": 142,
    "start_time": "2024-10-25T13:34:03.437Z"
   },
   {
    "duration": 157,
    "start_time": "2024-10-25T13:34:03.580Z"
   },
   {
    "duration": 2,
    "start_time": "2024-10-25T13:34:03.739Z"
   },
   {
    "duration": 857,
    "start_time": "2024-10-25T13:34:03.743Z"
   },
   {
    "duration": 393,
    "start_time": "2024-10-25T13:34:04.602Z"
   },
   {
    "duration": 22,
    "start_time": "2024-10-25T13:34:04.996Z"
   },
   {
    "duration": 15,
    "start_time": "2024-10-25T13:34:05.019Z"
   },
   {
    "duration": 45,
    "start_time": "2024-10-25T13:34:05.035Z"
   },
   {
    "duration": 442,
    "start_time": "2024-10-25T13:34:05.082Z"
   },
   {
    "duration": 15,
    "start_time": "2024-10-25T13:34:05.525Z"
   },
   {
    "duration": 476,
    "start_time": "2024-10-25T13:34:05.541Z"
   },
   {
    "duration": 416,
    "start_time": "2024-10-25T13:34:06.018Z"
   },
   {
    "duration": 10,
    "start_time": "2024-10-25T13:34:06.435Z"
   },
   {
    "duration": 86,
    "start_time": "2024-10-25T13:34:06.446Z"
   },
   {
    "duration": 45,
    "start_time": "2024-10-25T13:34:06.533Z"
   },
   {
    "duration": 9,
    "start_time": "2024-10-25T13:34:06.580Z"
   },
   {
    "duration": 110,
    "start_time": "2024-10-25T13:34:06.590Z"
   },
   {
    "duration": 1271,
    "start_time": "2024-10-25T18:07:05.567Z"
   },
   {
    "duration": 87,
    "start_time": "2024-10-25T18:07:06.840Z"
   },
   {
    "duration": 29,
    "start_time": "2024-10-25T18:07:06.930Z"
   },
   {
    "duration": 99,
    "start_time": "2024-10-25T18:07:06.960Z"
   },
   {
    "duration": 11,
    "start_time": "2024-10-25T18:07:07.062Z"
   },
   {
    "duration": 39,
    "start_time": "2024-10-25T18:07:07.075Z"
   },
   {
    "duration": 31,
    "start_time": "2024-10-25T18:07:07.116Z"
   },
   {
    "duration": 29,
    "start_time": "2024-10-25T18:07:07.149Z"
   },
   {
    "duration": 65,
    "start_time": "2024-10-25T18:07:07.180Z"
   },
   {
    "duration": 41,
    "start_time": "2024-10-25T18:07:07.247Z"
   },
   {
    "duration": 33,
    "start_time": "2024-10-25T18:07:07.289Z"
   },
   {
    "duration": 245,
    "start_time": "2024-10-25T18:07:07.324Z"
   },
   {
    "duration": 29,
    "start_time": "2024-10-25T18:07:07.570Z"
   },
   {
    "duration": 47,
    "start_time": "2024-10-25T18:07:07.602Z"
   },
   {
    "duration": 11,
    "start_time": "2024-10-25T18:07:07.650Z"
   },
   {
    "duration": 10,
    "start_time": "2024-10-25T18:07:07.663Z"
   },
   {
    "duration": 7,
    "start_time": "2024-10-25T18:07:07.675Z"
   },
   {
    "duration": 54,
    "start_time": "2024-10-25T18:07:07.683Z"
   },
   {
    "duration": 60,
    "start_time": "2024-10-25T18:07:07.739Z"
   },
   {
    "duration": 26,
    "start_time": "2024-10-25T18:07:07.802Z"
   },
   {
    "duration": 136,
    "start_time": "2024-10-25T18:07:07.829Z"
   },
   {
    "duration": 451,
    "start_time": "2024-10-25T18:07:07.966Z"
   },
   {
    "duration": 17,
    "start_time": "2024-10-25T18:07:08.420Z"
   },
   {
    "duration": 346,
    "start_time": "2024-10-25T18:07:08.439Z"
   },
   {
    "duration": 44,
    "start_time": "2024-10-25T18:07:08.786Z"
   },
   {
    "duration": 442,
    "start_time": "2024-10-25T18:07:08.832Z"
   },
   {
    "duration": 30,
    "start_time": "2024-10-25T18:07:09.276Z"
   },
   {
    "duration": 31,
    "start_time": "2024-10-25T18:07:09.308Z"
   },
   {
    "duration": 26,
    "start_time": "2024-10-25T18:07:09.340Z"
   },
   {
    "duration": 216,
    "start_time": "2024-10-25T18:07:09.368Z"
   },
   {
    "duration": 311,
    "start_time": "2024-10-25T18:07:09.586Z"
   },
   {
    "duration": 458,
    "start_time": "2024-10-25T18:07:09.899Z"
   },
   {
    "duration": 429,
    "start_time": "2024-10-25T18:07:10.358Z"
   },
   {
    "duration": 210,
    "start_time": "2024-10-25T18:07:10.797Z"
   },
   {
    "duration": 222,
    "start_time": "2024-10-25T18:07:11.009Z"
   },
   {
    "duration": 3,
    "start_time": "2024-10-25T18:07:11.233Z"
   },
   {
    "duration": 1191,
    "start_time": "2024-10-25T18:07:11.237Z"
   },
   {
    "duration": 515,
    "start_time": "2024-10-25T18:07:12.430Z"
   },
   {
    "duration": 32,
    "start_time": "2024-10-25T18:07:12.947Z"
   },
   {
    "duration": 69,
    "start_time": "2024-10-25T18:07:12.980Z"
   },
   {
    "duration": 27,
    "start_time": "2024-10-25T18:07:13.053Z"
   },
   {
    "duration": 582,
    "start_time": "2024-10-25T18:07:13.082Z"
   },
   {
    "duration": 18,
    "start_time": "2024-10-25T18:07:13.666Z"
   },
   {
    "duration": 574,
    "start_time": "2024-10-25T18:07:13.698Z"
   },
   {
    "duration": 565,
    "start_time": "2024-10-25T18:07:14.274Z"
   },
   {
    "duration": 13,
    "start_time": "2024-10-25T18:07:14.841Z"
   },
   {
    "duration": 10,
    "start_time": "2024-10-25T18:07:14.856Z"
   },
   {
    "duration": 43,
    "start_time": "2024-10-25T18:07:14.867Z"
   },
   {
    "duration": 157,
    "start_time": "2024-10-25T18:07:14.912Z"
   },
   {
    "duration": 58,
    "start_time": "2024-10-25T18:07:15.071Z"
   },
   {
    "duration": 4152,
    "start_time": "2024-10-25T18:11:16.373Z"
   }
  ],
  "kernelspec": {
   "display_name": "Python 3 (ipykernel)",
   "language": "python",
   "name": "python3"
  },
  "language_info": {
   "codemirror_mode": {
    "name": "ipython",
    "version": 3
   },
   "file_extension": ".py",
   "mimetype": "text/x-python",
   "name": "python",
   "nbconvert_exporter": "python",
   "pygments_lexer": "ipython3",
   "version": "3.9.19"
  },
  "toc": {
   "base_numbering": 1,
   "nav_menu": {},
   "number_sections": true,
   "sideBar": true,
   "skip_h1_title": true,
   "title_cell": "Table of Contents",
   "title_sidebar": "Contents",
   "toc_cell": false,
   "toc_position": {
    "height": "calc(100% - 180px)",
    "left": "10px",
    "top": "150px",
    "width": "227.943px"
   },
   "toc_section_display": true,
   "toc_window_display": true
  }
 },
 "nbformat": 4,
 "nbformat_minor": 5
}
