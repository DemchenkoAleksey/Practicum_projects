{
 "cells": [
  {
   "cell_type": "markdown",
   "id": "142c7b78",
   "metadata": {},
   "source": [
    "# Проект для «Викишоп» с BERT"
   ]
  },
  {
   "cell_type": "markdown",
   "id": "5b7af80a",
   "metadata": {
    "toc": true
   },
   "source": [
    "<h1>Table of Contents<span class=\"tocSkip\"></span></h1>\n",
    "<div class=\"toc\"><ul class=\"toc-item\"><li><span><a href=\"#Описание-проекта\" data-toc-modified-id=\"Описание-проекта-1\"><span class=\"toc-item-num\">1&nbsp;&nbsp;</span>Описание проекта</a></span></li><li><span><a href=\"#Описание-данных\" data-toc-modified-id=\"Описание-данных-2\"><span class=\"toc-item-num\">2&nbsp;&nbsp;</span>Описание данных</a></span></li><li><span><a href=\"#Загрузка-датасета\" data-toc-modified-id=\"Загрузка-датасета-3\"><span class=\"toc-item-num\">3&nbsp;&nbsp;</span>Загрузка датасета</a></span></li><li><span><a href=\"#Исследование-и-подготовка-данных-к-обучению\" data-toc-modified-id=\"Исследование-и-подготовка-данных-к-обучению-4\"><span class=\"toc-item-num\">4&nbsp;&nbsp;</span>Исследование и подготовка данных к обучению</a></span></li><li><span><a href=\"#Подготовка-данных-и-их-лемматизация\" data-toc-modified-id=\"Подготовка-данных-и-их-лемматизация-5\"><span class=\"toc-item-num\">5&nbsp;&nbsp;</span>Подготовка данных и их лемматизация</a></span></li><li><span><a href=\"#Машинное-обучение\" data-toc-modified-id=\"Машинное-обучение-6\"><span class=\"toc-item-num\">6&nbsp;&nbsp;</span>Машинное обучение</a></span><ul class=\"toc-item\"><li><span><a href=\"#Классификация-с-помощью-TfidfVectorizer\" data-toc-modified-id=\"Классификация-с-помощью-TfidfVectorizer-6.1\"><span class=\"toc-item-num\">6.1&nbsp;&nbsp;</span>Классификация с помощью TfidfVectorizer</a></span></li><li><span><a href=\"#Классификация-с-помощью-нейросети-BERT\" data-toc-modified-id=\"Классификация-с-помощью-нейросети-BERT-6.2\"><span class=\"toc-item-num\">6.2&nbsp;&nbsp;</span>Классификация с помощью нейросети BERT</a></span></li></ul></li><li><span><a href=\"#Общий-вывод\" data-toc-modified-id=\"Общий-вывод-7\"><span class=\"toc-item-num\">7&nbsp;&nbsp;</span>Общий вывод</a></span></li></ul></div>"
   ]
  },
  {
   "cell_type": "markdown",
   "id": "d862dc03",
   "metadata": {},
   "source": [
    "## Описание проекта\n",
    "Интернет-магазин «Викишоп» запускает новый сервис. Теперь пользователи могут редактировать и дополнять описания товаров, как в вики-сообществах. То есть клиенты предлагают свои правки и комментируют изменения других. Магазину нужен инструмент, который будет искать токсичные комментарии и отправлять их на модерацию. \n",
    "\n",
    "Обучим модель классифицировать комментарии на позитивные и негативные. В нашем распоряжении набор данных с разметкой о токсичности правок.\n",
    "\n",
    "Построим модель со значением метрики качества *F1* не меньше 0.75. "
   ]
  },
  {
   "cell_type": "markdown",
   "id": "a964a5f7",
   "metadata": {},
   "source": [
    "## Описание данных\n",
    "\n",
    "-\t`text` — содержит текст комментария\n",
    "\n",
    "Целевой признак:\n",
    "-    `toxic`\n",
    "\n",
    "Данные находятся в файле: `toxic_comments.csv` "
   ]
  },
  {
   "cell_type": "markdown",
   "id": "4126437b",
   "metadata": {},
   "source": [
    "**Импортирование библиотек**"
   ]
  },
  {
   "cell_type": "code",
   "execution_count": 1,
   "id": "68a2743f",
   "metadata": {},
   "outputs": [],
   "source": [
    "%%capture\n",
    "\n",
    "# Установка основных библиотек\n",
    "%pip install -qq spacy\n",
    "%pip install -qq scikit-learn catboost transformers==4.39.3 seaborn nltk ipywidgets tqdm\n",
    "%pip install -qq --force-reinstall torch torchvision torchaudio --index-url https://download.pytorch.org/whl/cu121\n",
    "\n",
    "# Обновление scikit-learn (на случай, если уже установлен устаревший)\n",
    "!pip install -q -U scikit-learn\n",
    "\n",
    "# Загрузка модели spaCy\n",
    "import spacy\n",
    "spacy.cli.download(\"en_core_web_sm\")\n",
    "\n",
    "# Включение поддержки виджетов в Jupyter\n",
    "!jupyter nbextension install --py widgetsnbextension --sys-prefix"
   ]
  },
  {
   "cell_type": "code",
   "execution_count": 2,
   "id": "ae95645d",
   "metadata": {},
   "outputs": [
    {
     "name": "stdout",
     "output_type": "stream",
     "text": [
      "CUDA доступен: True\n",
      "Версия CUDA: 12.1\n",
      "Имя GPU: NVIDIA GeForce GTX 1650\n"
     ]
    }
   ],
   "source": [
    "import torch\n",
    "\n",
    "print(\"CUDA доступен:\", torch.cuda.is_available())\n",
    "print(\"Версия CUDA:\", torch.version.cuda)\n",
    "print(\"Имя GPU:\", torch.cuda.get_device_name(0) if torch.cuda.is_available() else \"Нет CUDA\")"
   ]
  },
  {
   "cell_type": "code",
   "execution_count": 3,
   "id": "1d3ef6cb",
   "metadata": {},
   "outputs": [],
   "source": [
    "import pandas as pd\n",
    "import numpy as np\n",
    "import matplotlib.pyplot as plt\n",
    "import seaborn as sns\n",
    "import time\n",
    "\n",
    "import nltk\n",
    "from tqdm.notebook import tqdm\n",
    "from nltk.corpus import stopwords as nltk_stopwords\n",
    "\n",
    "import re\n",
    "\n",
    "from torch.utils.data import DataLoader, TensorDataset\n",
    "from transformers import AdamW, DistilBertTokenizer, DistilBertForSequenceClassification\n",
    "\n",
    "from sklearn.pipeline import Pipeline\n",
    "from sklearn.model_selection import train_test_split, GridSearchCV\n",
    "from sklearn.feature_extraction.text import TfidfVectorizer\n",
    "from sklearn.metrics import f1_score\n",
    "from sklearn.model_selection import StratifiedKFold\n",
    "from sklearn.linear_model import LogisticRegression\n",
    "from sklearn.tree import DecisionTreeClassifier\n",
    "import catboost as cb"
   ]
  },
  {
   "cell_type": "code",
   "execution_count": 4,
   "id": "f519fd56",
   "metadata": {},
   "outputs": [],
   "source": [
    "import warnings\n",
    "warnings.filterwarnings('ignore')"
   ]
  },
  {
   "cell_type": "code",
   "execution_count": 5,
   "id": "e9f97e1a",
   "metadata": {},
   "outputs": [
    {
     "name": "stderr",
     "output_type": "stream",
     "text": [
      "[nltk_data] Downloading package stopwords to\n",
      "[nltk_data]     C:\\Users\\Пользователь\\AppData\\Roaming\\nltk_data...\n",
      "[nltk_data]   Package stopwords is already up-to-date!\n"
     ]
    }
   ],
   "source": [
    "nltk.download('stopwords')\n",
    "nlp = spacy.load(\"en_core_web_sm\")"
   ]
  },
  {
   "cell_type": "markdown",
   "id": "0c95207d",
   "metadata": {},
   "source": [
    "**Настройка выводов и константы**"
   ]
  },
  {
   "cell_type": "code",
   "execution_count": 6,
   "id": "71bf0059",
   "metadata": {},
   "outputs": [],
   "source": [
    "# Настройки вывода графиков\n",
    "plt.rcParams[\"axes.titlesize\"] = 16  # Размер шрифта\n",
    "plt.rcParams[\"axes.titleweight\"] = \"bold\"  # Толщина шрифта\n",
    "\n",
    "# Константы\n",
    "RANDOM_STATE = 42\n",
    "TEST_SIZE = 0.25\n",
    "BATCH_SIZE = 32"
   ]
  },
  {
   "cell_type": "markdown",
   "id": "3e4f1eac",
   "metadata": {},
   "source": [
    "## Загрузка датасета"
   ]
  },
  {
   "cell_type": "code",
   "execution_count": 7,
   "id": "069d5876",
   "metadata": {},
   "outputs": [
    {
     "name": "stdout",
     "output_type": "stream",
     "text": [
      "True\n"
     ]
    }
   ],
   "source": [
    "import os\n",
    "print(os.path.exists(\"C:\\\\Data-science\\\\ds_csv\\\\toxic_comments.csv\"))"
   ]
  },
  {
   "cell_type": "code",
   "execution_count": 8,
   "id": "1cc2584e",
   "metadata": {},
   "outputs": [],
   "source": [
    "try:\n",
    "    df = pd.read_csv(\"C:\\\\Data-science\\\\ds_csv\\\\toxic_comments.csv\")\n",
    "except:\n",
    "    try:\n",
    "        df = pd.read_csv('/datasets/toxic_comments.csv')\n",
    "    except FileNotFoundError:\n",
    "        print(\"Файл не найден. Проверьте путь.\")\n",
    "    except Exception as e:\n",
    "        print(f\"Ошибка при чтении файла: {e}\")"
   ]
  },
  {
   "cell_type": "markdown",
   "id": "71d24c3d",
   "metadata": {},
   "source": [
    "## Исследование и подготовка данных к обучению"
   ]
  },
  {
   "cell_type": "code",
   "execution_count": 9,
   "id": "bdf478a0",
   "metadata": {},
   "outputs": [
    {
     "name": "stdout",
     "output_type": "stream",
     "text": [
      "<class 'pandas.core.frame.DataFrame'>\n",
      "RangeIndex: 159292 entries, 0 to 159291\n",
      "Data columns (total 3 columns):\n",
      " #   Column      Non-Null Count   Dtype \n",
      "---  ------      --------------   ----- \n",
      " 0   Unnamed: 0  159292 non-null  int64 \n",
      " 1   text        159292 non-null  object\n",
      " 2   toxic       159292 non-null  int64 \n",
      "dtypes: int64(2), object(1)\n",
      "memory usage: 3.6+ MB\n"
     ]
    },
    {
     "data": {
      "text/html": [
       "<div>\n",
       "<style scoped>\n",
       "    .dataframe tbody tr th:only-of-type {\n",
       "        vertical-align: middle;\n",
       "    }\n",
       "\n",
       "    .dataframe tbody tr th {\n",
       "        vertical-align: top;\n",
       "    }\n",
       "\n",
       "    .dataframe thead th {\n",
       "        text-align: right;\n",
       "    }\n",
       "</style>\n",
       "<table border=\"1\" class=\"dataframe\">\n",
       "  <thead>\n",
       "    <tr style=\"text-align: right;\">\n",
       "      <th></th>\n",
       "      <th>Unnamed: 0</th>\n",
       "      <th>text</th>\n",
       "      <th>toxic</th>\n",
       "    </tr>\n",
       "  </thead>\n",
       "  <tbody>\n",
       "    <tr>\n",
       "      <th>0</th>\n",
       "      <td>0</td>\n",
       "      <td>Explanation\\nWhy the edits made under my usern...</td>\n",
       "      <td>0</td>\n",
       "    </tr>\n",
       "    <tr>\n",
       "      <th>1</th>\n",
       "      <td>1</td>\n",
       "      <td>D'aww! He matches this background colour I'm s...</td>\n",
       "      <td>0</td>\n",
       "    </tr>\n",
       "    <tr>\n",
       "      <th>2</th>\n",
       "      <td>2</td>\n",
       "      <td>Hey man, I'm really not trying to edit war. It...</td>\n",
       "      <td>0</td>\n",
       "    </tr>\n",
       "    <tr>\n",
       "      <th>3</th>\n",
       "      <td>3</td>\n",
       "      <td>\"\\nMore\\nI can't make any real suggestions on ...</td>\n",
       "      <td>0</td>\n",
       "    </tr>\n",
       "    <tr>\n",
       "      <th>4</th>\n",
       "      <td>4</td>\n",
       "      <td>You, sir, are my hero. Any chance you remember...</td>\n",
       "      <td>0</td>\n",
       "    </tr>\n",
       "    <tr>\n",
       "      <th>5</th>\n",
       "      <td>5</td>\n",
       "      <td>\"\\n\\nCongratulations from me as well, use the ...</td>\n",
       "      <td>0</td>\n",
       "    </tr>\n",
       "    <tr>\n",
       "      <th>6</th>\n",
       "      <td>6</td>\n",
       "      <td>COCKSUCKER BEFORE YOU PISS AROUND ON MY WORK</td>\n",
       "      <td>1</td>\n",
       "    </tr>\n",
       "    <tr>\n",
       "      <th>7</th>\n",
       "      <td>7</td>\n",
       "      <td>Your vandalism to the Matt Shirvington article...</td>\n",
       "      <td>0</td>\n",
       "    </tr>\n",
       "    <tr>\n",
       "      <th>8</th>\n",
       "      <td>8</td>\n",
       "      <td>Sorry if the word 'nonsense' was offensive to ...</td>\n",
       "      <td>0</td>\n",
       "    </tr>\n",
       "    <tr>\n",
       "      <th>9</th>\n",
       "      <td>9</td>\n",
       "      <td>alignment on this subject and which are contra...</td>\n",
       "      <td>0</td>\n",
       "    </tr>\n",
       "  </tbody>\n",
       "</table>\n",
       "</div>"
      ],
      "text/plain": [
       "   Unnamed: 0                                               text  toxic\n",
       "0           0  Explanation\\nWhy the edits made under my usern...      0\n",
       "1           1  D'aww! He matches this background colour I'm s...      0\n",
       "2           2  Hey man, I'm really not trying to edit war. It...      0\n",
       "3           3  \"\\nMore\\nI can't make any real suggestions on ...      0\n",
       "4           4  You, sir, are my hero. Any chance you remember...      0\n",
       "5           5  \"\\n\\nCongratulations from me as well, use the ...      0\n",
       "6           6       COCKSUCKER BEFORE YOU PISS AROUND ON MY WORK      1\n",
       "7           7  Your vandalism to the Matt Shirvington article...      0\n",
       "8           8  Sorry if the word 'nonsense' was offensive to ...      0\n",
       "9           9  alignment on this subject and which are contra...      0"
      ]
     },
     "execution_count": 9,
     "metadata": {},
     "output_type": "execute_result"
    }
   ],
   "source": [
    "df.info()\n",
    "df.head(10)"
   ]
  },
  {
   "cell_type": "markdown",
   "id": "9ee7d378",
   "metadata": {},
   "source": [
    "В датасете отсутствуют пропуски, но присутствует дублирующий столбец индексов, уберем его"
   ]
  },
  {
   "cell_type": "code",
   "execution_count": 10,
   "id": "07742155",
   "metadata": {},
   "outputs": [
    {
     "data": {
      "text/html": [
       "<div>\n",
       "<style scoped>\n",
       "    .dataframe tbody tr th:only-of-type {\n",
       "        vertical-align: middle;\n",
       "    }\n",
       "\n",
       "    .dataframe tbody tr th {\n",
       "        vertical-align: top;\n",
       "    }\n",
       "\n",
       "    .dataframe thead th {\n",
       "        text-align: right;\n",
       "    }\n",
       "</style>\n",
       "<table border=\"1\" class=\"dataframe\">\n",
       "  <thead>\n",
       "    <tr style=\"text-align: right;\">\n",
       "      <th></th>\n",
       "      <th>text</th>\n",
       "      <th>toxic</th>\n",
       "    </tr>\n",
       "  </thead>\n",
       "  <tbody>\n",
       "    <tr>\n",
       "      <th>0</th>\n",
       "      <td>Explanation\\nWhy the edits made under my usern...</td>\n",
       "      <td>0</td>\n",
       "    </tr>\n",
       "    <tr>\n",
       "      <th>1</th>\n",
       "      <td>D'aww! He matches this background colour I'm s...</td>\n",
       "      <td>0</td>\n",
       "    </tr>\n",
       "    <tr>\n",
       "      <th>2</th>\n",
       "      <td>Hey man, I'm really not trying to edit war. It...</td>\n",
       "      <td>0</td>\n",
       "    </tr>\n",
       "    <tr>\n",
       "      <th>3</th>\n",
       "      <td>\"\\nMore\\nI can't make any real suggestions on ...</td>\n",
       "      <td>0</td>\n",
       "    </tr>\n",
       "    <tr>\n",
       "      <th>4</th>\n",
       "      <td>You, sir, are my hero. Any chance you remember...</td>\n",
       "      <td>0</td>\n",
       "    </tr>\n",
       "    <tr>\n",
       "      <th>5</th>\n",
       "      <td>\"\\n\\nCongratulations from me as well, use the ...</td>\n",
       "      <td>0</td>\n",
       "    </tr>\n",
       "    <tr>\n",
       "      <th>6</th>\n",
       "      <td>COCKSUCKER BEFORE YOU PISS AROUND ON MY WORK</td>\n",
       "      <td>1</td>\n",
       "    </tr>\n",
       "    <tr>\n",
       "      <th>7</th>\n",
       "      <td>Your vandalism to the Matt Shirvington article...</td>\n",
       "      <td>0</td>\n",
       "    </tr>\n",
       "    <tr>\n",
       "      <th>8</th>\n",
       "      <td>Sorry if the word 'nonsense' was offensive to ...</td>\n",
       "      <td>0</td>\n",
       "    </tr>\n",
       "    <tr>\n",
       "      <th>9</th>\n",
       "      <td>alignment on this subject and which are contra...</td>\n",
       "      <td>0</td>\n",
       "    </tr>\n",
       "  </tbody>\n",
       "</table>\n",
       "</div>"
      ],
      "text/plain": [
       "                                                text  toxic\n",
       "0  Explanation\\nWhy the edits made under my usern...      0\n",
       "1  D'aww! He matches this background colour I'm s...      0\n",
       "2  Hey man, I'm really not trying to edit war. It...      0\n",
       "3  \"\\nMore\\nI can't make any real suggestions on ...      0\n",
       "4  You, sir, are my hero. Any chance you remember...      0\n",
       "5  \"\\n\\nCongratulations from me as well, use the ...      0\n",
       "6       COCKSUCKER BEFORE YOU PISS AROUND ON MY WORK      1\n",
       "7  Your vandalism to the Matt Shirvington article...      0\n",
       "8  Sorry if the word 'nonsense' was offensive to ...      0\n",
       "9  alignment on this subject and which are contra...      0"
      ]
     },
     "execution_count": 10,
     "metadata": {},
     "output_type": "execute_result"
    }
   ],
   "source": [
    "df.drop('Unnamed: 0', axis= 1, inplace= True)\n",
    "df.head(10)"
   ]
  },
  {
   "cell_type": "code",
   "execution_count": 11,
   "id": "4eb0f0ce",
   "metadata": {},
   "outputs": [
    {
     "name": "stdout",
     "output_type": "stream",
     "text": [
      "\u001b[1m Количество дубликатов = 0 \u001b[0m\n"
     ]
    }
   ],
   "source": [
    "print('\\033[1m','Количество дубликатов =', df.duplicated().sum(), '\\033[0m')"
   ]
  },
  {
   "cell_type": "code",
   "execution_count": 12,
   "id": "25a19f2d",
   "metadata": {},
   "outputs": [
    {
     "data": {
      "image/png": "[encoded data removed]",
      "text/plain": [
       "<Figure size 640x480 with 1 Axes>"
      ]
     },
     "metadata": {},
     "output_type": "display_data"
    }
   ],
   "source": [
    "ax = sns.countplot(x='toxic', data=df, palette='coolwarm')\n",
    "for container in ax.containers:\n",
    "    ax.bar_label(container)\n",
    "\n",
    "plt.xlabel(\"Категория токсичности\")\n",
    "plt.ylabel(\"Количество\")\n",
    "plt.title(\"Соотношение токсичных комментариев\")\n",
    "plt.show()"
   ]
  },
  {
   "cell_type": "markdown",
   "id": "a1dce174",
   "metadata": {},
   "source": [
    "В датасете наблюдается сильный дисбаланс между токсичными и обычными комментариями."
   ]
  },
  {
   "cell_type": "markdown",
   "id": "42f0e086",
   "metadata": {},
   "source": [
    "**Вывод:**\n",
    "\n",
    "- Был загружен датасет с комментариями (text) и меткой является ли этот комментарий токсичный (toxic);\n",
    "- В датасете отсутствуют пропуски и дубликаты;\n",
    "- Был удален дублирующий столбец индексов;\n",
    "- В датасете был замечен сильный дисбаланс классов токсичности комментариев (не токсичных - 143106, токсичных - 16186)."
   ]
  },
  {
   "cell_type": "markdown",
   "id": "2b3f56f5",
   "metadata": {},
   "source": [
    "## Подготовка данных и их лемматизация"
   ]
  },
  {
   "cell_type": "code",
   "execution_count": 13,
   "id": "b3f4c9b4",
   "metadata": {},
   "outputs": [],
   "source": [
    "def lemmatize_series(texts):\n",
    "    lemmatized = []\n",
    "    for doc in tqdm(nlp.pipe(texts, batch_size=BATCH_SIZE), total=len(texts)):\n",
    "        lemmatized.append(\" \".join([token.lemma_ for token in doc]))\n",
    "    return lemmatized"
   ]
  },
  {
   "cell_type": "code",
   "execution_count": 14,
   "id": "9580be79",
   "metadata": {},
   "outputs": [],
   "source": [
    "def clear_text(text):\n",
    "    text = text.lower()\n",
    "    text = re.sub(r\"[^a-z'\\s]\", ' ', text)\n",
    "    return \" \".join(text.split())"
   ]
  },
  {
   "cell_type": "code",
   "execution_count": 15,
   "id": "992c5d1f",
   "metadata": {},
   "outputs": [
    {
     "data": {
      "application/vnd.jupyter.widget-view+json": {
       "model_id": "85bd67ef4900435d96261af7a58f0977",
       "version_major": 2,
       "version_minor": 0
      },
      "text/plain": [
       "  0%|          | 0/159292 [00:00<?, ?it/s]"
      ]
     },
     "metadata": {},
     "output_type": "display_data"
    },
    {
     "data": {
      "application/vnd.jupyter.widget-view+json": {
       "model_id": "3dcea9d59c2a499ca8dc90153d7a287b",
       "version_major": 2,
       "version_minor": 0
      },
      "text/plain": [
       "  0%|          | 0/159292 [00:00<?, ?it/s]"
      ]
     },
     "metadata": {},
     "output_type": "display_data"
    }
   ],
   "source": [
    "tqdm.pandas()\n",
    "\n",
    "# Очистка\n",
    "df['clean_text'] = df['text'].progress_apply(clear_text)\n",
    "\n",
    "# Лемматизация\n",
    "df['lemm_text'] = lemmatize_series(df['clean_text'])"
   ]
  },
  {
   "cell_type": "markdown",
   "id": "cc387315",
   "metadata": {},
   "source": [
    "**Загрузка стопслов**"
   ]
  },
  {
   "cell_type": "code",
   "execution_count": 16,
   "id": "05962316",
   "metadata": {},
   "outputs": [],
   "source": [
    "stopwords = list(nltk_stopwords.words('english'))"
   ]
  },
  {
   "cell_type": "code",
   "execution_count": 17,
   "id": "4ae60062",
   "metadata": {
    "scrolled": true
   },
   "outputs": [
    {
     "data": {
      "text/html": [
       "<div>\n",
       "<style scoped>\n",
       "    .dataframe tbody tr th:only-of-type {\n",
       "        vertical-align: middle;\n",
       "    }\n",
       "\n",
       "    .dataframe tbody tr th {\n",
       "        vertical-align: top;\n",
       "    }\n",
       "\n",
       "    .dataframe thead th {\n",
       "        text-align: right;\n",
       "    }\n",
       "</style>\n",
       "<table border=\"1\" class=\"dataframe\">\n",
       "  <thead>\n",
       "    <tr style=\"text-align: right;\">\n",
       "      <th></th>\n",
       "      <th>text</th>\n",
       "      <th>toxic</th>\n",
       "      <th>clean_text</th>\n",
       "      <th>lemm_text</th>\n",
       "    </tr>\n",
       "  </thead>\n",
       "  <tbody>\n",
       "    <tr>\n",
       "      <th>0</th>\n",
       "      <td>Explanation\\nWhy the edits made under my usern...</td>\n",
       "      <td>0</td>\n",
       "      <td>explanation why the edits made under my userna...</td>\n",
       "      <td>explanation why the edit make under my usernam...</td>\n",
       "    </tr>\n",
       "    <tr>\n",
       "      <th>1</th>\n",
       "      <td>D'aww! He matches this background colour I'm s...</td>\n",
       "      <td>0</td>\n",
       "      <td>d'aww he matches this background colour i'm se...</td>\n",
       "      <td>d'aww he match this background colour I be see...</td>\n",
       "    </tr>\n",
       "    <tr>\n",
       "      <th>2</th>\n",
       "      <td>Hey man, I'm really not trying to edit war. It...</td>\n",
       "      <td>0</td>\n",
       "      <td>hey man i'm really not trying to edit war it's...</td>\n",
       "      <td>hey man I be really not try to edit war it be ...</td>\n",
       "    </tr>\n",
       "    <tr>\n",
       "      <th>3</th>\n",
       "      <td>\"\\nMore\\nI can't make any real suggestions on ...</td>\n",
       "      <td>0</td>\n",
       "      <td>more i can't make any real suggestions on impr...</td>\n",
       "      <td>more I can not make any real suggestion on imp...</td>\n",
       "    </tr>\n",
       "    <tr>\n",
       "      <th>4</th>\n",
       "      <td>You, sir, are my hero. Any chance you remember...</td>\n",
       "      <td>0</td>\n",
       "      <td>you sir are my hero any chance you remember wh...</td>\n",
       "      <td>you sir be my hero any chance you remember wha...</td>\n",
       "    </tr>\n",
       "  </tbody>\n",
       "</table>\n",
       "</div>"
      ],
      "text/plain": [
       "                                                text  toxic  \\\n",
       "0  Explanation\\nWhy the edits made under my usern...      0   \n",
       "1  D'aww! He matches this background colour I'm s...      0   \n",
       "2  Hey man, I'm really not trying to edit war. It...      0   \n",
       "3  \"\\nMore\\nI can't make any real suggestions on ...      0   \n",
       "4  You, sir, are my hero. Any chance you remember...      0   \n",
       "\n",
       "                                          clean_text  \\\n",
       "0  explanation why the edits made under my userna...   \n",
       "1  d'aww he matches this background colour i'm se...   \n",
       "2  hey man i'm really not trying to edit war it's...   \n",
       "3  more i can't make any real suggestions on impr...   \n",
       "4  you sir are my hero any chance you remember wh...   \n",
       "\n",
       "                                           lemm_text  \n",
       "0  explanation why the edit make under my usernam...  \n",
       "1  d'aww he match this background colour I be see...  \n",
       "2  hey man I be really not try to edit war it be ...  \n",
       "3  more I can not make any real suggestion on imp...  \n",
       "4  you sir be my hero any chance you remember wha...  "
      ]
     },
     "execution_count": 17,
     "metadata": {},
     "output_type": "execute_result"
    }
   ],
   "source": [
    "df.head(5)"
   ]
  },
  {
   "cell_type": "markdown",
   "id": "71d62df7",
   "metadata": {},
   "source": [
    "**Вывод**\n",
    "\n",
    "Были подготовлены и лемматизированы данные с помощью библиотеки `spacy`, для дальнейшего обучения модели машинного обучения."
   ]
  },
  {
   "cell_type": "markdown",
   "id": "53c8c373",
   "metadata": {},
   "source": [
    "## Машинное обучение"
   ]
  },
  {
   "cell_type": "markdown",
   "id": "195f91bd",
   "metadata": {},
   "source": [
    "### Классификация с помощью TfidfVectorizer"
   ]
  },
  {
   "cell_type": "code",
   "execution_count": 18,
   "id": "d247d2ce",
   "metadata": {},
   "outputs": [],
   "source": [
    "X_train, X_valid, y_train, y_valid = train_test_split(\n",
    "    df['lemm_text'],\n",
    "    df['toxic'],\n",
    "    test_size=TEST_SIZE,\n",
    "    stratify=df['toxic'],\n",
    "    random_state=RANDOM_STATE\n",
    ")"
   ]
  },
  {
   "cell_type": "code",
   "execution_count": 19,
   "id": "1229a3c5",
   "metadata": {},
   "outputs": [],
   "source": [
    "pipe = Pipeline([\n",
    "    ('tfidf', TfidfVectorizer(\n",
    "        ngram_range=(1, 2),\n",
    "        stop_words=stopwords, \n",
    "        min_df=3,\n",
    "        max_df=0.9,\n",
    "        strip_accents='unicode',\n",
    "        use_idf=True,\n",
    "        smooth_idf=True,\n",
    "        sublinear_tf=True\n",
    "    )),\n",
    "    ('model', LogisticRegression(random_state=RANDOM_STATE, solver='liblinear', max_iter=1000))\n",
    "])"
   ]
  },
  {
   "cell_type": "code",
   "execution_count": 20,
   "id": "857b33a2",
   "metadata": {},
   "outputs": [],
   "source": [
    "param_grid = [\n",
    "    {\n",
    "        'model': [LogisticRegression(random_state=RANDOM_STATE,\n",
    "                                     solver='liblinear',\n",
    "                                     max_iter=1000)]\n",
    "    },\n",
    "    {\n",
    "        'model': [DecisionTreeClassifier(random_state=RANDOM_STATE)],\n",
    "        'model__max_depth': [3, 5],\n",
    "        'model__min_samples_split': [2],\n",
    "        'model__min_samples_leaf': [2],\n",
    "    },\n",
    "    {\n",
    "        'model': [\n",
    "            cb.CatBoostClassifier(\n",
    "                random_state=RANDOM_STATE,\n",
    "                verbose=100,\n",
    "                iterations=1000,\n",
    "                loss_function='Logloss',\n",
    "                custom_metric='F1'\n",
    "            )\n",
    "        ]\n",
    "    }\n",
    "]"
   ]
  },
  {
   "cell_type": "code",
   "execution_count": 21,
   "id": "673b45fb",
   "metadata": {
    "scrolled": true
   },
   "outputs": [
    {
     "name": "stdout",
     "output_type": "stream",
     "text": [
      "Fitting 3 folds for each of 4 candidates, totalling 12 fits\n",
      "Learning rate set to 0.066793\n",
      "0:\tlearn: 0.6238119\ttotal: 1.07s\tremaining: 17m 45s\n",
      "100:\tlearn: 0.1759196\ttotal: 1m 46s\tremaining: 15m 49s\n",
      "200:\tlearn: 0.1530291\ttotal: 3m 33s\tremaining: 14m 7s\n",
      "300:\tlearn: 0.1390871\ttotal: 5m 19s\tremaining: 12m 21s\n",
      "400:\tlearn: 0.1297435\ttotal: 7m 5s\tremaining: 10m 35s\n",
      "500:\tlearn: 0.1230674\ttotal: 8m 50s\tremaining: 8m 48s\n",
      "600:\tlearn: 0.1177862\ttotal: 10m 36s\tremaining: 7m 2s\n",
      "700:\tlearn: 0.1132347\ttotal: 12m 22s\tremaining: 5m 16s\n",
      "800:\tlearn: 0.1092026\ttotal: 14m 7s\tremaining: 3m 30s\n",
      "900:\tlearn: 0.1054997\ttotal: 15m 53s\tremaining: 1m 44s\n",
      "999:\tlearn: 0.1023066\ttotal: 17m 37s\tremaining: 0us\n",
      "Learning rate set to 0.066793\n",
      "0:\tlearn: 0.6243488\ttotal: 849ms\tremaining: 14m 8s\n",
      "100:\tlearn: 0.1768144\ttotal: 1m 24s\tremaining: 12m 34s\n",
      "200:\tlearn: 0.1539520\ttotal: 2m 48s\tremaining: 11m 11s\n",
      "300:\tlearn: 0.1401189\ttotal: 4m 12s\tremaining: 9m 46s\n",
      "400:\tlearn: 0.1306427\ttotal: 5m 35s\tremaining: 8m 21s\n",
      "500:\tlearn: 0.1237668\ttotal: 6m 59s\tremaining: 6m 57s\n",
      "600:\tlearn: 0.1188866\ttotal: 8m 22s\tremaining: 5m 33s\n",
      "700:\tlearn: 0.1144021\ttotal: 9m 50s\tremaining: 4m 11s\n",
      "800:\tlearn: 0.1104527\ttotal: 11m 18s\tremaining: 2m 48s\n",
      "900:\tlearn: 0.1065270\ttotal: 12m 45s\tremaining: 1m 24s\n",
      "999:\tlearn: 0.1031782\ttotal: 14m 11s\tremaining: 0us\n",
      "Learning rate set to 0.066793\n",
      "0:\tlearn: 0.6245947\ttotal: 995ms\tremaining: 16m 33s\n",
      "100:\tlearn: 0.1744060\ttotal: 1m 29s\tremaining: 13m 12s\n",
      "200:\tlearn: 0.1516841\ttotal: 2m 56s\tremaining: 11m 40s\n",
      "300:\tlearn: 0.1380583\ttotal: 4m 24s\tremaining: 10m 13s\n",
      "400:\tlearn: 0.1289538\ttotal: 5m 51s\tremaining: 8m 45s\n",
      "500:\tlearn: 0.1221452\ttotal: 7m 17s\tremaining: 7m 16s\n",
      "600:\tlearn: 0.1173256\ttotal: 8m 43s\tremaining: 5m 47s\n",
      "700:\tlearn: 0.1129846\ttotal: 10m 9s\tremaining: 4m 19s\n",
      "800:\tlearn: 0.1091309\ttotal: 11m 35s\tremaining: 2m 52s\n",
      "900:\tlearn: 0.1052099\ttotal: 13m 1s\tremaining: 1m 25s\n",
      "999:\tlearn: 0.1021253\ttotal: 14m 26s\tremaining: 0us\n",
      "Learning rate set to 0.079419\n",
      "0:\tlearn: 0.6148752\ttotal: 1.36s\tremaining: 22m 43s\n",
      "100:\tlearn: 0.1704797\ttotal: 2m 12s\tremaining: 19m 43s\n",
      "200:\tlearn: 0.1480955\ttotal: 4m 24s\tremaining: 17m 29s\n",
      "300:\tlearn: 0.1348994\ttotal: 6m 34s\tremaining: 15m 15s\n",
      "400:\tlearn: 0.1266014\ttotal: 8m 43s\tremaining: 13m 2s\n",
      "500:\tlearn: 0.1203126\ttotal: 10m 53s\tremaining: 10m 51s\n",
      "600:\tlearn: 0.1156247\ttotal: 13m 3s\tremaining: 8m 40s\n",
      "700:\tlearn: 0.1115924\ttotal: 15m 13s\tremaining: 6m 29s\n",
      "800:\tlearn: 0.1082194\ttotal: 17m 22s\tremaining: 4m 18s\n",
      "900:\tlearn: 0.1049082\ttotal: 19m 32s\tremaining: 2m 8s\n",
      "999:\tlearn: 0.1019890\ttotal: 21m 40s\tremaining: 0us\n"
     ]
    }
   ],
   "source": [
    "# Измерение времени обучения\n",
    "start_time = time.time()\n",
    "\n",
    "clf_ntlk = GridSearchCV(\n",
    "    pipe,\n",
    "    param_grid=param_grid, \n",
    "    scoring='f1', \n",
    "    cv=3, \n",
    "    verbose=True, \n",
    "    n_jobs=1\n",
    ")\n",
    "\n",
    "clf_ntlk.fit(X_train, y_train)\n",
    "training_time_clf = time.time() - start_time"
   ]
  },
  {
   "cell_type": "code",
   "execution_count": 34,
   "id": "e69c53c9",
   "metadata": {},
   "outputs": [
    {
     "name": "stdout",
     "output_type": "stream",
     "text": [
      "1.1732465671830707\n"
     ]
    }
   ],
   "source": [
    "print(training_time_clf / 3600)"
   ]
  },
  {
   "cell_type": "code",
   "execution_count": 23,
   "id": "d21e7aee",
   "metadata": {},
   "outputs": [
    {
     "name": "stdout",
     "output_type": "stream",
     "text": [
      "Лучший результат F1_score: 0.756\n",
      "Лучшие параметры: {'model': <catboost.core.CatBoostClassifier object at 0x00000151BE1E85E0>}\n"
     ]
    }
   ],
   "source": [
    "print(f\"Лучший результат F1_score: {clf_ntlk.best_score_:.3f}\")\n",
    "print(\"Лучшие параметры:\", clf_ntlk.best_params_)"
   ]
  },
  {
   "cell_type": "code",
   "execution_count": 24,
   "id": "f52431a7",
   "metadata": {},
   "outputs": [
    {
     "name": "stdout",
     "output_type": "stream",
     "text": [
      "✅ F1_score на валидационных данных: 0.761\n"
     ]
    }
   ],
   "source": [
    "# Оценка на валидационной выборке\n",
    "best_model = clf_ntlk.best_estimator_\n",
    "y_pred = best_model.predict(X_valid)\n",
    "f1 = f1_score(y_valid, y_pred)\n",
    "print(f\"✅ F1_score на валидационных данных: {f1:.3f}\")"
   ]
  },
  {
   "cell_type": "markdown",
   "id": "846e6209",
   "metadata": {},
   "source": [
    "**Вывод**\n",
    "\n",
    "- Были обучены 3 модели (`LogisticRegression`, `DecisionTreeClassifier`, `CatBoostClassifier`) с подбором гиперпараметров;\n",
    "- Лучшей моделью оказалась `CatBoostClassifier` с метрикой `f1_score = 0.756` на тренировочной выборке и `f1_score = 0.761` на валидационной;\n",
    "- Время обучения модели - 1.17 часа;\n",
    "- Полученное значение `f1_score` на валидационной выборке, удовлетворяет требованию - быть не менее 0.75."
   ]
  },
  {
   "cell_type": "markdown",
   "id": "fe5b555c",
   "metadata": {},
   "source": [
    "### Классификация с помощью нейросети BERT"
   ]
  },
  {
   "cell_type": "code",
   "execution_count": 25,
   "id": "464879f6",
   "metadata": {},
   "outputs": [],
   "source": [
    "# Разделение изначального датасета на train и val\n",
    "train_df, val_df = train_test_split(\n",
    "    df, test_size=TEST_SIZE, stratify=df['toxic'], random_state=RANDOM_STATE\n",
    ")"
   ]
  },
  {
   "cell_type": "code",
   "execution_count": 26,
   "id": "3e6b4487",
   "metadata": {},
   "outputs": [
    {
     "name": "stdout",
     "output_type": "stream",
     "text": [
      "Using device: cuda\n",
      "True\n",
      "12.1\n"
     ]
    }
   ],
   "source": [
    "# Инициализация токенизатора\n",
    "tokenizer = DistilBertTokenizer.from_pretrained('distilbert-base-uncased')\n",
    "device = torch.device(\"cuda\" if torch.cuda.is_available() else \"cpu\")\n",
    "\n",
    "# Проверка на работу cuda ядер\n",
    "print(\"Using device:\", device)\n",
    "\n",
    "print(torch.cuda.is_available())\n",
    "print(torch.version.cuda)"
   ]
  },
  {
   "cell_type": "markdown",
   "id": "ce3ced42",
   "metadata": {},
   "source": [
    "**Инициализация модели DistilBertForSequenceClassification**"
   ]
  },
  {
   "cell_type": "code",
   "execution_count": 27,
   "id": "d3b47157",
   "metadata": {},
   "outputs": [],
   "source": [
    "def model_init():\n",
    "    return DistilBertForSequenceClassification.from_pretrained(\n",
    "        'distilbert-base-uncased',\n",
    "        num_labels=2\n",
    "    )"
   ]
  },
  {
   "cell_type": "code",
   "execution_count": 28,
   "id": "f7422269",
   "metadata": {},
   "outputs": [],
   "source": [
    "# Определение параметров\n",
    "BATCH_SIZE = BATCH_SIZE\n",
    "RANDOM_STATE = RANDOM_STATE\n",
    "MAX_LENGTH = 128\n",
    "NUM_EPOCHS = 1"
   ]
  },
  {
   "cell_type": "code",
   "execution_count": 29,
   "id": "9c916fbc",
   "metadata": {},
   "outputs": [],
   "source": [
    "# 🔹 Функция токенизации и кодирования текстов\n",
    "def tokenize_and_encode(tokenizer, texts, labels, max_length=MAX_LENGTH):\n",
    "    input_ids = []\n",
    "    attention_masks = []\n",
    "\n",
    "    for text in texts:\n",
    "        # Токенизация текста и преобразование в тензоры\n",
    "        encoded = tokenizer.encode_plus(\n",
    "            text,\n",
    "            add_special_tokens=True,      # Добавляем спец. токены ([CLS], [SEP])\n",
    "            max_length=max_length,        # Максимальная длина текста\n",
    "            padding='max_length',         # Дополнение до max_length\n",
    "            truncation=True,              # Обрезка слишком длинных текстов\n",
    "            return_attention_mask=True,   # Маска внимания\n",
    "            return_tensors='pt'           # Вывод в формате PyTorch Tensor\n",
    "        )\n",
    "        input_ids.append(encoded['input_ids'])\n",
    "        attention_masks.append(encoded['attention_mask'])\n",
    "\n",
    "    # Объединяем тензоры по размерности 0 (батчи)\n",
    "    input_ids = torch.cat(input_ids, dim=0)\n",
    "    attention_masks = torch.cat(attention_masks, dim=0)\n",
    "    labels = torch.tensor(labels.values, dtype=torch.long)\n",
    "\n",
    "    return input_ids, attention_masks, labels\n",
    "\n",
    "# 🔹 Функция обучения модели на одном фолде\n",
    "def train_model(model, dataloader, optimizer, device, num_epochs):\n",
    "    model.train()  # Переводим модель в режим обучения\n",
    "    loss_fn = torch.nn.CrossEntropyLoss()  # Используем функцию потерь для классификации\n",
    "\n",
    "    for epoch in range(num_epochs):\n",
    "        total_loss = 0  # Суммарный лосс за эпоху\n",
    "\n",
    "        for batch in tqdm(dataloader, desc=f\"Epoch {epoch + 1}/{num_epochs}\"):\n",
    "            # Загружаем батч на GPU/CPU\n",
    "            input_ids, attention_mask, labels = [b.to(device) for b in batch]\n",
    "\n",
    "            optimizer.zero_grad()  # Обнуляем градиенты\n",
    "            outputs = model(input_ids, attention_mask=attention_mask)  # Прямой проход\n",
    "            logits = outputs.logits  # Предсказания\n",
    "\n",
    "            loss = loss_fn(logits, labels)  # Вычисляем лосс\n",
    "            loss.backward()  # Обратное распространение ошибки\n",
    "            optimizer.step()  # Обновляем веса\n",
    "\n",
    "            total_loss += loss.item()  # Сохраняем значение лосса\n",
    "\n",
    "        avg_loss = total_loss / len(dataloader)\n",
    "        print(f\"🟩 Epoch {epoch + 1} — Average Loss: {avg_loss:.4f}\")\n",
    "\n",
    "# 🔹 Основная функция: K-Fold кросс-валидация + финальное тестирование\n",
    "def run_kfold_cv(train_df, val_df, tokenizer, device, model_init,\n",
    "                 k_folds=5, batch_size=16, num_epochs=3, max_length=128):\n",
    "\n",
    "    skf = StratifiedKFold(n_splits=k_folds, shuffle=True, random_state=42)\n",
    "    train_f1_scores = []\n",
    "\n",
    "    # ✅ Предобработка валидационного датасета (один раз)\n",
    "    val_input_ids, val_attention_masks, val_labels = tokenize_and_encode(tokenizer, val_df['text'], val_df['toxic'], max_length)\n",
    "    val_dataset = TensorDataset(val_input_ids, val_attention_masks, val_labels)\n",
    "    val_loader = DataLoader(val_dataset, batch_size=batch_size, shuffle=False)\n",
    "\n",
    "    for fold, (train_idx, _) in enumerate(skf.split(train_df['text'], train_df['toxic'])):\n",
    "        print(f'\\n====================== Fold {fold + 1}/{k_folds} ======================')\n",
    "\n",
    "        # 🔄 Получаем подмножество данных для текущего фолда\n",
    "        X_train = train_df.iloc[train_idx]['text']\n",
    "        y_train = train_df.iloc[train_idx]['toxic']\n",
    "\n",
    "        # Токенизация тренировочной части\n",
    "        train_input_ids, train_attention_masks, train_labels = tokenize_and_encode(tokenizer, X_train, y_train, max_length)\n",
    "        train_dataset = TensorDataset(train_input_ids, train_attention_masks, train_labels)\n",
    "        train_loader = DataLoader(train_dataset, batch_size=batch_size, shuffle=True)\n",
    "\n",
    "        # 🎯 Инициализация новой модели и оптимизатора\n",
    "        model = model_init().to(device)\n",
    "        optimizer = AdamW(model.parameters(), lr=2e-5)\n",
    "\n",
    "        # 🔧 Обучаем модель\n",
    "        train_model(model, train_loader, optimizer, device, num_epochs)\n",
    "\n",
    "        # 📊 F1 на обучающей части\n",
    "        model.eval()\n",
    "        all_train_preds = []\n",
    "        all_train_labels = []\n",
    "\n",
    "        with torch.no_grad():\n",
    "            for batch in train_loader:\n",
    "                input_ids, attention_mask, labels_batch = [b.to(device) for b in batch]\n",
    "                outputs = model(input_ids, attention_mask=attention_mask)\n",
    "                preds = torch.argmax(outputs.logits, dim=1)\n",
    "\n",
    "                all_train_preds.extend(preds.cpu().numpy())\n",
    "                all_train_labels.extend(labels_batch.cpu().numpy())\n",
    "\n",
    "        train_fold_f1 = f1_score(all_train_labels, all_train_preds)\n",
    "        print(f'📌 Fold {fold + 1} F1-score (train): {train_fold_f1:.4f}')\n",
    "        train_f1_scores.append(train_fold_f1)\n",
    "\n",
    "    # 🧪 Финальная валидация\n",
    "    val_preds = []\n",
    "    val_labels = []\n",
    "\n",
    "    with torch.no_grad():\n",
    "        for batch in val_loader:\n",
    "            input_ids, attention_mask, labels_batch = [b.to(device) for b in batch]\n",
    "            outputs = model(input_ids, attention_mask=attention_mask)\n",
    "            preds = torch.argmax(outputs.logits, dim=1)\n",
    "\n",
    "            val_preds.extend(preds.cpu().numpy())\n",
    "            val_labels.extend(labels_batch.cpu().numpy())\n",
    "\n",
    "    val_f1 = f1_score(val_labels, val_preds)\n",
    "\n",
    "    # 📈 Вывод результатов\n",
    "    print(f'\\n✅ Средний F1-score по {k_folds} фолдам (train): {np.mean(train_f1_scores):.4f}')\n",
    "    print(f'✅ F1-score на валидационной выборке: {val_f1:.4f}')\n",
    "\n",
    "    # 💾 Сохраняем обученную модель и токенизатор\n",
    "    final_model_path = \"final_model\"\n",
    "    os.makedirs(final_model_path, exist_ok=True)\n",
    "    model.save_pretrained(final_model_path)\n",
    "    tokenizer.save_pretrained(final_model_path)\n",
    "    print(f'\\n💾 Модель и токенизатор сохранены в: {final_model_path}')\n",
    "\n",
    "    return train_f1_scores, val_f1"
   ]
  },
  {
   "cell_type": "code",
   "execution_count": 31,
   "id": "f5e0c2e6",
   "metadata": {},
   "outputs": [
    {
     "name": "stdout",
     "output_type": "stream",
     "text": [
      "\n",
      "====================== Fold 1/3 ======================\n"
     ]
    },
    {
     "name": "stderr",
     "output_type": "stream",
     "text": [
      "Some weights of DistilBertForSequenceClassification were not initialized from the model checkpoint at distilbert-base-uncased and are newly initialized: ['classifier.bias', 'classifier.weight', 'pre_classifier.bias', 'pre_classifier.weight']\n",
      "You should probably TRAIN this model on a down-stream task to be able to use it for predictions and inference.\n"
     ]
    },
    {
     "data": {
      "application/vnd.jupyter.widget-view+json": {
       "model_id": "c4f85e116db446a798d54004595141d3",
       "version_major": 2,
       "version_minor": 0
      },
      "text/plain": [
       "Epoch 1/1:   0%|          | 0/2489 [00:00<?, ?it/s]"
      ]
     },
     "metadata": {},
     "output_type": "display_data"
    },
    {
     "name": "stdout",
     "output_type": "stream",
     "text": [
      "🟩 Epoch 1 — Average Loss: 0.0997\n",
      "📌 Fold 1 F1-score (train): 0.8754\n",
      "\n",
      "====================== Fold 2/3 ======================\n"
     ]
    },
    {
     "name": "stderr",
     "output_type": "stream",
     "text": [
      "Some weights of DistilBertForSequenceClassification were not initialized from the model checkpoint at distilbert-base-uncased and are newly initialized: ['classifier.bias', 'classifier.weight', 'pre_classifier.bias', 'pre_classifier.weight']\n",
      "You should probably TRAIN this model on a down-stream task to be able to use it for predictions and inference.\n"
     ]
    },
    {
     "data": {
      "application/vnd.jupyter.widget-view+json": {
       "model_id": "e5dbd227ca7e49208db5bb7fb9c4c722",
       "version_major": 2,
       "version_minor": 0
      },
      "text/plain": [
       "Epoch 1/1:   0%|          | 0/2489 [00:00<?, ?it/s]"
      ]
     },
     "metadata": {},
     "output_type": "display_data"
    },
    {
     "name": "stdout",
     "output_type": "stream",
     "text": [
      "🟩 Epoch 1 — Average Loss: 0.1036\n",
      "📌 Fold 2 F1-score (train): 0.8948\n",
      "\n",
      "====================== Fold 3/3 ======================\n"
     ]
    },
    {
     "name": "stderr",
     "output_type": "stream",
     "text": [
      "Some weights of DistilBertForSequenceClassification were not initialized from the model checkpoint at distilbert-base-uncased and are newly initialized: ['classifier.bias', 'classifier.weight', 'pre_classifier.bias', 'pre_classifier.weight']\n",
      "You should probably TRAIN this model on a down-stream task to be able to use it for predictions and inference.\n"
     ]
    },
    {
     "data": {
      "application/vnd.jupyter.widget-view+json": {
       "model_id": "dcf8ef05fae84deeaaa712fae559ca1b",
       "version_major": 2,
       "version_minor": 0
      },
      "text/plain": [
       "Epoch 1/1:   0%|          | 0/2489 [00:00<?, ?it/s]"
      ]
     },
     "metadata": {},
     "output_type": "display_data"
    },
    {
     "name": "stdout",
     "output_type": "stream",
     "text": [
      "🟩 Epoch 1 — Average Loss: 0.1008\n",
      "📌 Fold 3 F1-score (train): 0.8784\n",
      "\n",
      "✅ Средний F1-score по 3 фолдам (train): 0.8829\n",
      "✅ F1-score на валидационной выборке: 0.8147\n",
      "\n",
      "💾 Модель и токенизатор сохранены в: final_model\n"
     ]
    }
   ],
   "source": [
    "# Измерение времени обучения\n",
    "start_time = time.time()\n",
    "\n",
    "f1_train_list, f1_val = run_kfold_cv(\n",
    "    train_df,\n",
    "    val_df,\n",
    "    tokenizer,\n",
    "    device,\n",
    "    model_init=model_init,  \n",
    "    k_folds=3,\n",
    "    batch_size=BATCH_SIZE,\n",
    "    num_epochs=NUM_EPOCHS,\n",
    "    max_length=MAX_LENGTH\n",
    ")\n",
    "\n",
    "training_time_bert = time.time() - start_time"
   ]
  },
  {
   "cell_type": "code",
   "execution_count": 33,
   "id": "2d102b8f",
   "metadata": {},
   "outputs": [
    {
     "name": "stdout",
     "output_type": "stream",
     "text": [
      "3.6676002035538358\n"
     ]
    }
   ],
   "source": [
    "print(training_time_bert / 3600)"
   ]
  },
  {
   "cell_type": "markdown",
   "id": "5de82d5d",
   "metadata": {},
   "source": [
    "**Вывод**\n",
    "\n",
    "- Модель DistilBert справилась с классификацией лучше, ее метрика на тренировочной выборке `f1_score=0.8829`, а на валидационной `f1_score=0.8147`.\n",
    "- Время обучения модели 3.67 часа."
   ]
  },
  {
   "cell_type": "markdown",
   "id": "b7cd2179",
   "metadata": {},
   "source": [
    "## Общий вывод"
   ]
  },
  {
   "cell_type": "markdown",
   "id": "38c77186",
   "metadata": {},
   "source": [
    "1. Загружены данные с комментариями магазина «Викишоп».\n",
    "2. Был проведен анализ данных в ходе которого не было обнаружено пропусков и дубликатов.\n",
    "3. Удален дублирующий столбец `Unnamed: 0` содержащий индексы.\n",
    "4. Были подготовлены и лемматизированы данные с помощью библиотеки `spacy`, для дальнейшего обучения модели машинного обучения.\n",
    "5. Были обучены 3 модели (`LogisticRegression`, `DecisionTreeClassifier`, `CatBoostClassifier`) с подбором гиперпараметров:\n",
    "    - Лучшей моделью оказалась `CatBoostClassifier` с метрикой `f1_score = 0.756` на тренировочной выборке и `f1_score = 0.761` на валидационной;\n",
    "    - Время обучения модели - 1.17 часа;\n",
    "    - Полученное значение `f1_score` на валидационной выборке, удовлетворяет требованию - быть не менее 0.75.\n",
    "6. Была обучена 1 модель с нейросетью DistilBert:\n",
    "    - Метрика на тренировочной выборке `f1_score=0.8829`, а на валидационной `f1_score=0.8147`;\n",
    "    - Время обучения модели 3.67 часа;\n",
    "    - Полученное значение `f1_score` на валидационной выборке, удовлетворяет требованию - быть не менее 0.75.\n",
    "\n",
    "Использование моделей с нейросетями помогает улучшить качество модели, но требует больше временных затрат (примерно в 3 раза), а также ресурсов компьютера (без cuda ядер обучение длилось бы в разы дольше)."
   ]
  }
 ],
 "metadata": {
  "kernelspec": {
   "display_name": "Python 3 (ipykernel)",
   "language": "python",
   "name": "python3"
  },
  "language_info": {
   "codemirror_mode": {
    "name": "ipython",
    "version": 3
   },
   "file_extension": ".py",
   "mimetype": "text/x-python",
   "name": "python",
   "nbconvert_exporter": "python",
   "pygments_lexer": "ipython3",
   "version": "3.9.22"
  },
  "toc": {
   "base_numbering": 1,
   "nav_menu": {},
   "number_sections": true,
   "sideBar": true,
   "skip_h1_title": true,
   "title_cell": "Table of Contents",
   "title_sidebar": "Contents",
   "toc_cell": true,
   "toc_position": {},
   "toc_section_display": true,
   "toc_window_display": false
  }
 },
 "nbformat": 4,
 "nbformat_minor": 5
}
